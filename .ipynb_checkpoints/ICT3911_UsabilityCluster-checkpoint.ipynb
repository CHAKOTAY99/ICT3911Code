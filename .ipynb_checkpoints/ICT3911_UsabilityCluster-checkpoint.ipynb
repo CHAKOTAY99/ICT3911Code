{
 "cells": [
  {
   "cell_type": "code",
   "execution_count": 157,
   "metadata": {},
   "outputs": [],
   "source": [
    "import sklearn as skl\n",
    "import sys\n",
    "import matplotlib.pyplot as plt\n",
    "import pandas as pd\n",
    "import seaborn as sns\n",
    "import math\n",
    "import numpy as np\n",
    "import plotly.graph_objects as go\n",
    "import plotly.express as px\n",
    "import janitor\n",
    "import networkx as nx\n",
    "from plotly.subplots import make_subplots\n",
    "from sklearn.cluster import KMeans\n",
    "from kmodes.kprototypes import KPrototypes"
   ]
  },
  {
   "cell_type": "code",
   "execution_count": 158,
   "metadata": {},
   "outputs": [],
   "source": [
    "np.set_printoptions(threshold=sys.maxsize)"
   ]
  },
  {
   "cell_type": "code",
   "execution_count": 159,
   "metadata": {},
   "outputs": [],
   "source": [
    "df = pd.read_excel('DataVisualization.xlsx', sheet_name='QualitySheet')\n",
    "pf = pd.read_excel('DataVisualization.xlsx', sheet_name='PhaseSheet')"
   ]
  },
  {
   "cell_type": "code",
   "execution_count": 160,
   "metadata": {},
   "outputs": [],
   "source": [
    "jitteredDf = df.copy()\n",
    "sample = df.copy()\n",
    "sample = sample.drop(columns=['Quality'])"
   ]
  },
  {
   "cell_type": "code",
   "execution_count": 161,
   "metadata": {},
   "outputs": [],
   "source": [
    "sample = sample.columns.values.tolist()"
   ]
  },
  {
   "cell_type": "code",
   "execution_count": 162,
   "metadata": {},
   "outputs": [],
   "source": [
    "for f in sample:\n",
    "    jitteredDf.jitter(\n",
    "        column_name=f,\n",
    "        dest_column_name=f,\n",
    "        scale=0.5,\n",
    "        clip=None,\n",
    "        random_state=None\n",
    "    )"
   ]
  },
  {
   "cell_type": "code",
   "execution_count": 163,
   "metadata": {},
   "outputs": [],
   "source": [
    "meltedPhases = pf.melt('Procedures', var_name='Instruments')"
   ]
  },
  {
   "cell_type": "code",
   "execution_count": 164,
   "metadata": {},
   "outputs": [
    {
     "data": {
      "application/vnd.plotly.v1+json": {
       "config": {
        "plotlyServerURL": "https://plot.ly"
       },
       "data": [
        {
         "alignmentgroup": "True",
         "hovertemplate": "Procedures=Preliminary Preflight Procedure<br>Instruments=%{x}<br>value=%{y}<extra></extra>",
         "legendgroup": "",
         "marker": {
          "color": "#636efa"
         },
         "name": "",
         "offsetgroup": "",
         "orientation": "v",
         "showlegend": false,
         "textposition": "auto",
         "type": "bar",
         "x": [
          "Control Display Unit",
          "Primary Flight Display",
          "Landing Light Panel",
          "Air Conditioning Panel",
          "Pneumatics Panel",
          "Equipment Cooling",
          "Cabin Altitude Panel",
          "Cabin Pressurization Panel",
          "Audio Control Panel",
          "Navigational Radio",
          "TCAS Transponder",
          "Flight Controls Panel",
          "EFIS Control Panel",
          "Fuel Panel",
          "Engine Display"
         ],
         "xaxis": "x13",
         "y": [
          0,
          0,
          1,
          0,
          1,
          0,
          0,
          0,
          0,
          0,
          0,
          0,
          0,
          0,
          1
         ],
         "yaxis": "y13"
        },
        {
         "alignmentgroup": "True",
         "hovertemplate": "Procedures=CDU Preflight Procedure<br>Instruments=%{x}<br>value=%{y}<extra></extra>",
         "legendgroup": "",
         "marker": {
          "color": "#636efa"
         },
         "name": "",
         "offsetgroup": "",
         "orientation": "v",
         "showlegend": false,
         "textposition": "auto",
         "type": "bar",
         "x": [
          "Control Display Unit",
          "Primary Flight Display",
          "Landing Light Panel",
          "Air Conditioning Panel",
          "Pneumatics Panel",
          "Equipment Cooling",
          "Cabin Altitude Panel",
          "Cabin Pressurization Panel",
          "Audio Control Panel",
          "Navigational Radio",
          "TCAS Transponder",
          "Flight Controls Panel",
          "EFIS Control Panel",
          "Fuel Panel",
          "Engine Display"
         ],
         "xaxis": "x14",
         "y": [
          1,
          0,
          0,
          0,
          0,
          0,
          0,
          0,
          0,
          0,
          0,
          0,
          0,
          0,
          0
         ],
         "yaxis": "y14"
        },
        {
         "alignmentgroup": "True",
         "hovertemplate": "Procedures=Preflight Procedure<br>Instruments=%{x}<br>value=%{y}<extra></extra>",
         "legendgroup": "",
         "marker": {
          "color": "#636efa"
         },
         "name": "",
         "offsetgroup": "",
         "orientation": "v",
         "showlegend": false,
         "textposition": "auto",
         "type": "bar",
         "x": [
          "Control Display Unit",
          "Primary Flight Display",
          "Landing Light Panel",
          "Air Conditioning Panel",
          "Pneumatics Panel",
          "Equipment Cooling",
          "Cabin Altitude Panel",
          "Cabin Pressurization Panel",
          "Audio Control Panel",
          "Navigational Radio",
          "TCAS Transponder",
          "Flight Controls Panel",
          "EFIS Control Panel",
          "Fuel Panel",
          "Engine Display"
         ],
         "xaxis": "x11",
         "y": [
          0,
          0,
          1,
          1,
          0,
          1,
          1,
          1,
          1,
          1,
          1,
          0,
          1,
          1,
          1
         ],
         "yaxis": "y11"
        },
        {
         "alignmentgroup": "True",
         "hovertemplate": "Procedures=Before Start Procedure<br>Instruments=%{x}<br>value=%{y}<extra></extra>",
         "legendgroup": "",
         "marker": {
          "color": "#636efa"
         },
         "name": "",
         "offsetgroup": "",
         "orientation": "v",
         "showlegend": false,
         "textposition": "auto",
         "type": "bar",
         "x": [
          "Control Display Unit",
          "Primary Flight Display",
          "Landing Light Panel",
          "Air Conditioning Panel",
          "Pneumatics Panel",
          "Equipment Cooling",
          "Cabin Altitude Panel",
          "Cabin Pressurization Panel",
          "Audio Control Panel",
          "Navigational Radio",
          "TCAS Transponder",
          "Flight Controls Panel",
          "EFIS Control Panel",
          "Fuel Panel",
          "Engine Display"
         ],
         "xaxis": "x12",
         "y": [
          1,
          0,
          0,
          0,
          0,
          0,
          0,
          0,
          0,
          0,
          0,
          0,
          0,
          1,
          0
         ],
         "yaxis": "y12"
        },
        {
         "alignmentgroup": "True",
         "hovertemplate": "Procedures=Pushback or Towing Procedure<br>Instruments=%{x}<br>value=%{y}<extra></extra>",
         "legendgroup": "",
         "marker": {
          "color": "#636efa"
         },
         "name": "",
         "offsetgroup": "",
         "orientation": "v",
         "showlegend": false,
         "textposition": "auto",
         "type": "bar",
         "x": [
          "Control Display Unit",
          "Primary Flight Display",
          "Landing Light Panel",
          "Air Conditioning Panel",
          "Pneumatics Panel",
          "Equipment Cooling",
          "Cabin Altitude Panel",
          "Cabin Pressurization Panel",
          "Audio Control Panel",
          "Navigational Radio",
          "TCAS Transponder",
          "Flight Controls Panel",
          "EFIS Control Panel",
          "Fuel Panel",
          "Engine Display"
         ],
         "xaxis": "x9",
         "y": [
          0,
          0,
          0,
          0,
          0,
          0,
          0,
          0,
          0,
          0,
          0,
          0,
          0,
          0,
          0
         ],
         "yaxis": "y9"
        },
        {
         "alignmentgroup": "True",
         "hovertemplate": "Procedures=Engine Start Procedure<br>Instruments=%{x}<br>value=%{y}<extra></extra>",
         "legendgroup": "",
         "marker": {
          "color": "#636efa"
         },
         "name": "",
         "offsetgroup": "",
         "orientation": "v",
         "showlegend": false,
         "textposition": "auto",
         "type": "bar",
         "x": [
          "Control Display Unit",
          "Primary Flight Display",
          "Landing Light Panel",
          "Air Conditioning Panel",
          "Pneumatics Panel",
          "Equipment Cooling",
          "Cabin Altitude Panel",
          "Cabin Pressurization Panel",
          "Audio Control Panel",
          "Navigational Radio",
          "TCAS Transponder",
          "Flight Controls Panel",
          "EFIS Control Panel",
          "Fuel Panel",
          "Engine Display"
         ],
         "xaxis": "x10",
         "y": [
          0,
          0,
          0,
          1,
          1,
          0,
          0,
          0,
          0,
          0,
          0,
          0,
          0,
          1,
          1
         ],
         "yaxis": "y10"
        },
        {
         "alignmentgroup": "True",
         "hovertemplate": "Procedures=Before Taxi Procedure<br>Instruments=%{x}<br>value=%{y}<extra></extra>",
         "legendgroup": "",
         "marker": {
          "color": "#636efa"
         },
         "name": "",
         "offsetgroup": "",
         "orientation": "v",
         "showlegend": false,
         "textposition": "auto",
         "type": "bar",
         "x": [
          "Control Display Unit",
          "Primary Flight Display",
          "Landing Light Panel",
          "Air Conditioning Panel",
          "Pneumatics Panel",
          "Equipment Cooling",
          "Cabin Altitude Panel",
          "Cabin Pressurization Panel",
          "Audio Control Panel",
          "Navigational Radio",
          "TCAS Transponder",
          "Flight Controls Panel",
          "EFIS Control Panel",
          "Fuel Panel",
          "Engine Display"
         ],
         "xaxis": "x7",
         "y": [
          0,
          0,
          0,
          1,
          0,
          0,
          0,
          0,
          0,
          0,
          1,
          1,
          0,
          0,
          1
         ],
         "yaxis": "y7"
        },
        {
         "alignmentgroup": "True",
         "hovertemplate": "Procedures=Takeoff Procedure<br>Instruments=%{x}<br>value=%{y}<extra></extra>",
         "legendgroup": "",
         "marker": {
          "color": "#636efa"
         },
         "name": "",
         "offsetgroup": "",
         "orientation": "v",
         "showlegend": false,
         "textposition": "auto",
         "type": "bar",
         "x": [
          "Control Display Unit",
          "Primary Flight Display",
          "Landing Light Panel",
          "Air Conditioning Panel",
          "Pneumatics Panel",
          "Equipment Cooling",
          "Cabin Altitude Panel",
          "Cabin Pressurization Panel",
          "Audio Control Panel",
          "Navigational Radio",
          "TCAS Transponder",
          "Flight Controls Panel",
          "EFIS Control Panel",
          "Fuel Panel",
          "Engine Display"
         ],
         "xaxis": "x8",
         "y": [
          1,
          1,
          0,
          0,
          0,
          0,
          0,
          0,
          0,
          0,
          1,
          0,
          0,
          0,
          0
         ],
         "yaxis": "y8"
        },
        {
         "alignmentgroup": "True",
         "hovertemplate": "Procedures=Climb and Cruise Procedure<br>Instruments=%{x}<br>value=%{y}<extra></extra>",
         "legendgroup": "",
         "marker": {
          "color": "#636efa"
         },
         "name": "",
         "offsetgroup": "",
         "orientation": "v",
         "showlegend": false,
         "textposition": "auto",
         "type": "bar",
         "x": [
          "Control Display Unit",
          "Primary Flight Display",
          "Landing Light Panel",
          "Air Conditioning Panel",
          "Pneumatics Panel",
          "Equipment Cooling",
          "Cabin Altitude Panel",
          "Cabin Pressurization Panel",
          "Audio Control Panel",
          "Navigational Radio",
          "TCAS Transponder",
          "Flight Controls Panel",
          "EFIS Control Panel",
          "Fuel Panel",
          "Engine Display"
         ],
         "xaxis": "x5",
         "y": [
          0,
          1,
          1,
          0,
          0,
          0,
          1,
          1,
          0,
          0,
          0,
          0,
          0,
          1,
          0
         ],
         "yaxis": "y5"
        },
        {
         "alignmentgroup": "True",
         "hovertemplate": "Procedures=Descent Procedure<br>Instruments=%{x}<br>value=%{y}<extra></extra>",
         "legendgroup": "",
         "marker": {
          "color": "#636efa"
         },
         "name": "",
         "offsetgroup": "",
         "orientation": "v",
         "showlegend": false,
         "textposition": "auto",
         "type": "bar",
         "x": [
          "Control Display Unit",
          "Primary Flight Display",
          "Landing Light Panel",
          "Air Conditioning Panel",
          "Pneumatics Panel",
          "Equipment Cooling",
          "Cabin Altitude Panel",
          "Cabin Pressurization Panel",
          "Audio Control Panel",
          "Navigational Radio",
          "TCAS Transponder",
          "Flight Controls Panel",
          "EFIS Control Panel",
          "Fuel Panel",
          "Engine Display"
         ],
         "xaxis": "x6",
         "y": [
          0,
          1,
          1,
          0,
          0,
          0,
          0,
          0,
          0,
          1,
          0,
          0,
          0,
          1,
          0
         ],
         "yaxis": "y6"
        },
        {
         "alignmentgroup": "True",
         "hovertemplate": "Procedures=Approach Procedure<br>Instruments=%{x}<br>value=%{y}<extra></extra>",
         "legendgroup": "",
         "marker": {
          "color": "#636efa"
         },
         "name": "",
         "offsetgroup": "",
         "orientation": "v",
         "showlegend": false,
         "textposition": "auto",
         "type": "bar",
         "x": [
          "Control Display Unit",
          "Primary Flight Display",
          "Landing Light Panel",
          "Air Conditioning Panel",
          "Pneumatics Panel",
          "Equipment Cooling",
          "Cabin Altitude Panel",
          "Cabin Pressurization Panel",
          "Audio Control Panel",
          "Navigational Radio",
          "TCAS Transponder",
          "Flight Controls Panel",
          "EFIS Control Panel",
          "Fuel Panel",
          "Engine Display"
         ],
         "xaxis": "x3",
         "y": [
          0,
          1,
          1,
          0,
          0,
          0,
          0,
          0,
          0,
          0,
          0,
          0,
          0,
          0,
          0
         ],
         "yaxis": "y3"
        },
        {
         "alignmentgroup": "True",
         "hovertemplate": "Procedures=Landing Procedure<br>Instruments=%{x}<br>value=%{y}<extra></extra>",
         "legendgroup": "",
         "marker": {
          "color": "#636efa"
         },
         "name": "",
         "offsetgroup": "",
         "orientation": "v",
         "showlegend": false,
         "textposition": "auto",
         "type": "bar",
         "x": [
          "Control Display Unit",
          "Primary Flight Display",
          "Landing Light Panel",
          "Air Conditioning Panel",
          "Pneumatics Panel",
          "Equipment Cooling",
          "Cabin Altitude Panel",
          "Cabin Pressurization Panel",
          "Audio Control Panel",
          "Navigational Radio",
          "TCAS Transponder",
          "Flight Controls Panel",
          "EFIS Control Panel",
          "Fuel Panel",
          "Engine Display"
         ],
         "xaxis": "x4",
         "y": [
          0,
          1,
          0,
          0,
          0,
          0,
          0,
          0,
          0,
          0,
          0,
          0,
          0,
          0,
          1
         ],
         "yaxis": "y4"
        },
        {
         "alignmentgroup": "True",
         "hovertemplate": "Procedures=Landing Roll Procedure<br>Instruments=%{x}<br>value=%{y}<extra></extra>",
         "legendgroup": "",
         "marker": {
          "color": "#636efa"
         },
         "name": "",
         "offsetgroup": "",
         "orientation": "v",
         "showlegend": false,
         "textposition": "auto",
         "type": "bar",
         "x": [
          "Control Display Unit",
          "Primary Flight Display",
          "Landing Light Panel",
          "Air Conditioning Panel",
          "Pneumatics Panel",
          "Equipment Cooling",
          "Cabin Altitude Panel",
          "Cabin Pressurization Panel",
          "Audio Control Panel",
          "Navigational Radio",
          "TCAS Transponder",
          "Flight Controls Panel",
          "EFIS Control Panel",
          "Fuel Panel",
          "Engine Display"
         ],
         "xaxis": "x",
         "y": [
          0,
          0,
          0,
          0,
          0,
          0,
          0,
          0,
          0,
          0,
          0,
          0,
          0,
          0,
          0
         ],
         "yaxis": "y"
        },
        {
         "alignmentgroup": "True",
         "hovertemplate": "Procedures=After Landing Procedure<br>Instruments=%{x}<br>value=%{y}<extra></extra>",
         "legendgroup": "",
         "marker": {
          "color": "#636efa"
         },
         "name": "",
         "offsetgroup": "",
         "orientation": "v",
         "showlegend": false,
         "textposition": "auto",
         "type": "bar",
         "x": [
          "Control Display Unit",
          "Primary Flight Display",
          "Landing Light Panel",
          "Air Conditioning Panel",
          "Pneumatics Panel",
          "Equipment Cooling",
          "Cabin Altitude Panel",
          "Cabin Pressurization Panel",
          "Audio Control Panel",
          "Navigational Radio",
          "TCAS Transponder",
          "Flight Controls Panel",
          "EFIS Control Panel",
          "Fuel Panel",
          "Engine Display"
         ],
         "xaxis": "x2",
         "y": [
          0,
          0,
          0,
          0,
          0,
          0,
          0,
          0,
          0,
          0,
          1,
          0,
          0,
          0,
          1
         ],
         "yaxis": "y2"
        }
       ],
       "layout": {
        "annotations": [
         {
          "font": {},
          "showarrow": false,
          "text": "Procedures=Landing Roll Procedure",
          "x": 0.245,
          "xanchor": "center",
          "xref": "paper",
          "y": 0.08285714285714285,
          "yanchor": "bottom",
          "yref": "paper"
         },
         {
          "font": {},
          "showarrow": false,
          "text": "Procedures=After Landing Procedure",
          "x": 0.755,
          "xanchor": "center",
          "xref": "paper",
          "y": 0.08285714285714285,
          "yanchor": "bottom",
          "yref": "paper"
         },
         {
          "font": {},
          "showarrow": false,
          "text": "Procedures=Approach Procedure",
          "x": 0.245,
          "xanchor": "center",
          "xref": "paper",
          "y": 0.2357142857142857,
          "yanchor": "bottom",
          "yref": "paper"
         },
         {
          "font": {},
          "showarrow": false,
          "text": "Procedures=Landing Procedure",
          "x": 0.755,
          "xanchor": "center",
          "xref": "paper",
          "y": 0.2357142857142857,
          "yanchor": "bottom",
          "yref": "paper"
         },
         {
          "font": {},
          "showarrow": false,
          "text": "Procedures=Climb and Cruise Procedure",
          "x": 0.245,
          "xanchor": "center",
          "xref": "paper",
          "y": 0.38857142857142857,
          "yanchor": "bottom",
          "yref": "paper"
         },
         {
          "font": {},
          "showarrow": false,
          "text": "Procedures=Descent Procedure",
          "x": 0.755,
          "xanchor": "center",
          "xref": "paper",
          "y": 0.38857142857142857,
          "yanchor": "bottom",
          "yref": "paper"
         },
         {
          "font": {},
          "showarrow": false,
          "text": "Procedures=Before Taxi Procedure",
          "x": 0.245,
          "xanchor": "center",
          "xref": "paper",
          "y": 0.5414285714285714,
          "yanchor": "bottom",
          "yref": "paper"
         },
         {
          "font": {},
          "showarrow": false,
          "text": "Procedures=Takeoff Procedure",
          "x": 0.755,
          "xanchor": "center",
          "xref": "paper",
          "y": 0.5414285714285714,
          "yanchor": "bottom",
          "yref": "paper"
         },
         {
          "font": {},
          "showarrow": false,
          "text": "Procedures=Pushback or Towing Procedure",
          "x": 0.245,
          "xanchor": "center",
          "xref": "paper",
          "y": 0.6942857142857143,
          "yanchor": "bottom",
          "yref": "paper"
         },
         {
          "font": {},
          "showarrow": false,
          "text": "Procedures=Engine Start Procedure",
          "x": 0.755,
          "xanchor": "center",
          "xref": "paper",
          "y": 0.6942857142857143,
          "yanchor": "bottom",
          "yref": "paper"
         },
         {
          "font": {},
          "showarrow": false,
          "text": "Procedures=Preflight Procedure",
          "x": 0.245,
          "xanchor": "center",
          "xref": "paper",
          "y": 0.8471428571428571,
          "yanchor": "bottom",
          "yref": "paper"
         },
         {
          "font": {},
          "showarrow": false,
          "text": "Procedures=Before Start Procedure",
          "x": 0.755,
          "xanchor": "center",
          "xref": "paper",
          "y": 0.8471428571428571,
          "yanchor": "bottom",
          "yref": "paper"
         },
         {
          "font": {},
          "showarrow": false,
          "text": "Procedures=Preliminary Preflight Procedure",
          "x": 0.245,
          "xanchor": "center",
          "xref": "paper",
          "y": 1,
          "yanchor": "bottom",
          "yref": "paper"
         },
         {
          "font": {},
          "showarrow": false,
          "text": "Procedures=CDU Preflight Procedure",
          "x": 0.755,
          "xanchor": "center",
          "xref": "paper",
          "y": 1,
          "yanchor": "bottom",
          "yref": "paper"
         }
        ],
        "barmode": "relative",
        "legend": {
         "tracegroupgap": 0
        },
        "margin": {
         "t": 60
        },
        "template": {
         "data": {
          "bar": [
           {
            "error_x": {
             "color": "#2a3f5f"
            },
            "error_y": {
             "color": "#2a3f5f"
            },
            "marker": {
             "line": {
              "color": "#E5ECF6",
              "width": 0.5
             }
            },
            "type": "bar"
           }
          ],
          "barpolar": [
           {
            "marker": {
             "line": {
              "color": "#E5ECF6",
              "width": 0.5
             }
            },
            "type": "barpolar"
           }
          ],
          "carpet": [
           {
            "aaxis": {
             "endlinecolor": "#2a3f5f",
             "gridcolor": "white",
             "linecolor": "white",
             "minorgridcolor": "white",
             "startlinecolor": "#2a3f5f"
            },
            "baxis": {
             "endlinecolor": "#2a3f5f",
             "gridcolor": "white",
             "linecolor": "white",
             "minorgridcolor": "white",
             "startlinecolor": "#2a3f5f"
            },
            "type": "carpet"
           }
          ],
          "choropleth": [
           {
            "colorbar": {
             "outlinewidth": 0,
             "ticks": ""
            },
            "type": "choropleth"
           }
          ],
          "contour": [
           {
            "colorbar": {
             "outlinewidth": 0,
             "ticks": ""
            },
            "colorscale": [
             [
              0,
              "#0d0887"
             ],
             [
              0.1111111111111111,
              "#46039f"
             ],
             [
              0.2222222222222222,
              "#7201a8"
             ],
             [
              0.3333333333333333,
              "#9c179e"
             ],
             [
              0.4444444444444444,
              "#bd3786"
             ],
             [
              0.5555555555555556,
              "#d8576b"
             ],
             [
              0.6666666666666666,
              "#ed7953"
             ],
             [
              0.7777777777777778,
              "#fb9f3a"
             ],
             [
              0.8888888888888888,
              "#fdca26"
             ],
             [
              1,
              "#f0f921"
             ]
            ],
            "type": "contour"
           }
          ],
          "contourcarpet": [
           {
            "colorbar": {
             "outlinewidth": 0,
             "ticks": ""
            },
            "type": "contourcarpet"
           }
          ],
          "heatmap": [
           {
            "colorbar": {
             "outlinewidth": 0,
             "ticks": ""
            },
            "colorscale": [
             [
              0,
              "#0d0887"
             ],
             [
              0.1111111111111111,
              "#46039f"
             ],
             [
              0.2222222222222222,
              "#7201a8"
             ],
             [
              0.3333333333333333,
              "#9c179e"
             ],
             [
              0.4444444444444444,
              "#bd3786"
             ],
             [
              0.5555555555555556,
              "#d8576b"
             ],
             [
              0.6666666666666666,
              "#ed7953"
             ],
             [
              0.7777777777777778,
              "#fb9f3a"
             ],
             [
              0.8888888888888888,
              "#fdca26"
             ],
             [
              1,
              "#f0f921"
             ]
            ],
            "type": "heatmap"
           }
          ],
          "heatmapgl": [
           {
            "colorbar": {
             "outlinewidth": 0,
             "ticks": ""
            },
            "colorscale": [
             [
              0,
              "#0d0887"
             ],
             [
              0.1111111111111111,
              "#46039f"
             ],
             [
              0.2222222222222222,
              "#7201a8"
             ],
             [
              0.3333333333333333,
              "#9c179e"
             ],
             [
              0.4444444444444444,
              "#bd3786"
             ],
             [
              0.5555555555555556,
              "#d8576b"
             ],
             [
              0.6666666666666666,
              "#ed7953"
             ],
             [
              0.7777777777777778,
              "#fb9f3a"
             ],
             [
              0.8888888888888888,
              "#fdca26"
             ],
             [
              1,
              "#f0f921"
             ]
            ],
            "type": "heatmapgl"
           }
          ],
          "histogram": [
           {
            "marker": {
             "colorbar": {
              "outlinewidth": 0,
              "ticks": ""
             }
            },
            "type": "histogram"
           }
          ],
          "histogram2d": [
           {
            "colorbar": {
             "outlinewidth": 0,
             "ticks": ""
            },
            "colorscale": [
             [
              0,
              "#0d0887"
             ],
             [
              0.1111111111111111,
              "#46039f"
             ],
             [
              0.2222222222222222,
              "#7201a8"
             ],
             [
              0.3333333333333333,
              "#9c179e"
             ],
             [
              0.4444444444444444,
              "#bd3786"
             ],
             [
              0.5555555555555556,
              "#d8576b"
             ],
             [
              0.6666666666666666,
              "#ed7953"
             ],
             [
              0.7777777777777778,
              "#fb9f3a"
             ],
             [
              0.8888888888888888,
              "#fdca26"
             ],
             [
              1,
              "#f0f921"
             ]
            ],
            "type": "histogram2d"
           }
          ],
          "histogram2dcontour": [
           {
            "colorbar": {
             "outlinewidth": 0,
             "ticks": ""
            },
            "colorscale": [
             [
              0,
              "#0d0887"
             ],
             [
              0.1111111111111111,
              "#46039f"
             ],
             [
              0.2222222222222222,
              "#7201a8"
             ],
             [
              0.3333333333333333,
              "#9c179e"
             ],
             [
              0.4444444444444444,
              "#bd3786"
             ],
             [
              0.5555555555555556,
              "#d8576b"
             ],
             [
              0.6666666666666666,
              "#ed7953"
             ],
             [
              0.7777777777777778,
              "#fb9f3a"
             ],
             [
              0.8888888888888888,
              "#fdca26"
             ],
             [
              1,
              "#f0f921"
             ]
            ],
            "type": "histogram2dcontour"
           }
          ],
          "mesh3d": [
           {
            "colorbar": {
             "outlinewidth": 0,
             "ticks": ""
            },
            "type": "mesh3d"
           }
          ],
          "parcoords": [
           {
            "line": {
             "colorbar": {
              "outlinewidth": 0,
              "ticks": ""
             }
            },
            "type": "parcoords"
           }
          ],
          "pie": [
           {
            "automargin": true,
            "type": "pie"
           }
          ],
          "scatter": [
           {
            "marker": {
             "colorbar": {
              "outlinewidth": 0,
              "ticks": ""
             }
            },
            "type": "scatter"
           }
          ],
          "scatter3d": [
           {
            "line": {
             "colorbar": {
              "outlinewidth": 0,
              "ticks": ""
             }
            },
            "marker": {
             "colorbar": {
              "outlinewidth": 0,
              "ticks": ""
             }
            },
            "type": "scatter3d"
           }
          ],
          "scattercarpet": [
           {
            "marker": {
             "colorbar": {
              "outlinewidth": 0,
              "ticks": ""
             }
            },
            "type": "scattercarpet"
           }
          ],
          "scattergeo": [
           {
            "marker": {
             "colorbar": {
              "outlinewidth": 0,
              "ticks": ""
             }
            },
            "type": "scattergeo"
           }
          ],
          "scattergl": [
           {
            "marker": {
             "colorbar": {
              "outlinewidth": 0,
              "ticks": ""
             }
            },
            "type": "scattergl"
           }
          ],
          "scattermapbox": [
           {
            "marker": {
             "colorbar": {
              "outlinewidth": 0,
              "ticks": ""
             }
            },
            "type": "scattermapbox"
           }
          ],
          "scatterpolar": [
           {
            "marker": {
             "colorbar": {
              "outlinewidth": 0,
              "ticks": ""
             }
            },
            "type": "scatterpolar"
           }
          ],
          "scatterpolargl": [
           {
            "marker": {
             "colorbar": {
              "outlinewidth": 0,
              "ticks": ""
             }
            },
            "type": "scatterpolargl"
           }
          ],
          "scatterternary": [
           {
            "marker": {
             "colorbar": {
              "outlinewidth": 0,
              "ticks": ""
             }
            },
            "type": "scatterternary"
           }
          ],
          "surface": [
           {
            "colorbar": {
             "outlinewidth": 0,
             "ticks": ""
            },
            "colorscale": [
             [
              0,
              "#0d0887"
             ],
             [
              0.1111111111111111,
              "#46039f"
             ],
             [
              0.2222222222222222,
              "#7201a8"
             ],
             [
              0.3333333333333333,
              "#9c179e"
             ],
             [
              0.4444444444444444,
              "#bd3786"
             ],
             [
              0.5555555555555556,
              "#d8576b"
             ],
             [
              0.6666666666666666,
              "#ed7953"
             ],
             [
              0.7777777777777778,
              "#fb9f3a"
             ],
             [
              0.8888888888888888,
              "#fdca26"
             ],
             [
              1,
              "#f0f921"
             ]
            ],
            "type": "surface"
           }
          ],
          "table": [
           {
            "cells": {
             "fill": {
              "color": "#EBF0F8"
             },
             "line": {
              "color": "white"
             }
            },
            "header": {
             "fill": {
              "color": "#C8D4E3"
             },
             "line": {
              "color": "white"
             }
            },
            "type": "table"
           }
          ]
         },
         "layout": {
          "annotationdefaults": {
           "arrowcolor": "#2a3f5f",
           "arrowhead": 0,
           "arrowwidth": 1
          },
          "coloraxis": {
           "colorbar": {
            "outlinewidth": 0,
            "ticks": ""
           }
          },
          "colorscale": {
           "diverging": [
            [
             0,
             "#8e0152"
            ],
            [
             0.1,
             "#c51b7d"
            ],
            [
             0.2,
             "#de77ae"
            ],
            [
             0.3,
             "#f1b6da"
            ],
            [
             0.4,
             "#fde0ef"
            ],
            [
             0.5,
             "#f7f7f7"
            ],
            [
             0.6,
             "#e6f5d0"
            ],
            [
             0.7,
             "#b8e186"
            ],
            [
             0.8,
             "#7fbc41"
            ],
            [
             0.9,
             "#4d9221"
            ],
            [
             1,
             "#276419"
            ]
           ],
           "sequential": [
            [
             0,
             "#0d0887"
            ],
            [
             0.1111111111111111,
             "#46039f"
            ],
            [
             0.2222222222222222,
             "#7201a8"
            ],
            [
             0.3333333333333333,
             "#9c179e"
            ],
            [
             0.4444444444444444,
             "#bd3786"
            ],
            [
             0.5555555555555556,
             "#d8576b"
            ],
            [
             0.6666666666666666,
             "#ed7953"
            ],
            [
             0.7777777777777778,
             "#fb9f3a"
            ],
            [
             0.8888888888888888,
             "#fdca26"
            ],
            [
             1,
             "#f0f921"
            ]
           ],
           "sequentialminus": [
            [
             0,
             "#0d0887"
            ],
            [
             0.1111111111111111,
             "#46039f"
            ],
            [
             0.2222222222222222,
             "#7201a8"
            ],
            [
             0.3333333333333333,
             "#9c179e"
            ],
            [
             0.4444444444444444,
             "#bd3786"
            ],
            [
             0.5555555555555556,
             "#d8576b"
            ],
            [
             0.6666666666666666,
             "#ed7953"
            ],
            [
             0.7777777777777778,
             "#fb9f3a"
            ],
            [
             0.8888888888888888,
             "#fdca26"
            ],
            [
             1,
             "#f0f921"
            ]
           ]
          },
          "colorway": [
           "#636efa",
           "#EF553B",
           "#00cc96",
           "#ab63fa",
           "#FFA15A",
           "#19d3f3",
           "#FF6692",
           "#B6E880",
           "#FF97FF",
           "#FECB52"
          ],
          "font": {
           "color": "#2a3f5f"
          },
          "geo": {
           "bgcolor": "white",
           "lakecolor": "white",
           "landcolor": "#E5ECF6",
           "showlakes": true,
           "showland": true,
           "subunitcolor": "white"
          },
          "hoverlabel": {
           "align": "left"
          },
          "hovermode": "closest",
          "mapbox": {
           "style": "light"
          },
          "paper_bgcolor": "white",
          "plot_bgcolor": "#E5ECF6",
          "polar": {
           "angularaxis": {
            "gridcolor": "white",
            "linecolor": "white",
            "ticks": ""
           },
           "bgcolor": "#E5ECF6",
           "radialaxis": {
            "gridcolor": "white",
            "linecolor": "white",
            "ticks": ""
           }
          },
          "scene": {
           "xaxis": {
            "backgroundcolor": "#E5ECF6",
            "gridcolor": "white",
            "gridwidth": 2,
            "linecolor": "white",
            "showbackground": true,
            "ticks": "",
            "zerolinecolor": "white"
           },
           "yaxis": {
            "backgroundcolor": "#E5ECF6",
            "gridcolor": "white",
            "gridwidth": 2,
            "linecolor": "white",
            "showbackground": true,
            "ticks": "",
            "zerolinecolor": "white"
           },
           "zaxis": {
            "backgroundcolor": "#E5ECF6",
            "gridcolor": "white",
            "gridwidth": 2,
            "linecolor": "white",
            "showbackground": true,
            "ticks": "",
            "zerolinecolor": "white"
           }
          },
          "shapedefaults": {
           "line": {
            "color": "#2a3f5f"
           }
          },
          "ternary": {
           "aaxis": {
            "gridcolor": "white",
            "linecolor": "white",
            "ticks": ""
           },
           "baxis": {
            "gridcolor": "white",
            "linecolor": "white",
            "ticks": ""
           },
           "bgcolor": "#E5ECF6",
           "caxis": {
            "gridcolor": "white",
            "linecolor": "white",
            "ticks": ""
           }
          },
          "title": {
           "x": 0.05
          },
          "xaxis": {
           "automargin": true,
           "gridcolor": "white",
           "linecolor": "white",
           "ticks": "",
           "title": {
            "standoff": 15
           },
           "zerolinecolor": "white",
           "zerolinewidth": 2
          },
          "yaxis": {
           "automargin": true,
           "gridcolor": "white",
           "linecolor": "white",
           "ticks": "",
           "title": {
            "standoff": 15
           },
           "zerolinecolor": "white",
           "zerolinewidth": 2
          }
         }
        },
        "xaxis": {
         "anchor": "y",
         "domain": [
          0,
          0.49
         ],
         "title": {
          "text": "Instruments"
         }
        },
        "xaxis10": {
         "anchor": "y10",
         "domain": [
          0.51,
          1
         ],
         "matches": "x",
         "showticklabels": false
        },
        "xaxis11": {
         "anchor": "y11",
         "domain": [
          0,
          0.49
         ],
         "matches": "x",
         "showticklabels": false
        },
        "xaxis12": {
         "anchor": "y12",
         "domain": [
          0.51,
          1
         ],
         "matches": "x",
         "showticklabels": false
        },
        "xaxis13": {
         "anchor": "y13",
         "domain": [
          0,
          0.49
         ],
         "matches": "x",
         "showticklabels": false
        },
        "xaxis14": {
         "anchor": "y14",
         "domain": [
          0.51,
          1
         ],
         "matches": "x",
         "showticklabels": false
        },
        "xaxis2": {
         "anchor": "y2",
         "domain": [
          0.51,
          1
         ],
         "matches": "x",
         "title": {
          "text": "Instruments"
         }
        },
        "xaxis3": {
         "anchor": "y3",
         "domain": [
          0,
          0.49
         ],
         "matches": "x",
         "showticklabels": false
        },
        "xaxis4": {
         "anchor": "y4",
         "domain": [
          0.51,
          1
         ],
         "matches": "x",
         "showticklabels": false
        },
        "xaxis5": {
         "anchor": "y5",
         "domain": [
          0,
          0.49
         ],
         "matches": "x",
         "showticklabels": false
        },
        "xaxis6": {
         "anchor": "y6",
         "domain": [
          0.51,
          1
         ],
         "matches": "x",
         "showticklabels": false
        },
        "xaxis7": {
         "anchor": "y7",
         "domain": [
          0,
          0.49
         ],
         "matches": "x",
         "showticklabels": false
        },
        "xaxis8": {
         "anchor": "y8",
         "domain": [
          0.51,
          1
         ],
         "matches": "x",
         "showticklabels": false
        },
        "xaxis9": {
         "anchor": "y9",
         "domain": [
          0,
          0.49
         ],
         "matches": "x",
         "showticklabels": false
        },
        "yaxis": {
         "anchor": "x",
         "domain": [
          0,
          0.08285714285714285
         ],
         "nticks": 2,
         "range": [
          0,
          1
         ],
         "title": {
          "text": "value"
         }
        },
        "yaxis10": {
         "anchor": "x10",
         "domain": [
          0.6114285714285714,
          0.6942857142857143
         ],
         "matches": "y",
         "nticks": 2,
         "range": [
          0,
          1
         ],
         "showticklabels": false
        },
        "yaxis11": {
         "anchor": "x11",
         "domain": [
          0.7642857142857142,
          0.8471428571428571
         ],
         "matches": "y",
         "nticks": 2,
         "range": [
          0,
          1
         ],
         "title": {
          "text": "value"
         }
        },
        "yaxis12": {
         "anchor": "x12",
         "domain": [
          0.7642857142857142,
          0.8471428571428571
         ],
         "matches": "y",
         "nticks": 2,
         "range": [
          0,
          1
         ],
         "showticklabels": false
        },
        "yaxis13": {
         "anchor": "x13",
         "domain": [
          0.9171428571428571,
          1
         ],
         "matches": "y",
         "nticks": 2,
         "range": [
          0,
          1
         ],
         "title": {
          "text": "value"
         }
        },
        "yaxis14": {
         "anchor": "x14",
         "domain": [
          0.9171428571428571,
          1
         ],
         "matches": "y",
         "nticks": 2,
         "range": [
          0,
          1
         ],
         "showticklabels": false
        },
        "yaxis2": {
         "anchor": "x2",
         "domain": [
          0,
          0.08285714285714285
         ],
         "matches": "y",
         "nticks": 2,
         "range": [
          0,
          1
         ],
         "showticklabels": false
        },
        "yaxis3": {
         "anchor": "x3",
         "domain": [
          0.15285714285714286,
          0.2357142857142857
         ],
         "matches": "y",
         "nticks": 2,
         "range": [
          0,
          1
         ],
         "title": {
          "text": "value"
         }
        },
        "yaxis4": {
         "anchor": "x4",
         "domain": [
          0.15285714285714286,
          0.2357142857142857
         ],
         "matches": "y",
         "nticks": 2,
         "range": [
          0,
          1
         ],
         "showticklabels": false
        },
        "yaxis5": {
         "anchor": "x5",
         "domain": [
          0.3057142857142857,
          0.38857142857142857
         ],
         "matches": "y",
         "nticks": 2,
         "range": [
          0,
          1
         ],
         "title": {
          "text": "value"
         }
        },
        "yaxis6": {
         "anchor": "x6",
         "domain": [
          0.3057142857142857,
          0.38857142857142857
         ],
         "matches": "y",
         "nticks": 2,
         "range": [
          0,
          1
         ],
         "showticklabels": false
        },
        "yaxis7": {
         "anchor": "x7",
         "domain": [
          0.4585714285714286,
          0.5414285714285714
         ],
         "matches": "y",
         "nticks": 2,
         "range": [
          0,
          1
         ],
         "title": {
          "text": "value"
         }
        },
        "yaxis8": {
         "anchor": "x8",
         "domain": [
          0.4585714285714286,
          0.5414285714285714
         ],
         "matches": "y",
         "nticks": 2,
         "range": [
          0,
          1
         ],
         "showticklabels": false
        },
        "yaxis9": {
         "anchor": "x9",
         "domain": [
          0.6114285714285714,
          0.6942857142857143
         ],
         "matches": "y",
         "nticks": 2,
         "range": [
          0,
          1
         ],
         "title": {
          "text": "value"
         }
        }
       }
      },
      "text/html": [
       "<div>\n",
       "        \n",
       "        \n",
       "            <div id=\"d8579f12-e1f1-41c5-abd9-83883eec5178\" class=\"plotly-graph-div\" style=\"height:525px; width:100%;\"></div>\n",
       "            <script type=\"text/javascript\">\n",
       "                require([\"plotly\"], function(Plotly) {\n",
       "                    window.PLOTLYENV=window.PLOTLYENV || {};\n",
       "                    \n",
       "                if (document.getElementById(\"d8579f12-e1f1-41c5-abd9-83883eec5178\")) {\n",
       "                    Plotly.newPlot(\n",
       "                        'd8579f12-e1f1-41c5-abd9-83883eec5178',\n",
       "                        [{\"alignmentgroup\": \"True\", \"hovertemplate\": \"Procedures=Preliminary Preflight Procedure<br>Instruments=%{x}<br>value=%{y}<extra></extra>\", \"legendgroup\": \"\", \"marker\": {\"color\": \"#636efa\"}, \"name\": \"\", \"offsetgroup\": \"\", \"orientation\": \"v\", \"showlegend\": false, \"textposition\": \"auto\", \"type\": \"bar\", \"x\": [\"Control Display Unit\", \"Primary Flight Display\", \"Landing Light Panel\", \"Air Conditioning Panel\", \"Pneumatics Panel\", \"Equipment Cooling\", \"Cabin Altitude Panel\", \"Cabin Pressurization Panel\", \"Audio Control Panel\", \"Navigational Radio\", \"TCAS Transponder\", \"Flight Controls Panel\", \"EFIS Control Panel\", \"Fuel Panel\", \"Engine Display\"], \"xaxis\": \"x13\", \"y\": [0, 0, 1, 0, 1, 0, 0, 0, 0, 0, 0, 0, 0, 0, 1], \"yaxis\": \"y13\"}, {\"alignmentgroup\": \"True\", \"hovertemplate\": \"Procedures=CDU Preflight Procedure<br>Instruments=%{x}<br>value=%{y}<extra></extra>\", \"legendgroup\": \"\", \"marker\": {\"color\": \"#636efa\"}, \"name\": \"\", \"offsetgroup\": \"\", \"orientation\": \"v\", \"showlegend\": false, \"textposition\": \"auto\", \"type\": \"bar\", \"x\": [\"Control Display Unit\", \"Primary Flight Display\", \"Landing Light Panel\", \"Air Conditioning Panel\", \"Pneumatics Panel\", \"Equipment Cooling\", \"Cabin Altitude Panel\", \"Cabin Pressurization Panel\", \"Audio Control Panel\", \"Navigational Radio\", \"TCAS Transponder\", \"Flight Controls Panel\", \"EFIS Control Panel\", \"Fuel Panel\", \"Engine Display\"], \"xaxis\": \"x14\", \"y\": [1, 0, 0, 0, 0, 0, 0, 0, 0, 0, 0, 0, 0, 0, 0], \"yaxis\": \"y14\"}, {\"alignmentgroup\": \"True\", \"hovertemplate\": \"Procedures=Preflight Procedure<br>Instruments=%{x}<br>value=%{y}<extra></extra>\", \"legendgroup\": \"\", \"marker\": {\"color\": \"#636efa\"}, \"name\": \"\", \"offsetgroup\": \"\", \"orientation\": \"v\", \"showlegend\": false, \"textposition\": \"auto\", \"type\": \"bar\", \"x\": [\"Control Display Unit\", \"Primary Flight Display\", \"Landing Light Panel\", \"Air Conditioning Panel\", \"Pneumatics Panel\", \"Equipment Cooling\", \"Cabin Altitude Panel\", \"Cabin Pressurization Panel\", \"Audio Control Panel\", \"Navigational Radio\", \"TCAS Transponder\", \"Flight Controls Panel\", \"EFIS Control Panel\", \"Fuel Panel\", \"Engine Display\"], \"xaxis\": \"x11\", \"y\": [0, 0, 1, 1, 0, 1, 1, 1, 1, 1, 1, 0, 1, 1, 1], \"yaxis\": \"y11\"}, {\"alignmentgroup\": \"True\", \"hovertemplate\": \"Procedures=Before Start Procedure<br>Instruments=%{x}<br>value=%{y}<extra></extra>\", \"legendgroup\": \"\", \"marker\": {\"color\": \"#636efa\"}, \"name\": \"\", \"offsetgroup\": \"\", \"orientation\": \"v\", \"showlegend\": false, \"textposition\": \"auto\", \"type\": \"bar\", \"x\": [\"Control Display Unit\", \"Primary Flight Display\", \"Landing Light Panel\", \"Air Conditioning Panel\", \"Pneumatics Panel\", \"Equipment Cooling\", \"Cabin Altitude Panel\", \"Cabin Pressurization Panel\", \"Audio Control Panel\", \"Navigational Radio\", \"TCAS Transponder\", \"Flight Controls Panel\", \"EFIS Control Panel\", \"Fuel Panel\", \"Engine Display\"], \"xaxis\": \"x12\", \"y\": [1, 0, 0, 0, 0, 0, 0, 0, 0, 0, 0, 0, 0, 1, 0], \"yaxis\": \"y12\"}, {\"alignmentgroup\": \"True\", \"hovertemplate\": \"Procedures=Pushback or Towing Procedure<br>Instruments=%{x}<br>value=%{y}<extra></extra>\", \"legendgroup\": \"\", \"marker\": {\"color\": \"#636efa\"}, \"name\": \"\", \"offsetgroup\": \"\", \"orientation\": \"v\", \"showlegend\": false, \"textposition\": \"auto\", \"type\": \"bar\", \"x\": [\"Control Display Unit\", \"Primary Flight Display\", \"Landing Light Panel\", \"Air Conditioning Panel\", \"Pneumatics Panel\", \"Equipment Cooling\", \"Cabin Altitude Panel\", \"Cabin Pressurization Panel\", \"Audio Control Panel\", \"Navigational Radio\", \"TCAS Transponder\", \"Flight Controls Panel\", \"EFIS Control Panel\", \"Fuel Panel\", \"Engine Display\"], \"xaxis\": \"x9\", \"y\": [0, 0, 0, 0, 0, 0, 0, 0, 0, 0, 0, 0, 0, 0, 0], \"yaxis\": \"y9\"}, {\"alignmentgroup\": \"True\", \"hovertemplate\": \"Procedures=Engine Start Procedure<br>Instruments=%{x}<br>value=%{y}<extra></extra>\", \"legendgroup\": \"\", \"marker\": {\"color\": \"#636efa\"}, \"name\": \"\", \"offsetgroup\": \"\", \"orientation\": \"v\", \"showlegend\": false, \"textposition\": \"auto\", \"type\": \"bar\", \"x\": [\"Control Display Unit\", \"Primary Flight Display\", \"Landing Light Panel\", \"Air Conditioning Panel\", \"Pneumatics Panel\", \"Equipment Cooling\", \"Cabin Altitude Panel\", \"Cabin Pressurization Panel\", \"Audio Control Panel\", \"Navigational Radio\", \"TCAS Transponder\", \"Flight Controls Panel\", \"EFIS Control Panel\", \"Fuel Panel\", \"Engine Display\"], \"xaxis\": \"x10\", \"y\": [0, 0, 0, 1, 1, 0, 0, 0, 0, 0, 0, 0, 0, 1, 1], \"yaxis\": \"y10\"}, {\"alignmentgroup\": \"True\", \"hovertemplate\": \"Procedures=Before Taxi Procedure<br>Instruments=%{x}<br>value=%{y}<extra></extra>\", \"legendgroup\": \"\", \"marker\": {\"color\": \"#636efa\"}, \"name\": \"\", \"offsetgroup\": \"\", \"orientation\": \"v\", \"showlegend\": false, \"textposition\": \"auto\", \"type\": \"bar\", \"x\": [\"Control Display Unit\", \"Primary Flight Display\", \"Landing Light Panel\", \"Air Conditioning Panel\", \"Pneumatics Panel\", \"Equipment Cooling\", \"Cabin Altitude Panel\", \"Cabin Pressurization Panel\", \"Audio Control Panel\", \"Navigational Radio\", \"TCAS Transponder\", \"Flight Controls Panel\", \"EFIS Control Panel\", \"Fuel Panel\", \"Engine Display\"], \"xaxis\": \"x7\", \"y\": [0, 0, 0, 1, 0, 0, 0, 0, 0, 0, 1, 1, 0, 0, 1], \"yaxis\": \"y7\"}, {\"alignmentgroup\": \"True\", \"hovertemplate\": \"Procedures=Takeoff Procedure<br>Instruments=%{x}<br>value=%{y}<extra></extra>\", \"legendgroup\": \"\", \"marker\": {\"color\": \"#636efa\"}, \"name\": \"\", \"offsetgroup\": \"\", \"orientation\": \"v\", \"showlegend\": false, \"textposition\": \"auto\", \"type\": \"bar\", \"x\": [\"Control Display Unit\", \"Primary Flight Display\", \"Landing Light Panel\", \"Air Conditioning Panel\", \"Pneumatics Panel\", \"Equipment Cooling\", \"Cabin Altitude Panel\", \"Cabin Pressurization Panel\", \"Audio Control Panel\", \"Navigational Radio\", \"TCAS Transponder\", \"Flight Controls Panel\", \"EFIS Control Panel\", \"Fuel Panel\", \"Engine Display\"], \"xaxis\": \"x8\", \"y\": [1, 1, 0, 0, 0, 0, 0, 0, 0, 0, 1, 0, 0, 0, 0], \"yaxis\": \"y8\"}, {\"alignmentgroup\": \"True\", \"hovertemplate\": \"Procedures=Climb and Cruise Procedure<br>Instruments=%{x}<br>value=%{y}<extra></extra>\", \"legendgroup\": \"\", \"marker\": {\"color\": \"#636efa\"}, \"name\": \"\", \"offsetgroup\": \"\", \"orientation\": \"v\", \"showlegend\": false, \"textposition\": \"auto\", \"type\": \"bar\", \"x\": [\"Control Display Unit\", \"Primary Flight Display\", \"Landing Light Panel\", \"Air Conditioning Panel\", \"Pneumatics Panel\", \"Equipment Cooling\", \"Cabin Altitude Panel\", \"Cabin Pressurization Panel\", \"Audio Control Panel\", \"Navigational Radio\", \"TCAS Transponder\", \"Flight Controls Panel\", \"EFIS Control Panel\", \"Fuel Panel\", \"Engine Display\"], \"xaxis\": \"x5\", \"y\": [0, 1, 1, 0, 0, 0, 1, 1, 0, 0, 0, 0, 0, 1, 0], \"yaxis\": \"y5\"}, {\"alignmentgroup\": \"True\", \"hovertemplate\": \"Procedures=Descent Procedure<br>Instruments=%{x}<br>value=%{y}<extra></extra>\", \"legendgroup\": \"\", \"marker\": {\"color\": \"#636efa\"}, \"name\": \"\", \"offsetgroup\": \"\", \"orientation\": \"v\", \"showlegend\": false, \"textposition\": \"auto\", \"type\": \"bar\", \"x\": [\"Control Display Unit\", \"Primary Flight Display\", \"Landing Light Panel\", \"Air Conditioning Panel\", \"Pneumatics Panel\", \"Equipment Cooling\", \"Cabin Altitude Panel\", \"Cabin Pressurization Panel\", \"Audio Control Panel\", \"Navigational Radio\", \"TCAS Transponder\", \"Flight Controls Panel\", \"EFIS Control Panel\", \"Fuel Panel\", \"Engine Display\"], \"xaxis\": \"x6\", \"y\": [0, 1, 1, 0, 0, 0, 0, 0, 0, 1, 0, 0, 0, 1, 0], \"yaxis\": \"y6\"}, {\"alignmentgroup\": \"True\", \"hovertemplate\": \"Procedures=Approach Procedure<br>Instruments=%{x}<br>value=%{y}<extra></extra>\", \"legendgroup\": \"\", \"marker\": {\"color\": \"#636efa\"}, \"name\": \"\", \"offsetgroup\": \"\", \"orientation\": \"v\", \"showlegend\": false, \"textposition\": \"auto\", \"type\": \"bar\", \"x\": [\"Control Display Unit\", \"Primary Flight Display\", \"Landing Light Panel\", \"Air Conditioning Panel\", \"Pneumatics Panel\", \"Equipment Cooling\", \"Cabin Altitude Panel\", \"Cabin Pressurization Panel\", \"Audio Control Panel\", \"Navigational Radio\", \"TCAS Transponder\", \"Flight Controls Panel\", \"EFIS Control Panel\", \"Fuel Panel\", \"Engine Display\"], \"xaxis\": \"x3\", \"y\": [0, 1, 1, 0, 0, 0, 0, 0, 0, 0, 0, 0, 0, 0, 0], \"yaxis\": \"y3\"}, {\"alignmentgroup\": \"True\", \"hovertemplate\": \"Procedures=Landing Procedure<br>Instruments=%{x}<br>value=%{y}<extra></extra>\", \"legendgroup\": \"\", \"marker\": {\"color\": \"#636efa\"}, \"name\": \"\", \"offsetgroup\": \"\", \"orientation\": \"v\", \"showlegend\": false, \"textposition\": \"auto\", \"type\": \"bar\", \"x\": [\"Control Display Unit\", \"Primary Flight Display\", \"Landing Light Panel\", \"Air Conditioning Panel\", \"Pneumatics Panel\", \"Equipment Cooling\", \"Cabin Altitude Panel\", \"Cabin Pressurization Panel\", \"Audio Control Panel\", \"Navigational Radio\", \"TCAS Transponder\", \"Flight Controls Panel\", \"EFIS Control Panel\", \"Fuel Panel\", \"Engine Display\"], \"xaxis\": \"x4\", \"y\": [0, 1, 0, 0, 0, 0, 0, 0, 0, 0, 0, 0, 0, 0, 1], \"yaxis\": \"y4\"}, {\"alignmentgroup\": \"True\", \"hovertemplate\": \"Procedures=Landing Roll Procedure<br>Instruments=%{x}<br>value=%{y}<extra></extra>\", \"legendgroup\": \"\", \"marker\": {\"color\": \"#636efa\"}, \"name\": \"\", \"offsetgroup\": \"\", \"orientation\": \"v\", \"showlegend\": false, \"textposition\": \"auto\", \"type\": \"bar\", \"x\": [\"Control Display Unit\", \"Primary Flight Display\", \"Landing Light Panel\", \"Air Conditioning Panel\", \"Pneumatics Panel\", \"Equipment Cooling\", \"Cabin Altitude Panel\", \"Cabin Pressurization Panel\", \"Audio Control Panel\", \"Navigational Radio\", \"TCAS Transponder\", \"Flight Controls Panel\", \"EFIS Control Panel\", \"Fuel Panel\", \"Engine Display\"], \"xaxis\": \"x\", \"y\": [0, 0, 0, 0, 0, 0, 0, 0, 0, 0, 0, 0, 0, 0, 0], \"yaxis\": \"y\"}, {\"alignmentgroup\": \"True\", \"hovertemplate\": \"Procedures=After Landing Procedure<br>Instruments=%{x}<br>value=%{y}<extra></extra>\", \"legendgroup\": \"\", \"marker\": {\"color\": \"#636efa\"}, \"name\": \"\", \"offsetgroup\": \"\", \"orientation\": \"v\", \"showlegend\": false, \"textposition\": \"auto\", \"type\": \"bar\", \"x\": [\"Control Display Unit\", \"Primary Flight Display\", \"Landing Light Panel\", \"Air Conditioning Panel\", \"Pneumatics Panel\", \"Equipment Cooling\", \"Cabin Altitude Panel\", \"Cabin Pressurization Panel\", \"Audio Control Panel\", \"Navigational Radio\", \"TCAS Transponder\", \"Flight Controls Panel\", \"EFIS Control Panel\", \"Fuel Panel\", \"Engine Display\"], \"xaxis\": \"x2\", \"y\": [0, 0, 0, 0, 0, 0, 0, 0, 0, 0, 1, 0, 0, 0, 1], \"yaxis\": \"y2\"}],\n",
       "                        {\"annotations\": [{\"font\": {}, \"showarrow\": false, \"text\": \"Procedures=Landing Roll Procedure\", \"x\": 0.245, \"xanchor\": \"center\", \"xref\": \"paper\", \"y\": 0.08285714285714285, \"yanchor\": \"bottom\", \"yref\": \"paper\"}, {\"font\": {}, \"showarrow\": false, \"text\": \"Procedures=After Landing Procedure\", \"x\": 0.755, \"xanchor\": \"center\", \"xref\": \"paper\", \"y\": 0.08285714285714285, \"yanchor\": \"bottom\", \"yref\": \"paper\"}, {\"font\": {}, \"showarrow\": false, \"text\": \"Procedures=Approach Procedure\", \"x\": 0.245, \"xanchor\": \"center\", \"xref\": \"paper\", \"y\": 0.2357142857142857, \"yanchor\": \"bottom\", \"yref\": \"paper\"}, {\"font\": {}, \"showarrow\": false, \"text\": \"Procedures=Landing Procedure\", \"x\": 0.755, \"xanchor\": \"center\", \"xref\": \"paper\", \"y\": 0.2357142857142857, \"yanchor\": \"bottom\", \"yref\": \"paper\"}, {\"font\": {}, \"showarrow\": false, \"text\": \"Procedures=Climb and Cruise Procedure\", \"x\": 0.245, \"xanchor\": \"center\", \"xref\": \"paper\", \"y\": 0.38857142857142857, \"yanchor\": \"bottom\", \"yref\": \"paper\"}, {\"font\": {}, \"showarrow\": false, \"text\": \"Procedures=Descent Procedure\", \"x\": 0.755, \"xanchor\": \"center\", \"xref\": \"paper\", \"y\": 0.38857142857142857, \"yanchor\": \"bottom\", \"yref\": \"paper\"}, {\"font\": {}, \"showarrow\": false, \"text\": \"Procedures=Before Taxi Procedure\", \"x\": 0.245, \"xanchor\": \"center\", \"xref\": \"paper\", \"y\": 0.5414285714285714, \"yanchor\": \"bottom\", \"yref\": \"paper\"}, {\"font\": {}, \"showarrow\": false, \"text\": \"Procedures=Takeoff Procedure\", \"x\": 0.755, \"xanchor\": \"center\", \"xref\": \"paper\", \"y\": 0.5414285714285714, \"yanchor\": \"bottom\", \"yref\": \"paper\"}, {\"font\": {}, \"showarrow\": false, \"text\": \"Procedures=Pushback or Towing Procedure\", \"x\": 0.245, \"xanchor\": \"center\", \"xref\": \"paper\", \"y\": 0.6942857142857143, \"yanchor\": \"bottom\", \"yref\": \"paper\"}, {\"font\": {}, \"showarrow\": false, \"text\": \"Procedures=Engine Start Procedure\", \"x\": 0.755, \"xanchor\": \"center\", \"xref\": \"paper\", \"y\": 0.6942857142857143, \"yanchor\": \"bottom\", \"yref\": \"paper\"}, {\"font\": {}, \"showarrow\": false, \"text\": \"Procedures=Preflight Procedure\", \"x\": 0.245, \"xanchor\": \"center\", \"xref\": \"paper\", \"y\": 0.8471428571428571, \"yanchor\": \"bottom\", \"yref\": \"paper\"}, {\"font\": {}, \"showarrow\": false, \"text\": \"Procedures=Before Start Procedure\", \"x\": 0.755, \"xanchor\": \"center\", \"xref\": \"paper\", \"y\": 0.8471428571428571, \"yanchor\": \"bottom\", \"yref\": \"paper\"}, {\"font\": {}, \"showarrow\": false, \"text\": \"Procedures=Preliminary Preflight Procedure\", \"x\": 0.245, \"xanchor\": \"center\", \"xref\": \"paper\", \"y\": 1.0, \"yanchor\": \"bottom\", \"yref\": \"paper\"}, {\"font\": {}, \"showarrow\": false, \"text\": \"Procedures=CDU Preflight Procedure\", \"x\": 0.755, \"xanchor\": \"center\", \"xref\": \"paper\", \"y\": 1.0, \"yanchor\": \"bottom\", \"yref\": \"paper\"}], \"barmode\": \"relative\", \"legend\": {\"tracegroupgap\": 0}, \"margin\": {\"t\": 60}, \"template\": {\"data\": {\"bar\": [{\"error_x\": {\"color\": \"#2a3f5f\"}, \"error_y\": {\"color\": \"#2a3f5f\"}, \"marker\": {\"line\": {\"color\": \"#E5ECF6\", \"width\": 0.5}}, \"type\": \"bar\"}], \"barpolar\": [{\"marker\": {\"line\": {\"color\": \"#E5ECF6\", \"width\": 0.5}}, \"type\": \"barpolar\"}], \"carpet\": [{\"aaxis\": {\"endlinecolor\": \"#2a3f5f\", \"gridcolor\": \"white\", \"linecolor\": \"white\", \"minorgridcolor\": \"white\", \"startlinecolor\": \"#2a3f5f\"}, \"baxis\": {\"endlinecolor\": \"#2a3f5f\", \"gridcolor\": \"white\", \"linecolor\": \"white\", \"minorgridcolor\": \"white\", \"startlinecolor\": \"#2a3f5f\"}, \"type\": \"carpet\"}], \"choropleth\": [{\"colorbar\": {\"outlinewidth\": 0, \"ticks\": \"\"}, \"type\": \"choropleth\"}], \"contour\": [{\"colorbar\": {\"outlinewidth\": 0, \"ticks\": \"\"}, \"colorscale\": [[0.0, \"#0d0887\"], [0.1111111111111111, \"#46039f\"], [0.2222222222222222, \"#7201a8\"], [0.3333333333333333, \"#9c179e\"], [0.4444444444444444, \"#bd3786\"], [0.5555555555555556, \"#d8576b\"], [0.6666666666666666, \"#ed7953\"], [0.7777777777777778, \"#fb9f3a\"], [0.8888888888888888, \"#fdca26\"], [1.0, \"#f0f921\"]], \"type\": \"contour\"}], \"contourcarpet\": [{\"colorbar\": {\"outlinewidth\": 0, \"ticks\": \"\"}, \"type\": \"contourcarpet\"}], \"heatmap\": [{\"colorbar\": {\"outlinewidth\": 0, \"ticks\": \"\"}, \"colorscale\": [[0.0, \"#0d0887\"], [0.1111111111111111, \"#46039f\"], [0.2222222222222222, \"#7201a8\"], [0.3333333333333333, \"#9c179e\"], [0.4444444444444444, \"#bd3786\"], [0.5555555555555556, \"#d8576b\"], [0.6666666666666666, \"#ed7953\"], [0.7777777777777778, \"#fb9f3a\"], [0.8888888888888888, \"#fdca26\"], [1.0, \"#f0f921\"]], \"type\": \"heatmap\"}], \"heatmapgl\": [{\"colorbar\": {\"outlinewidth\": 0, \"ticks\": \"\"}, \"colorscale\": [[0.0, \"#0d0887\"], [0.1111111111111111, \"#46039f\"], [0.2222222222222222, \"#7201a8\"], [0.3333333333333333, \"#9c179e\"], [0.4444444444444444, \"#bd3786\"], [0.5555555555555556, \"#d8576b\"], [0.6666666666666666, \"#ed7953\"], [0.7777777777777778, \"#fb9f3a\"], [0.8888888888888888, \"#fdca26\"], [1.0, \"#f0f921\"]], \"type\": \"heatmapgl\"}], \"histogram\": [{\"marker\": {\"colorbar\": {\"outlinewidth\": 0, \"ticks\": \"\"}}, \"type\": \"histogram\"}], \"histogram2d\": [{\"colorbar\": {\"outlinewidth\": 0, \"ticks\": \"\"}, \"colorscale\": [[0.0, \"#0d0887\"], [0.1111111111111111, \"#46039f\"], [0.2222222222222222, \"#7201a8\"], [0.3333333333333333, \"#9c179e\"], [0.4444444444444444, \"#bd3786\"], [0.5555555555555556, \"#d8576b\"], [0.6666666666666666, \"#ed7953\"], [0.7777777777777778, \"#fb9f3a\"], [0.8888888888888888, \"#fdca26\"], [1.0, \"#f0f921\"]], \"type\": \"histogram2d\"}], \"histogram2dcontour\": [{\"colorbar\": {\"outlinewidth\": 0, \"ticks\": \"\"}, \"colorscale\": [[0.0, \"#0d0887\"], [0.1111111111111111, \"#46039f\"], [0.2222222222222222, \"#7201a8\"], [0.3333333333333333, \"#9c179e\"], [0.4444444444444444, \"#bd3786\"], [0.5555555555555556, \"#d8576b\"], [0.6666666666666666, \"#ed7953\"], [0.7777777777777778, \"#fb9f3a\"], [0.8888888888888888, \"#fdca26\"], [1.0, \"#f0f921\"]], \"type\": \"histogram2dcontour\"}], \"mesh3d\": [{\"colorbar\": {\"outlinewidth\": 0, \"ticks\": \"\"}, \"type\": \"mesh3d\"}], \"parcoords\": [{\"line\": {\"colorbar\": {\"outlinewidth\": 0, \"ticks\": \"\"}}, \"type\": \"parcoords\"}], \"pie\": [{\"automargin\": true, \"type\": \"pie\"}], \"scatter\": [{\"marker\": {\"colorbar\": {\"outlinewidth\": 0, \"ticks\": \"\"}}, \"type\": \"scatter\"}], \"scatter3d\": [{\"line\": {\"colorbar\": {\"outlinewidth\": 0, \"ticks\": \"\"}}, \"marker\": {\"colorbar\": {\"outlinewidth\": 0, \"ticks\": \"\"}}, \"type\": \"scatter3d\"}], \"scattercarpet\": [{\"marker\": {\"colorbar\": {\"outlinewidth\": 0, \"ticks\": \"\"}}, \"type\": \"scattercarpet\"}], \"scattergeo\": [{\"marker\": {\"colorbar\": {\"outlinewidth\": 0, \"ticks\": \"\"}}, \"type\": \"scattergeo\"}], \"scattergl\": [{\"marker\": {\"colorbar\": {\"outlinewidth\": 0, \"ticks\": \"\"}}, \"type\": \"scattergl\"}], \"scattermapbox\": [{\"marker\": {\"colorbar\": {\"outlinewidth\": 0, \"ticks\": \"\"}}, \"type\": \"scattermapbox\"}], \"scatterpolar\": [{\"marker\": {\"colorbar\": {\"outlinewidth\": 0, \"ticks\": \"\"}}, \"type\": \"scatterpolar\"}], \"scatterpolargl\": [{\"marker\": {\"colorbar\": {\"outlinewidth\": 0, \"ticks\": \"\"}}, \"type\": \"scatterpolargl\"}], \"scatterternary\": [{\"marker\": {\"colorbar\": {\"outlinewidth\": 0, \"ticks\": \"\"}}, \"type\": \"scatterternary\"}], \"surface\": [{\"colorbar\": {\"outlinewidth\": 0, \"ticks\": \"\"}, \"colorscale\": [[0.0, \"#0d0887\"], [0.1111111111111111, \"#46039f\"], [0.2222222222222222, \"#7201a8\"], [0.3333333333333333, \"#9c179e\"], [0.4444444444444444, \"#bd3786\"], [0.5555555555555556, \"#d8576b\"], [0.6666666666666666, \"#ed7953\"], [0.7777777777777778, \"#fb9f3a\"], [0.8888888888888888, \"#fdca26\"], [1.0, \"#f0f921\"]], \"type\": \"surface\"}], \"table\": [{\"cells\": {\"fill\": {\"color\": \"#EBF0F8\"}, \"line\": {\"color\": \"white\"}}, \"header\": {\"fill\": {\"color\": \"#C8D4E3\"}, \"line\": {\"color\": \"white\"}}, \"type\": \"table\"}]}, \"layout\": {\"annotationdefaults\": {\"arrowcolor\": \"#2a3f5f\", \"arrowhead\": 0, \"arrowwidth\": 1}, \"coloraxis\": {\"colorbar\": {\"outlinewidth\": 0, \"ticks\": \"\"}}, \"colorscale\": {\"diverging\": [[0, \"#8e0152\"], [0.1, \"#c51b7d\"], [0.2, \"#de77ae\"], [0.3, \"#f1b6da\"], [0.4, \"#fde0ef\"], [0.5, \"#f7f7f7\"], [0.6, \"#e6f5d0\"], [0.7, \"#b8e186\"], [0.8, \"#7fbc41\"], [0.9, \"#4d9221\"], [1, \"#276419\"]], \"sequential\": [[0.0, \"#0d0887\"], [0.1111111111111111, \"#46039f\"], [0.2222222222222222, \"#7201a8\"], [0.3333333333333333, \"#9c179e\"], [0.4444444444444444, \"#bd3786\"], [0.5555555555555556, \"#d8576b\"], [0.6666666666666666, \"#ed7953\"], [0.7777777777777778, \"#fb9f3a\"], [0.8888888888888888, \"#fdca26\"], [1.0, \"#f0f921\"]], \"sequentialminus\": [[0.0, \"#0d0887\"], [0.1111111111111111, \"#46039f\"], [0.2222222222222222, \"#7201a8\"], [0.3333333333333333, \"#9c179e\"], [0.4444444444444444, \"#bd3786\"], [0.5555555555555556, \"#d8576b\"], [0.6666666666666666, \"#ed7953\"], [0.7777777777777778, \"#fb9f3a\"], [0.8888888888888888, \"#fdca26\"], [1.0, \"#f0f921\"]]}, \"colorway\": [\"#636efa\", \"#EF553B\", \"#00cc96\", \"#ab63fa\", \"#FFA15A\", \"#19d3f3\", \"#FF6692\", \"#B6E880\", \"#FF97FF\", \"#FECB52\"], \"font\": {\"color\": \"#2a3f5f\"}, \"geo\": {\"bgcolor\": \"white\", \"lakecolor\": \"white\", \"landcolor\": \"#E5ECF6\", \"showlakes\": true, \"showland\": true, \"subunitcolor\": \"white\"}, \"hoverlabel\": {\"align\": \"left\"}, \"hovermode\": \"closest\", \"mapbox\": {\"style\": \"light\"}, \"paper_bgcolor\": \"white\", \"plot_bgcolor\": \"#E5ECF6\", \"polar\": {\"angularaxis\": {\"gridcolor\": \"white\", \"linecolor\": \"white\", \"ticks\": \"\"}, \"bgcolor\": \"#E5ECF6\", \"radialaxis\": {\"gridcolor\": \"white\", \"linecolor\": \"white\", \"ticks\": \"\"}}, \"scene\": {\"xaxis\": {\"backgroundcolor\": \"#E5ECF6\", \"gridcolor\": \"white\", \"gridwidth\": 2, \"linecolor\": \"white\", \"showbackground\": true, \"ticks\": \"\", \"zerolinecolor\": \"white\"}, \"yaxis\": {\"backgroundcolor\": \"#E5ECF6\", \"gridcolor\": \"white\", \"gridwidth\": 2, \"linecolor\": \"white\", \"showbackground\": true, \"ticks\": \"\", \"zerolinecolor\": \"white\"}, \"zaxis\": {\"backgroundcolor\": \"#E5ECF6\", \"gridcolor\": \"white\", \"gridwidth\": 2, \"linecolor\": \"white\", \"showbackground\": true, \"ticks\": \"\", \"zerolinecolor\": \"white\"}}, \"shapedefaults\": {\"line\": {\"color\": \"#2a3f5f\"}}, \"ternary\": {\"aaxis\": {\"gridcolor\": \"white\", \"linecolor\": \"white\", \"ticks\": \"\"}, \"baxis\": {\"gridcolor\": \"white\", \"linecolor\": \"white\", \"ticks\": \"\"}, \"bgcolor\": \"#E5ECF6\", \"caxis\": {\"gridcolor\": \"white\", \"linecolor\": \"white\", \"ticks\": \"\"}}, \"title\": {\"x\": 0.05}, \"xaxis\": {\"automargin\": true, \"gridcolor\": \"white\", \"linecolor\": \"white\", \"ticks\": \"\", \"title\": {\"standoff\": 15}, \"zerolinecolor\": \"white\", \"zerolinewidth\": 2}, \"yaxis\": {\"automargin\": true, \"gridcolor\": \"white\", \"linecolor\": \"white\", \"ticks\": \"\", \"title\": {\"standoff\": 15}, \"zerolinecolor\": \"white\", \"zerolinewidth\": 2}}}, \"xaxis\": {\"anchor\": \"y\", \"domain\": [0.0, 0.49], \"title\": {\"text\": \"Instruments\"}}, \"xaxis10\": {\"anchor\": \"y10\", \"domain\": [0.51, 1.0], \"matches\": \"x\", \"showticklabels\": false}, \"xaxis11\": {\"anchor\": \"y11\", \"domain\": [0.0, 0.49], \"matches\": \"x\", \"showticklabels\": false}, \"xaxis12\": {\"anchor\": \"y12\", \"domain\": [0.51, 1.0], \"matches\": \"x\", \"showticklabels\": false}, \"xaxis13\": {\"anchor\": \"y13\", \"domain\": [0.0, 0.49], \"matches\": \"x\", \"showticklabels\": false}, \"xaxis14\": {\"anchor\": \"y14\", \"domain\": [0.51, 1.0], \"matches\": \"x\", \"showticklabels\": false}, \"xaxis2\": {\"anchor\": \"y2\", \"domain\": [0.51, 1.0], \"matches\": \"x\", \"title\": {\"text\": \"Instruments\"}}, \"xaxis3\": {\"anchor\": \"y3\", \"domain\": [0.0, 0.49], \"matches\": \"x\", \"showticklabels\": false}, \"xaxis4\": {\"anchor\": \"y4\", \"domain\": [0.51, 1.0], \"matches\": \"x\", \"showticklabels\": false}, \"xaxis5\": {\"anchor\": \"y5\", \"domain\": [0.0, 0.49], \"matches\": \"x\", \"showticklabels\": false}, \"xaxis6\": {\"anchor\": \"y6\", \"domain\": [0.51, 1.0], \"matches\": \"x\", \"showticklabels\": false}, \"xaxis7\": {\"anchor\": \"y7\", \"domain\": [0.0, 0.49], \"matches\": \"x\", \"showticklabels\": false}, \"xaxis8\": {\"anchor\": \"y8\", \"domain\": [0.51, 1.0], \"matches\": \"x\", \"showticklabels\": false}, \"xaxis9\": {\"anchor\": \"y9\", \"domain\": [0.0, 0.49], \"matches\": \"x\", \"showticklabels\": false}, \"yaxis\": {\"anchor\": \"x\", \"domain\": [0.0, 0.08285714285714285], \"nticks\": 2, \"range\": [0, 1], \"title\": {\"text\": \"value\"}}, \"yaxis10\": {\"anchor\": \"x10\", \"domain\": [0.6114285714285714, 0.6942857142857143], \"matches\": \"y\", \"nticks\": 2, \"range\": [0, 1], \"showticklabels\": false}, \"yaxis11\": {\"anchor\": \"x11\", \"domain\": [0.7642857142857142, 0.8471428571428571], \"matches\": \"y\", \"nticks\": 2, \"range\": [0, 1], \"title\": {\"text\": \"value\"}}, \"yaxis12\": {\"anchor\": \"x12\", \"domain\": [0.7642857142857142, 0.8471428571428571], \"matches\": \"y\", \"nticks\": 2, \"range\": [0, 1], \"showticklabels\": false}, \"yaxis13\": {\"anchor\": \"x13\", \"domain\": [0.9171428571428571, 1.0], \"matches\": \"y\", \"nticks\": 2, \"range\": [0, 1], \"title\": {\"text\": \"value\"}}, \"yaxis14\": {\"anchor\": \"x14\", \"domain\": [0.9171428571428571, 1.0], \"matches\": \"y\", \"nticks\": 2, \"range\": [0, 1], \"showticklabels\": false}, \"yaxis2\": {\"anchor\": \"x2\", \"domain\": [0.0, 0.08285714285714285], \"matches\": \"y\", \"nticks\": 2, \"range\": [0, 1], \"showticklabels\": false}, \"yaxis3\": {\"anchor\": \"x3\", \"domain\": [0.15285714285714286, 0.2357142857142857], \"matches\": \"y\", \"nticks\": 2, \"range\": [0, 1], \"title\": {\"text\": \"value\"}}, \"yaxis4\": {\"anchor\": \"x4\", \"domain\": [0.15285714285714286, 0.2357142857142857], \"matches\": \"y\", \"nticks\": 2, \"range\": [0, 1], \"showticklabels\": false}, \"yaxis5\": {\"anchor\": \"x5\", \"domain\": [0.3057142857142857, 0.38857142857142857], \"matches\": \"y\", \"nticks\": 2, \"range\": [0, 1], \"title\": {\"text\": \"value\"}}, \"yaxis6\": {\"anchor\": \"x6\", \"domain\": [0.3057142857142857, 0.38857142857142857], \"matches\": \"y\", \"nticks\": 2, \"range\": [0, 1], \"showticklabels\": false}, \"yaxis7\": {\"anchor\": \"x7\", \"domain\": [0.4585714285714286, 0.5414285714285714], \"matches\": \"y\", \"nticks\": 2, \"range\": [0, 1], \"title\": {\"text\": \"value\"}}, \"yaxis8\": {\"anchor\": \"x8\", \"domain\": [0.4585714285714286, 0.5414285714285714], \"matches\": \"y\", \"nticks\": 2, \"range\": [0, 1], \"showticklabels\": false}, \"yaxis9\": {\"anchor\": \"x9\", \"domain\": [0.6114285714285714, 0.6942857142857143], \"matches\": \"y\", \"nticks\": 2, \"range\": [0, 1], \"title\": {\"text\": \"value\"}}},\n",
       "                        {\"responsive\": true}\n",
       "                    ).then(function(){\n",
       "                            \n",
       "var gd = document.getElementById('d8579f12-e1f1-41c5-abd9-83883eec5178');\n",
       "var x = new MutationObserver(function (mutations, observer) {{\n",
       "        var display = window.getComputedStyle(gd).display;\n",
       "        if (!display || display === 'none') {{\n",
       "            console.log([gd, 'removed!']);\n",
       "            Plotly.purge(gd);\n",
       "            observer.disconnect();\n",
       "        }}\n",
       "}});\n",
       "\n",
       "// Listen for the removal of the full notebook cells\n",
       "var notebookContainer = gd.closest('#notebook-container');\n",
       "if (notebookContainer) {{\n",
       "    x.observe(notebookContainer, {childList: true});\n",
       "}}\n",
       "\n",
       "// Listen for the clearing of the current output cell\n",
       "var outputEl = gd.closest('.output');\n",
       "if (outputEl) {{\n",
       "    x.observe(outputEl, {childList: true});\n",
       "}}\n",
       "\n",
       "                        })\n",
       "                };\n",
       "                });\n",
       "            </script>\n",
       "        </div>"
      ]
     },
     "metadata": {},
     "output_type": "display_data"
    }
   ],
   "source": [
    "fig = px.bar(meltedPhases, x=\"Instruments\", y=\"value\",\n",
    "             facet_col=\"Procedures\",\n",
    "            facet_col_wrap=2)\n",
    "fig.update_yaxes(range=[0,1])\n",
    "fig.update_yaxes(nticks=2)\n",
    "fig.show()"
   ]
  },
  {
   "cell_type": "code",
   "execution_count": 165,
   "metadata": {},
   "outputs": [],
   "source": [
    "meltedDf = df.melt('Quality', var_name='Instruments')"
   ]
  },
  {
   "cell_type": "code",
   "execution_count": 166,
   "metadata": {},
   "outputs": [],
   "source": [
    "jitteredMelt = jitteredDf.melt('Quality', var_name='Instruments')"
   ]
  },
  {
   "cell_type": "code",
   "execution_count": 167,
   "metadata": {},
   "outputs": [
    {
     "data": {
      "application/vnd.plotly.v1+json": {
       "config": {
        "plotlyServerURL": "https://plot.ly"
       },
       "data": [
        {
         "hovertemplate": "Instruments=Control Display Unit<br>Quality=%{x}<br>value=%{y}<extra></extra>",
         "legendgroup": "Control Display Unit",
         "marker": {
          "color": "#636efa",
          "symbol": "circle"
         },
         "mode": "markers",
         "name": "Control Display Unit",
         "showlegend": true,
         "type": "scatter",
         "x": [
          "Accuracy",
          "Configurability",
          "Understandability",
          "Feedback",
          "Distinguishability",
          "Limitations of user",
          "Situationally aware",
          "Reliable",
          "Redundany",
          "Error Management",
          "Trainability and Learnability",
          "User's attention",
          "Usage patterns",
          "User aware of limitations",
          "Validatable",
          "Efficiency",
          "Effectiveness",
          "Practicality",
          "Context Coverage",
          "Risk Mitigations",
          "Communication Required",
          "Satisfaction of Use",
          "Attentive Attributes",
          "Ouput of Information",
          "Input of Information",
          "Procedural Use"
         ],
         "xaxis": "x",
         "y": [
          3.412335833909652,
          1.157216588571464,
          4.314223961372215,
          3.733857291706471,
          5.440891585551243,
          5.113898470841162,
          3.95091934339064,
          4.788014335637406,
          2.6788112778767474,
          3.9414672563138087,
          3.1762417325286205,
          4.2725927794639835,
          3.4902456860464848,
          1.310557735426504,
          3.1031396471135873,
          4.608576735264096,
          4.799382049534686,
          4.609789585046868,
          3.5970787344087034,
          2.5417615857868356,
          4.707806975686077,
          4.590266448848021,
          2.484097286529263,
          3.991109993608682,
          4.191648544478629,
          4.260513184088725
         ],
         "yaxis": "y"
        },
        {
         "hovertemplate": "Instruments=Primary Flight Display<br>Quality=%{x}<br>value=%{y}<extra></extra>",
         "legendgroup": "Primary Flight Display",
         "marker": {
          "color": "#EF553B",
          "symbol": "circle"
         },
         "mode": "markers",
         "name": "Primary Flight Display",
         "showlegend": true,
         "type": "scatter",
         "x": [
          "Accuracy",
          "Configurability",
          "Understandability",
          "Feedback",
          "Distinguishability",
          "Limitations of user",
          "Situationally aware",
          "Reliable",
          "Redundany",
          "Error Management",
          "Trainability and Learnability",
          "User's attention",
          "Usage patterns",
          "User aware of limitations",
          "Validatable",
          "Efficiency",
          "Effectiveness",
          "Practicality",
          "Context Coverage",
          "Risk Mitigations",
          "Communication Required",
          "Satisfaction of Use",
          "Attentive Attributes",
          "Ouput of Information",
          "Input of Information",
          "Procedural Use"
         ],
         "xaxis": "x",
         "y": [
          5.087311521232985,
          3.769002486875575,
          5.200363280766648,
          5.2239133350235,
          5.9343489307774435,
          5.082216375037922,
          3.6813764952548604,
          3.187816224537257,
          3.4226089286787005,
          4.9531575635169975,
          5.009990979381007,
          3.887840601390781,
          2.202584486581983,
          4.079341051704051,
          4.669695172957956,
          4.964939237109806,
          5.711072809110888,
          4.522005181771085,
          5.136701704467068,
          4.094039486728673,
          3.1261270655540323,
          4.573471743076705,
          3.8250794234393783,
          5.6187339488988295,
          3.973135773235387,
          4.725316009278718
         ],
         "yaxis": "y"
        },
        {
         "hovertemplate": "Instruments=Landing Light Panel<br>Quality=%{x}<br>value=%{y}<extra></extra>",
         "legendgroup": "Landing Light Panel",
         "marker": {
          "color": "#00cc96",
          "symbol": "circle"
         },
         "mode": "markers",
         "name": "Landing Light Panel",
         "showlegend": true,
         "type": "scatter",
         "x": [
          "Accuracy",
          "Configurability",
          "Understandability",
          "Feedback",
          "Distinguishability",
          "Limitations of user",
          "Situationally aware",
          "Reliable",
          "Redundany",
          "Error Management",
          "Trainability and Learnability",
          "User's attention",
          "Usage patterns",
          "User aware of limitations",
          "Validatable",
          "Efficiency",
          "Effectiveness",
          "Practicality",
          "Context Coverage",
          "Risk Mitigations",
          "Communication Required",
          "Satisfaction of Use",
          "Attentive Attributes",
          "Ouput of Information",
          "Input of Information",
          "Procedural Use"
         ],
         "xaxis": "x",
         "y": [
          4.121965718743627,
          2.0038305921567225,
          4.476962683705858,
          4.126934559009179,
          4.150072853598489,
          3.406335629639834,
          3.601549977338061,
          4.147425720900111,
          1.7044291409964087,
          2.452169986809276,
          5.391057746084622,
          4.888731447585872,
          4.985681564538077,
          4.062607969806792,
          1.8742622419598776,
          3.7643404443112094,
          4.480625371148939,
          6.066654102197843,
          2.8598200136806256,
          1.8899353509918033,
          4.078779548370525,
          4.45236349404842,
          3.7105267787568526,
          0.6955059054393673,
          3.2997110568514736,
          3.135386044663301
         ],
         "yaxis": "y"
        },
        {
         "hovertemplate": "Instruments=Air Conditioning Panel<br>Quality=%{x}<br>value=%{y}<extra></extra>",
         "legendgroup": "Air Conditioning Panel",
         "marker": {
          "color": "#ab63fa",
          "symbol": "circle"
         },
         "mode": "markers",
         "name": "Air Conditioning Panel",
         "showlegend": true,
         "type": "scatter",
         "x": [
          "Accuracy",
          "Configurability",
          "Understandability",
          "Feedback",
          "Distinguishability",
          "Limitations of user",
          "Situationally aware",
          "Reliable",
          "Redundany",
          "Error Management",
          "Trainability and Learnability",
          "User's attention",
          "Usage patterns",
          "User aware of limitations",
          "Validatable",
          "Efficiency",
          "Effectiveness",
          "Practicality",
          "Context Coverage",
          "Risk Mitigations",
          "Communication Required",
          "Satisfaction of Use",
          "Attentive Attributes",
          "Ouput of Information",
          "Input of Information",
          "Procedural Use"
         ],
         "xaxis": "x",
         "y": [
          4.269075088208257,
          1.7086947448735406,
          4.600264142892335,
          4.556799349573395,
          2.4361395625726825,
          4.005166767152909,
          3.8666516681918908,
          3.888737763034692,
          1.7192531931538555,
          1.6357541843194883,
          4.803700330606991,
          3.4146251198866575,
          5.0822049853850055,
          2.7625877849235545,
          3.4272603791183767,
          3.6248679329359446,
          4.374643748776634,
          3.828204975790451,
          4.827762904994439,
          2.2914995582277444,
          3.1415463489380913,
          2.672337069305094,
          2.525744277022608,
          4.0458039491250615,
          3.0557462208931114,
          3.1434701889595194
         ],
         "yaxis": "y"
        },
        {
         "hovertemplate": "Instruments=Pneumatics Panel<br>Quality=%{x}<br>value=%{y}<extra></extra>",
         "legendgroup": "Pneumatics Panel",
         "marker": {
          "color": "#FFA15A",
          "symbol": "circle"
         },
         "mode": "markers",
         "name": "Pneumatics Panel",
         "showlegend": true,
         "type": "scatter",
         "x": [
          "Accuracy",
          "Configurability",
          "Understandability",
          "Feedback",
          "Distinguishability",
          "Limitations of user",
          "Situationally aware",
          "Reliable",
          "Redundany",
          "Error Management",
          "Trainability and Learnability",
          "User's attention",
          "Usage patterns",
          "User aware of limitations",
          "Validatable",
          "Efficiency",
          "Effectiveness",
          "Practicality",
          "Context Coverage",
          "Risk Mitigations",
          "Communication Required",
          "Satisfaction of Use",
          "Attentive Attributes",
          "Ouput of Information",
          "Input of Information",
          "Procedural Use"
         ],
         "xaxis": "x",
         "y": [
          4.574783883809127,
          1.177315586901178,
          5.328529048295121,
          3.6620465610955013,
          5.041416342922763,
          4.4445912232419165,
          4.363202788130065,
          4.083903075228313,
          1.5982293021983263,
          5.131866288561806,
          3.6889017280828047,
          4.0349368611349,
          4.71259810001245,
          4.098493183231368,
          4.48056384079417,
          4.406813605099319,
          3.2091679300079567,
          4.6946541159300805,
          3.238189309186326,
          4.7486771841585815,
          4.516877280448748,
          3.831296486814491,
          4.798679976206328,
          4.572548553277252,
          5.049418601442955,
          1.2486004069303291
         ],
         "yaxis": "y"
        },
        {
         "hovertemplate": "Instruments=Equipment Cooling<br>Quality=%{x}<br>value=%{y}<extra></extra>",
         "legendgroup": "Equipment Cooling",
         "marker": {
          "color": "#19d3f3",
          "symbol": "circle"
         },
         "mode": "markers",
         "name": "Equipment Cooling",
         "showlegend": true,
         "type": "scatter",
         "x": [
          "Accuracy",
          "Configurability",
          "Understandability",
          "Feedback",
          "Distinguishability",
          "Limitations of user",
          "Situationally aware",
          "Reliable",
          "Redundany",
          "Error Management",
          "Trainability and Learnability",
          "User's attention",
          "Usage patterns",
          "User aware of limitations",
          "Validatable",
          "Efficiency",
          "Effectiveness",
          "Practicality",
          "Context Coverage",
          "Risk Mitigations",
          "Communication Required",
          "Satisfaction of Use",
          "Attentive Attributes",
          "Ouput of Information",
          "Input of Information",
          "Procedural Use"
         ],
         "xaxis": "x",
         "y": [
          2.7384839393162,
          1.1286750357470667,
          3.945122526515237,
          3.0144704617831337,
          4.145850475678546,
          1.5911617886978144,
          1.2433258604202695,
          3.261866848366398,
          0.8754353522963144,
          3.9529977086185095,
          5.288879022130373,
          3.8225709563312957,
          4.128588394661313,
          2.6895641209473173,
          4.710294673406701,
          3.815001017082629,
          2.829432533171001,
          3.661805698468252,
          1.809816085301252,
          1.465278559695643,
          2.971593024061243,
          3.640917852236988,
          3.5652131778242886,
          1.398335603876913,
          3.260246140110818,
          0.6586699194243064
         ],
         "yaxis": "y"
        },
        {
         "hovertemplate": "Instruments=Cabin Altitude Panel<br>Quality=%{x}<br>value=%{y}<extra></extra>",
         "legendgroup": "Cabin Altitude Panel",
         "marker": {
          "color": "#FF6692",
          "symbol": "circle"
         },
         "mode": "markers",
         "name": "Cabin Altitude Panel",
         "showlegend": true,
         "type": "scatter",
         "x": [
          "Accuracy",
          "Configurability",
          "Understandability",
          "Feedback",
          "Distinguishability",
          "Limitations of user",
          "Situationally aware",
          "Reliable",
          "Redundany",
          "Error Management",
          "Trainability and Learnability",
          "User's attention",
          "Usage patterns",
          "User aware of limitations",
          "Validatable",
          "Efficiency",
          "Effectiveness",
          "Practicality",
          "Context Coverage",
          "Risk Mitigations",
          "Communication Required",
          "Satisfaction of Use",
          "Attentive Attributes",
          "Ouput of Information",
          "Input of Information",
          "Procedural Use"
         ],
         "xaxis": "x",
         "y": [
          4.326289977744638,
          1.5384669041278143,
          4.020566643946214,
          4.032487142616513,
          3.656158801875119,
          4.036429657566582,
          3.6884512128373435,
          3.0131997147145277,
          3.502695455127015,
          3.4300776249136447,
          4.572360618769967,
          2.8319301130090446,
          2.8048792477528526,
          3.0157962264990754,
          3.6345544853353173,
          4.20784925997466,
          2.5706988078823234,
          3.5609969179641894,
          3.0082738644214553,
          3.561536197362829,
          2.9800327792469203,
          3.501900042471242,
          2.0901368621024528,
          3.723453539262676,
          1.2081881925417268,
          2.157763869150972
         ],
         "yaxis": "y"
        },
        {
         "hovertemplate": "Instruments=Cabin Pressurization Panel<br>Quality=%{x}<br>value=%{y}<extra></extra>",
         "legendgroup": "Cabin Pressurization Panel",
         "marker": {
          "color": "#B6E880",
          "symbol": "circle"
         },
         "mode": "markers",
         "name": "Cabin Pressurization Panel",
         "showlegend": true,
         "type": "scatter",
         "x": [
          "Accuracy",
          "Configurability",
          "Understandability",
          "Feedback",
          "Distinguishability",
          "Limitations of user",
          "Situationally aware",
          "Reliable",
          "Redundany",
          "Error Management",
          "Trainability and Learnability",
          "User's attention",
          "Usage patterns",
          "User aware of limitations",
          "Validatable",
          "Efficiency",
          "Effectiveness",
          "Practicality",
          "Context Coverage",
          "Risk Mitigations",
          "Communication Required",
          "Satisfaction of Use",
          "Attentive Attributes",
          "Ouput of Information",
          "Input of Information",
          "Procedural Use"
         ],
         "xaxis": "x",
         "y": [
          3.5863079742761457,
          0.9783512958856967,
          4.499445367807152,
          4.757441643498277,
          3.5242746674660057,
          4.597238599695688,
          3.896850949655919,
          3.9023850914567992,
          4.122222199135242,
          3.1854191949932216,
          4.837757864678298,
          2.9129245904284775,
          3.350036316631259,
          4.112178495293075,
          4.2793432455508205,
          3.9332815635782583,
          2.696334483370727,
          3.899191935181083,
          3.277442784403508,
          2.853937189035583,
          4.188814226792254,
          3.7805401483733436,
          4.557882987534437,
          3.9087246977281755,
          5.292370632047494,
          1.3876199702328944
         ],
         "yaxis": "y"
        },
        {
         "hovertemplate": "Instruments=Audio Control Panel<br>Quality=%{x}<br>value=%{y}<extra></extra>",
         "legendgroup": "Audio Control Panel",
         "marker": {
          "color": "#FF97FF",
          "symbol": "circle"
         },
         "mode": "markers",
         "name": "Audio Control Panel",
         "showlegend": true,
         "type": "scatter",
         "x": [
          "Accuracy",
          "Configurability",
          "Understandability",
          "Feedback",
          "Distinguishability",
          "Limitations of user",
          "Situationally aware",
          "Reliable",
          "Redundany",
          "Error Management",
          "Trainability and Learnability",
          "User's attention",
          "Usage patterns",
          "User aware of limitations",
          "Validatable",
          "Efficiency",
          "Effectiveness",
          "Practicality",
          "Context Coverage",
          "Risk Mitigations",
          "Communication Required",
          "Satisfaction of Use",
          "Attentive Attributes",
          "Ouput of Information",
          "Input of Information",
          "Procedural Use"
         ],
         "xaxis": "x",
         "y": [
          3.520426054027956,
          1.121702018208694,
          2.6701915892538723,
          3.2224370978033967,
          5.962051371692766,
          1.3663043290553452,
          3.4938141306045454,
          3.5189068531906584,
          3.6198380272901667,
          3.1997516276258278,
          3.6973020737445728,
          4.767336226671971,
          2.4557916154347255,
          1.023551848804505,
          3.1022569950908063,
          2.6694519340132254,
          3.1914506352118264,
          1.8765515937075519,
          3.8434954217262645,
          2.13722911279569,
          2.62601330775217,
          3.2973252923490253,
          1.4369862602630508,
          0.8861863666952932,
          3.370459582185127,
          2.759662700432309
         ],
         "yaxis": "y"
        },
        {
         "hovertemplate": "Instruments=Navigational Radio<br>Quality=%{x}<br>value=%{y}<extra></extra>",
         "legendgroup": "Navigational Radio",
         "marker": {
          "color": "#FECB52",
          "symbol": "circle"
         },
         "mode": "markers",
         "name": "Navigational Radio",
         "showlegend": true,
         "type": "scatter",
         "x": [
          "Accuracy",
          "Configurability",
          "Understandability",
          "Feedback",
          "Distinguishability",
          "Limitations of user",
          "Situationally aware",
          "Reliable",
          "Redundany",
          "Error Management",
          "Trainability and Learnability",
          "User's attention",
          "Usage patterns",
          "User aware of limitations",
          "Validatable",
          "Efficiency",
          "Effectiveness",
          "Practicality",
          "Context Coverage",
          "Risk Mitigations",
          "Communication Required",
          "Satisfaction of Use",
          "Attentive Attributes",
          "Ouput of Information",
          "Input of Information",
          "Procedural Use"
         ],
         "xaxis": "x",
         "y": [
          4.803251103774543,
          1.6313046846609638,
          4.067497913461629,
          4.042320231279563,
          4.996124676903365,
          4.52921117557266,
          4.135799832407047,
          3.5876536193103172,
          4.348490345577412,
          5.226153601040493,
          4.251120553859082,
          2.8194834969776825,
          3.7003787634105816,
          3.050854387487993,
          3.9688018223080785,
          3.7832946765004567,
          4.623239322725686,
          4.054558029272755,
          4.105630317043147,
          4.785758466726046,
          4.393384065099747,
          3.5057983684041663,
          3.3297138946731675,
          4.693548271249822,
          4.600048113024561,
          3.957642138548856
         ],
         "yaxis": "y"
        },
        {
         "hovertemplate": "Instruments=TCAS Transponder<br>Quality=%{x}<br>value=%{y}<extra></extra>",
         "legendgroup": "TCAS Transponder",
         "marker": {
          "color": "#636efa",
          "symbol": "circle"
         },
         "mode": "markers",
         "name": "TCAS Transponder",
         "showlegend": true,
         "type": "scatter",
         "x": [
          "Accuracy",
          "Configurability",
          "Understandability",
          "Feedback",
          "Distinguishability",
          "Limitations of user",
          "Situationally aware",
          "Reliable",
          "Redundany",
          "Error Management",
          "Trainability and Learnability",
          "User's attention",
          "Usage patterns",
          "User aware of limitations",
          "Validatable",
          "Efficiency",
          "Effectiveness",
          "Practicality",
          "Context Coverage",
          "Risk Mitigations",
          "Communication Required",
          "Satisfaction of Use",
          "Attentive Attributes",
          "Ouput of Information",
          "Input of Information",
          "Procedural Use"
         ],
         "xaxis": "x",
         "y": [
          5.478876641264187,
          0.6688681335172206,
          4.307038444401878,
          5.840777898431121,
          3.9155248595702203,
          3.42262812024493,
          4.186673708628621,
          3.8734255615246314,
          3.6002727071622345,
          3.8336093386781824,
          4.144810365100949,
          4.518874845594375,
          3.6258626524392352,
          2.286736041171145,
          3.3819825710099205,
          4.390381048159077,
          4.348519402029089,
          5.79774804274588,
          3.700924632209239,
          1.6299373632326861,
          4.749038827729574,
          4.839836893167499,
          1.9713748432105203,
          4.502042726221593,
          3.3880600612918252,
          6.12631851356937
         ],
         "yaxis": "y"
        },
        {
         "hovertemplate": "Instruments=Flight Controls Panel<br>Quality=%{x}<br>value=%{y}<extra></extra>",
         "legendgroup": "Flight Controls Panel",
         "marker": {
          "color": "#EF553B",
          "symbol": "circle"
         },
         "mode": "markers",
         "name": "Flight Controls Panel",
         "showlegend": true,
         "type": "scatter",
         "x": [
          "Accuracy",
          "Configurability",
          "Understandability",
          "Feedback",
          "Distinguishability",
          "Limitations of user",
          "Situationally aware",
          "Reliable",
          "Redundany",
          "Error Management",
          "Trainability and Learnability",
          "User's attention",
          "Usage patterns",
          "User aware of limitations",
          "Validatable",
          "Efficiency",
          "Effectiveness",
          "Practicality",
          "Context Coverage",
          "Risk Mitigations",
          "Communication Required",
          "Satisfaction of Use",
          "Attentive Attributes",
          "Ouput of Information",
          "Input of Information",
          "Procedural Use"
         ],
         "xaxis": "x",
         "y": [
          4.551508477312081,
          1.0605561152374465,
          3.9769071455410976,
          4.394346967045605,
          3.5754653808671613,
          3.5480008144847845,
          3.0292447334574817,
          4.0246713759610255,
          3.215057511316817,
          2.224136310476168,
          2.340768998830495,
          3.147234535361888,
          3.0279339586838656,
          3.2733664230100614,
          3.4871346137751997,
          4.030242924790142,
          3.7210295430512947,
          5.273454241587408,
          3.192518248195376,
          3.3726337367932784,
          4.512054449610534,
          3.6253340582796656,
          5.017460694130805,
          4.451584018524104,
          3.465825034809293,
          2.21169059659542
         ],
         "yaxis": "y"
        },
        {
         "hovertemplate": "Instruments=EFIS Control Panel<br>Quality=%{x}<br>value=%{y}<extra></extra>",
         "legendgroup": "EFIS Control Panel",
         "marker": {
          "color": "#00cc96",
          "symbol": "circle"
         },
         "mode": "markers",
         "name": "EFIS Control Panel",
         "showlegend": true,
         "type": "scatter",
         "x": [
          "Accuracy",
          "Configurability",
          "Understandability",
          "Feedback",
          "Distinguishability",
          "Limitations of user",
          "Situationally aware",
          "Reliable",
          "Redundany",
          "Error Management",
          "Trainability and Learnability",
          "User's attention",
          "Usage patterns",
          "User aware of limitations",
          "Validatable",
          "Efficiency",
          "Effectiveness",
          "Practicality",
          "Context Coverage",
          "Risk Mitigations",
          "Communication Required",
          "Satisfaction of Use",
          "Attentive Attributes",
          "Ouput of Information",
          "Input of Information",
          "Procedural Use"
         ],
         "xaxis": "x",
         "y": [
          5.2206006043474025,
          0.7122167135286532,
          2.7924470586043304,
          3.4296353418453998,
          5.177156372516676,
          4.108084864132472,
          3.4426318119202395,
          5.193755489935805,
          4.957081375456469,
          3.7144955142743776,
          2.7411417423278337,
          3.945965644824768,
          4.156911422706048,
          3.564767297787827,
          3.426181664471885,
          4.150871429097576,
          4.574675039006645,
          4.789040913090833,
          4.609214107655219,
          3.393206902905631,
          3.526266156961697,
          4.218822901469428,
          3.9224741871379907,
          1.1910876694036736,
          3.8929044746080836,
          2.060838570410912
         ],
         "yaxis": "y"
        },
        {
         "hovertemplate": "Instruments=Fuel Panel<br>Quality=%{x}<br>value=%{y}<extra></extra>",
         "legendgroup": "Fuel Panel",
         "marker": {
          "color": "#ab63fa",
          "symbol": "circle"
         },
         "mode": "markers",
         "name": "Fuel Panel",
         "showlegend": true,
         "type": "scatter",
         "x": [
          "Accuracy",
          "Configurability",
          "Understandability",
          "Feedback",
          "Distinguishability",
          "Limitations of user",
          "Situationally aware",
          "Reliable",
          "Redundany",
          "Error Management",
          "Trainability and Learnability",
          "User's attention",
          "Usage patterns",
          "User aware of limitations",
          "Validatable",
          "Efficiency",
          "Effectiveness",
          "Practicality",
          "Context Coverage",
          "Risk Mitigations",
          "Communication Required",
          "Satisfaction of Use",
          "Attentive Attributes",
          "Ouput of Information",
          "Input of Information",
          "Procedural Use"
         ],
         "xaxis": "x",
         "y": [
          4.0255865719260635,
          1.1319613659230199,
          5.441171321227926,
          3.3403260866521336,
          5.644984697641292,
          3.4116943972073766,
          4.3316270157542,
          4.691083597279663,
          4.39430885777459,
          5.66258910498135,
          3.7575634924136008,
          3.941839255488676,
          4.241850456775893,
          2.724370974220721,
          3.375041611464318,
          4.039234332006841,
          3.6363039337900216,
          5.731562688233584,
          4.000909029082499,
          3.738240615160991,
          4.4726748626045785,
          4.027765025144875,
          2.009759774334979,
          4.393053728679633,
          3.771103030165342,
          4.222154589303279
         ],
         "yaxis": "y"
        },
        {
         "hovertemplate": "Instruments=Engine Display<br>Quality=%{x}<br>value=%{y}<extra></extra>",
         "legendgroup": "Engine Display",
         "marker": {
          "color": "#FFA15A",
          "symbol": "circle"
         },
         "mode": "markers",
         "name": "Engine Display",
         "showlegend": true,
         "type": "scatter",
         "x": [
          "Accuracy",
          "Configurability",
          "Understandability",
          "Feedback",
          "Distinguishability",
          "Limitations of user",
          "Situationally aware",
          "Reliable",
          "Redundany",
          "Error Management",
          "Trainability and Learnability",
          "User's attention",
          "Usage patterns",
          "User aware of limitations",
          "Validatable",
          "Efficiency",
          "Effectiveness",
          "Practicality",
          "Context Coverage",
          "Risk Mitigations",
          "Communication Required",
          "Satisfaction of Use",
          "Attentive Attributes",
          "Ouput of Information",
          "Input of Information",
          "Procedural Use"
         ],
         "xaxis": "x",
         "y": [
          2.8418081240205275,
          1.6056283023720241,
          4.656651998187997,
          3.5476933970359066,
          5.043826257968675,
          4.308002861801548,
          4.213235093532145,
          4.165389250313125,
          3.5831289189940483,
          3.779294502415917,
          3.7869438041958414,
          4.708092873377979,
          4.799386914830923,
          3.9660145803930047,
          4.907671049698115,
          5.2074289006570185,
          5.306879203848744,
          4.999608637407962,
          5.271571324035507,
          3.9974513723281886,
          5.401171511994754,
          4.348289916092964,
          5.669736646304079,
          4.811899889935408,
          0.7000897804170174,
          4.799321701939324
         ],
         "yaxis": "y"
        }
       ],
       "layout": {
        "legend": {
         "title": {
          "text": "Instruments"
         },
         "tracegroupgap": 0
        },
        "margin": {
         "t": 60
        },
        "template": {
         "data": {
          "bar": [
           {
            "error_x": {
             "color": "#2a3f5f"
            },
            "error_y": {
             "color": "#2a3f5f"
            },
            "marker": {
             "line": {
              "color": "#E5ECF6",
              "width": 0.5
             }
            },
            "type": "bar"
           }
          ],
          "barpolar": [
           {
            "marker": {
             "line": {
              "color": "#E5ECF6",
              "width": 0.5
             }
            },
            "type": "barpolar"
           }
          ],
          "carpet": [
           {
            "aaxis": {
             "endlinecolor": "#2a3f5f",
             "gridcolor": "white",
             "linecolor": "white",
             "minorgridcolor": "white",
             "startlinecolor": "#2a3f5f"
            },
            "baxis": {
             "endlinecolor": "#2a3f5f",
             "gridcolor": "white",
             "linecolor": "white",
             "minorgridcolor": "white",
             "startlinecolor": "#2a3f5f"
            },
            "type": "carpet"
           }
          ],
          "choropleth": [
           {
            "colorbar": {
             "outlinewidth": 0,
             "ticks": ""
            },
            "type": "choropleth"
           }
          ],
          "contour": [
           {
            "colorbar": {
             "outlinewidth": 0,
             "ticks": ""
            },
            "colorscale": [
             [
              0,
              "#0d0887"
             ],
             [
              0.1111111111111111,
              "#46039f"
             ],
             [
              0.2222222222222222,
              "#7201a8"
             ],
             [
              0.3333333333333333,
              "#9c179e"
             ],
             [
              0.4444444444444444,
              "#bd3786"
             ],
             [
              0.5555555555555556,
              "#d8576b"
             ],
             [
              0.6666666666666666,
              "#ed7953"
             ],
             [
              0.7777777777777778,
              "#fb9f3a"
             ],
             [
              0.8888888888888888,
              "#fdca26"
             ],
             [
              1,
              "#f0f921"
             ]
            ],
            "type": "contour"
           }
          ],
          "contourcarpet": [
           {
            "colorbar": {
             "outlinewidth": 0,
             "ticks": ""
            },
            "type": "contourcarpet"
           }
          ],
          "heatmap": [
           {
            "colorbar": {
             "outlinewidth": 0,
             "ticks": ""
            },
            "colorscale": [
             [
              0,
              "#0d0887"
             ],
             [
              0.1111111111111111,
              "#46039f"
             ],
             [
              0.2222222222222222,
              "#7201a8"
             ],
             [
              0.3333333333333333,
              "#9c179e"
             ],
             [
              0.4444444444444444,
              "#bd3786"
             ],
             [
              0.5555555555555556,
              "#d8576b"
             ],
             [
              0.6666666666666666,
              "#ed7953"
             ],
             [
              0.7777777777777778,
              "#fb9f3a"
             ],
             [
              0.8888888888888888,
              "#fdca26"
             ],
             [
              1,
              "#f0f921"
             ]
            ],
            "type": "heatmap"
           }
          ],
          "heatmapgl": [
           {
            "colorbar": {
             "outlinewidth": 0,
             "ticks": ""
            },
            "colorscale": [
             [
              0,
              "#0d0887"
             ],
             [
              0.1111111111111111,
              "#46039f"
             ],
             [
              0.2222222222222222,
              "#7201a8"
             ],
             [
              0.3333333333333333,
              "#9c179e"
             ],
             [
              0.4444444444444444,
              "#bd3786"
             ],
             [
              0.5555555555555556,
              "#d8576b"
             ],
             [
              0.6666666666666666,
              "#ed7953"
             ],
             [
              0.7777777777777778,
              "#fb9f3a"
             ],
             [
              0.8888888888888888,
              "#fdca26"
             ],
             [
              1,
              "#f0f921"
             ]
            ],
            "type": "heatmapgl"
           }
          ],
          "histogram": [
           {
            "marker": {
             "colorbar": {
              "outlinewidth": 0,
              "ticks": ""
             }
            },
            "type": "histogram"
           }
          ],
          "histogram2d": [
           {
            "colorbar": {
             "outlinewidth": 0,
             "ticks": ""
            },
            "colorscale": [
             [
              0,
              "#0d0887"
             ],
             [
              0.1111111111111111,
              "#46039f"
             ],
             [
              0.2222222222222222,
              "#7201a8"
             ],
             [
              0.3333333333333333,
              "#9c179e"
             ],
             [
              0.4444444444444444,
              "#bd3786"
             ],
             [
              0.5555555555555556,
              "#d8576b"
             ],
             [
              0.6666666666666666,
              "#ed7953"
             ],
             [
              0.7777777777777778,
              "#fb9f3a"
             ],
             [
              0.8888888888888888,
              "#fdca26"
             ],
             [
              1,
              "#f0f921"
             ]
            ],
            "type": "histogram2d"
           }
          ],
          "histogram2dcontour": [
           {
            "colorbar": {
             "outlinewidth": 0,
             "ticks": ""
            },
            "colorscale": [
             [
              0,
              "#0d0887"
             ],
             [
              0.1111111111111111,
              "#46039f"
             ],
             [
              0.2222222222222222,
              "#7201a8"
             ],
             [
              0.3333333333333333,
              "#9c179e"
             ],
             [
              0.4444444444444444,
              "#bd3786"
             ],
             [
              0.5555555555555556,
              "#d8576b"
             ],
             [
              0.6666666666666666,
              "#ed7953"
             ],
             [
              0.7777777777777778,
              "#fb9f3a"
             ],
             [
              0.8888888888888888,
              "#fdca26"
             ],
             [
              1,
              "#f0f921"
             ]
            ],
            "type": "histogram2dcontour"
           }
          ],
          "mesh3d": [
           {
            "colorbar": {
             "outlinewidth": 0,
             "ticks": ""
            },
            "type": "mesh3d"
           }
          ],
          "parcoords": [
           {
            "line": {
             "colorbar": {
              "outlinewidth": 0,
              "ticks": ""
             }
            },
            "type": "parcoords"
           }
          ],
          "pie": [
           {
            "automargin": true,
            "type": "pie"
           }
          ],
          "scatter": [
           {
            "marker": {
             "colorbar": {
              "outlinewidth": 0,
              "ticks": ""
             }
            },
            "type": "scatter"
           }
          ],
          "scatter3d": [
           {
            "line": {
             "colorbar": {
              "outlinewidth": 0,
              "ticks": ""
             }
            },
            "marker": {
             "colorbar": {
              "outlinewidth": 0,
              "ticks": ""
             }
            },
            "type": "scatter3d"
           }
          ],
          "scattercarpet": [
           {
            "marker": {
             "colorbar": {
              "outlinewidth": 0,
              "ticks": ""
             }
            },
            "type": "scattercarpet"
           }
          ],
          "scattergeo": [
           {
            "marker": {
             "colorbar": {
              "outlinewidth": 0,
              "ticks": ""
             }
            },
            "type": "scattergeo"
           }
          ],
          "scattergl": [
           {
            "marker": {
             "colorbar": {
              "outlinewidth": 0,
              "ticks": ""
             }
            },
            "type": "scattergl"
           }
          ],
          "scattermapbox": [
           {
            "marker": {
             "colorbar": {
              "outlinewidth": 0,
              "ticks": ""
             }
            },
            "type": "scattermapbox"
           }
          ],
          "scatterpolar": [
           {
            "marker": {
             "colorbar": {
              "outlinewidth": 0,
              "ticks": ""
             }
            },
            "type": "scatterpolar"
           }
          ],
          "scatterpolargl": [
           {
            "marker": {
             "colorbar": {
              "outlinewidth": 0,
              "ticks": ""
             }
            },
            "type": "scatterpolargl"
           }
          ],
          "scatterternary": [
           {
            "marker": {
             "colorbar": {
              "outlinewidth": 0,
              "ticks": ""
             }
            },
            "type": "scatterternary"
           }
          ],
          "surface": [
           {
            "colorbar": {
             "outlinewidth": 0,
             "ticks": ""
            },
            "colorscale": [
             [
              0,
              "#0d0887"
             ],
             [
              0.1111111111111111,
              "#46039f"
             ],
             [
              0.2222222222222222,
              "#7201a8"
             ],
             [
              0.3333333333333333,
              "#9c179e"
             ],
             [
              0.4444444444444444,
              "#bd3786"
             ],
             [
              0.5555555555555556,
              "#d8576b"
             ],
             [
              0.6666666666666666,
              "#ed7953"
             ],
             [
              0.7777777777777778,
              "#fb9f3a"
             ],
             [
              0.8888888888888888,
              "#fdca26"
             ],
             [
              1,
              "#f0f921"
             ]
            ],
            "type": "surface"
           }
          ],
          "table": [
           {
            "cells": {
             "fill": {
              "color": "#EBF0F8"
             },
             "line": {
              "color": "white"
             }
            },
            "header": {
             "fill": {
              "color": "#C8D4E3"
             },
             "line": {
              "color": "white"
             }
            },
            "type": "table"
           }
          ]
         },
         "layout": {
          "annotationdefaults": {
           "arrowcolor": "#2a3f5f",
           "arrowhead": 0,
           "arrowwidth": 1
          },
          "coloraxis": {
           "colorbar": {
            "outlinewidth": 0,
            "ticks": ""
           }
          },
          "colorscale": {
           "diverging": [
            [
             0,
             "#8e0152"
            ],
            [
             0.1,
             "#c51b7d"
            ],
            [
             0.2,
             "#de77ae"
            ],
            [
             0.3,
             "#f1b6da"
            ],
            [
             0.4,
             "#fde0ef"
            ],
            [
             0.5,
             "#f7f7f7"
            ],
            [
             0.6,
             "#e6f5d0"
            ],
            [
             0.7,
             "#b8e186"
            ],
            [
             0.8,
             "#7fbc41"
            ],
            [
             0.9,
             "#4d9221"
            ],
            [
             1,
             "#276419"
            ]
           ],
           "sequential": [
            [
             0,
             "#0d0887"
            ],
            [
             0.1111111111111111,
             "#46039f"
            ],
            [
             0.2222222222222222,
             "#7201a8"
            ],
            [
             0.3333333333333333,
             "#9c179e"
            ],
            [
             0.4444444444444444,
             "#bd3786"
            ],
            [
             0.5555555555555556,
             "#d8576b"
            ],
            [
             0.6666666666666666,
             "#ed7953"
            ],
            [
             0.7777777777777778,
             "#fb9f3a"
            ],
            [
             0.8888888888888888,
             "#fdca26"
            ],
            [
             1,
             "#f0f921"
            ]
           ],
           "sequentialminus": [
            [
             0,
             "#0d0887"
            ],
            [
             0.1111111111111111,
             "#46039f"
            ],
            [
             0.2222222222222222,
             "#7201a8"
            ],
            [
             0.3333333333333333,
             "#9c179e"
            ],
            [
             0.4444444444444444,
             "#bd3786"
            ],
            [
             0.5555555555555556,
             "#d8576b"
            ],
            [
             0.6666666666666666,
             "#ed7953"
            ],
            [
             0.7777777777777778,
             "#fb9f3a"
            ],
            [
             0.8888888888888888,
             "#fdca26"
            ],
            [
             1,
             "#f0f921"
            ]
           ]
          },
          "colorway": [
           "#636efa",
           "#EF553B",
           "#00cc96",
           "#ab63fa",
           "#FFA15A",
           "#19d3f3",
           "#FF6692",
           "#B6E880",
           "#FF97FF",
           "#FECB52"
          ],
          "font": {
           "color": "#2a3f5f"
          },
          "geo": {
           "bgcolor": "white",
           "lakecolor": "white",
           "landcolor": "#E5ECF6",
           "showlakes": true,
           "showland": true,
           "subunitcolor": "white"
          },
          "hoverlabel": {
           "align": "left"
          },
          "hovermode": "closest",
          "mapbox": {
           "style": "light"
          },
          "paper_bgcolor": "white",
          "plot_bgcolor": "#E5ECF6",
          "polar": {
           "angularaxis": {
            "gridcolor": "white",
            "linecolor": "white",
            "ticks": ""
           },
           "bgcolor": "#E5ECF6",
           "radialaxis": {
            "gridcolor": "white",
            "linecolor": "white",
            "ticks": ""
           }
          },
          "scene": {
           "xaxis": {
            "backgroundcolor": "#E5ECF6",
            "gridcolor": "white",
            "gridwidth": 2,
            "linecolor": "white",
            "showbackground": true,
            "ticks": "",
            "zerolinecolor": "white"
           },
           "yaxis": {
            "backgroundcolor": "#E5ECF6",
            "gridcolor": "white",
            "gridwidth": 2,
            "linecolor": "white",
            "showbackground": true,
            "ticks": "",
            "zerolinecolor": "white"
           },
           "zaxis": {
            "backgroundcolor": "#E5ECF6",
            "gridcolor": "white",
            "gridwidth": 2,
            "linecolor": "white",
            "showbackground": true,
            "ticks": "",
            "zerolinecolor": "white"
           }
          },
          "shapedefaults": {
           "line": {
            "color": "#2a3f5f"
           }
          },
          "ternary": {
           "aaxis": {
            "gridcolor": "white",
            "linecolor": "white",
            "ticks": ""
           },
           "baxis": {
            "gridcolor": "white",
            "linecolor": "white",
            "ticks": ""
           },
           "bgcolor": "#E5ECF6",
           "caxis": {
            "gridcolor": "white",
            "linecolor": "white",
            "ticks": ""
           }
          },
          "title": {
           "x": 0.05
          },
          "xaxis": {
           "automargin": true,
           "gridcolor": "white",
           "linecolor": "white",
           "ticks": "",
           "title": {
            "standoff": 15
           },
           "zerolinecolor": "white",
           "zerolinewidth": 2
          },
          "yaxis": {
           "automargin": true,
           "gridcolor": "white",
           "linecolor": "white",
           "ticks": "",
           "title": {
            "standoff": 15
           },
           "zerolinecolor": "white",
           "zerolinewidth": 2
          }
         }
        },
        "xaxis": {
         "anchor": "y",
         "domain": [
          0,
          1
         ],
         "title": {
          "text": "Quality"
         }
        },
        "yaxis": {
         "anchor": "x",
         "domain": [
          0,
          1
         ],
         "title": {
          "text": "value"
         }
        }
       }
      },
      "text/html": [
       "<div>\n",
       "        \n",
       "        \n",
       "            <div id=\"e0a63219-068f-41b8-b92a-3c83c2706e8f\" class=\"plotly-graph-div\" style=\"height:525px; width:100%;\"></div>\n",
       "            <script type=\"text/javascript\">\n",
       "                require([\"plotly\"], function(Plotly) {\n",
       "                    window.PLOTLYENV=window.PLOTLYENV || {};\n",
       "                    \n",
       "                if (document.getElementById(\"e0a63219-068f-41b8-b92a-3c83c2706e8f\")) {\n",
       "                    Plotly.newPlot(\n",
       "                        'e0a63219-068f-41b8-b92a-3c83c2706e8f',\n",
       "                        [{\"hovertemplate\": \"Instruments=Control Display Unit<br>Quality=%{x}<br>value=%{y}<extra></extra>\", \"legendgroup\": \"Control Display Unit\", \"marker\": {\"color\": \"#636efa\", \"symbol\": \"circle\"}, \"mode\": \"markers\", \"name\": \"Control Display Unit\", \"showlegend\": true, \"type\": \"scatter\", \"x\": [\"Accuracy\", \"Configurability\", \"Understandability\", \"Feedback\", \"Distinguishability\", \"Limitations of user\", \"Situationally aware\", \"Reliable\", \"Redundany\", \"Error Management\", \"Trainability and Learnability\", \"User's attention\", \"Usage patterns\", \"User aware of limitations\", \"Validatable\", \"Efficiency\", \"Effectiveness\", \"Practicality\", \"Context Coverage\", \"Risk Mitigations\", \"Communication Required\", \"Satisfaction of Use\", \"Attentive Attributes\", \"Ouput of Information\", \"Input of Information\", \"Procedural Use\"], \"xaxis\": \"x\", \"y\": [3.412335833909652, 1.157216588571464, 4.314223961372215, 3.733857291706471, 5.440891585551243, 5.113898470841162, 3.95091934339064, 4.788014335637406, 2.6788112778767474, 3.9414672563138087, 3.1762417325286205, 4.2725927794639835, 3.4902456860464848, 1.310557735426504, 3.1031396471135873, 4.608576735264096, 4.799382049534686, 4.609789585046868, 3.5970787344087034, 2.5417615857868356, 4.707806975686077, 4.590266448848021, 2.484097286529263, 3.991109993608682, 4.191648544478629, 4.260513184088725], \"yaxis\": \"y\"}, {\"hovertemplate\": \"Instruments=Primary Flight Display<br>Quality=%{x}<br>value=%{y}<extra></extra>\", \"legendgroup\": \"Primary Flight Display\", \"marker\": {\"color\": \"#EF553B\", \"symbol\": \"circle\"}, \"mode\": \"markers\", \"name\": \"Primary Flight Display\", \"showlegend\": true, \"type\": \"scatter\", \"x\": [\"Accuracy\", \"Configurability\", \"Understandability\", \"Feedback\", \"Distinguishability\", \"Limitations of user\", \"Situationally aware\", \"Reliable\", \"Redundany\", \"Error Management\", \"Trainability and Learnability\", \"User's attention\", \"Usage patterns\", \"User aware of limitations\", \"Validatable\", \"Efficiency\", \"Effectiveness\", \"Practicality\", \"Context Coverage\", \"Risk Mitigations\", \"Communication Required\", \"Satisfaction of Use\", \"Attentive Attributes\", \"Ouput of Information\", \"Input of Information\", \"Procedural Use\"], \"xaxis\": \"x\", \"y\": [5.087311521232985, 3.769002486875575, 5.200363280766648, 5.2239133350235, 5.9343489307774435, 5.082216375037922, 3.6813764952548604, 3.187816224537257, 3.4226089286787005, 4.9531575635169975, 5.009990979381007, 3.887840601390781, 2.202584486581983, 4.079341051704051, 4.669695172957956, 4.964939237109806, 5.711072809110888, 4.522005181771085, 5.136701704467068, 4.094039486728673, 3.1261270655540323, 4.573471743076705, 3.8250794234393783, 5.6187339488988295, 3.973135773235387, 4.725316009278718], \"yaxis\": \"y\"}, {\"hovertemplate\": \"Instruments=Landing Light Panel<br>Quality=%{x}<br>value=%{y}<extra></extra>\", \"legendgroup\": \"Landing Light Panel\", \"marker\": {\"color\": \"#00cc96\", \"symbol\": \"circle\"}, \"mode\": \"markers\", \"name\": \"Landing Light Panel\", \"showlegend\": true, \"type\": \"scatter\", \"x\": [\"Accuracy\", \"Configurability\", \"Understandability\", \"Feedback\", \"Distinguishability\", \"Limitations of user\", \"Situationally aware\", \"Reliable\", \"Redundany\", \"Error Management\", \"Trainability and Learnability\", \"User's attention\", \"Usage patterns\", \"User aware of limitations\", \"Validatable\", \"Efficiency\", \"Effectiveness\", \"Practicality\", \"Context Coverage\", \"Risk Mitigations\", \"Communication Required\", \"Satisfaction of Use\", \"Attentive Attributes\", \"Ouput of Information\", \"Input of Information\", \"Procedural Use\"], \"xaxis\": \"x\", \"y\": [4.121965718743627, 2.0038305921567225, 4.476962683705858, 4.126934559009179, 4.150072853598489, 3.406335629639834, 3.601549977338061, 4.147425720900111, 1.7044291409964087, 2.452169986809276, 5.391057746084622, 4.888731447585872, 4.985681564538077, 4.062607969806792, 1.8742622419598776, 3.7643404443112094, 4.480625371148939, 6.066654102197843, 2.8598200136806256, 1.8899353509918033, 4.078779548370525, 4.45236349404842, 3.7105267787568526, 0.6955059054393673, 3.2997110568514736, 3.135386044663301], \"yaxis\": \"y\"}, {\"hovertemplate\": \"Instruments=Air Conditioning Panel<br>Quality=%{x}<br>value=%{y}<extra></extra>\", \"legendgroup\": \"Air Conditioning Panel\", \"marker\": {\"color\": \"#ab63fa\", \"symbol\": \"circle\"}, \"mode\": \"markers\", \"name\": \"Air Conditioning Panel\", \"showlegend\": true, \"type\": \"scatter\", \"x\": [\"Accuracy\", \"Configurability\", \"Understandability\", \"Feedback\", \"Distinguishability\", \"Limitations of user\", \"Situationally aware\", \"Reliable\", \"Redundany\", \"Error Management\", \"Trainability and Learnability\", \"User's attention\", \"Usage patterns\", \"User aware of limitations\", \"Validatable\", \"Efficiency\", \"Effectiveness\", \"Practicality\", \"Context Coverage\", \"Risk Mitigations\", \"Communication Required\", \"Satisfaction of Use\", \"Attentive Attributes\", \"Ouput of Information\", \"Input of Information\", \"Procedural Use\"], \"xaxis\": \"x\", \"y\": [4.269075088208257, 1.7086947448735406, 4.600264142892335, 4.556799349573395, 2.4361395625726825, 4.005166767152909, 3.8666516681918908, 3.888737763034692, 1.7192531931538555, 1.6357541843194883, 4.803700330606991, 3.4146251198866575, 5.0822049853850055, 2.7625877849235545, 3.4272603791183767, 3.6248679329359446, 4.374643748776634, 3.828204975790451, 4.827762904994439, 2.2914995582277444, 3.1415463489380913, 2.672337069305094, 2.525744277022608, 4.0458039491250615, 3.0557462208931114, 3.1434701889595194], \"yaxis\": \"y\"}, {\"hovertemplate\": \"Instruments=Pneumatics Panel<br>Quality=%{x}<br>value=%{y}<extra></extra>\", \"legendgroup\": \"Pneumatics Panel\", \"marker\": {\"color\": \"#FFA15A\", \"symbol\": \"circle\"}, \"mode\": \"markers\", \"name\": \"Pneumatics Panel\", \"showlegend\": true, \"type\": \"scatter\", \"x\": [\"Accuracy\", \"Configurability\", \"Understandability\", \"Feedback\", \"Distinguishability\", \"Limitations of user\", \"Situationally aware\", \"Reliable\", \"Redundany\", \"Error Management\", \"Trainability and Learnability\", \"User's attention\", \"Usage patterns\", \"User aware of limitations\", \"Validatable\", \"Efficiency\", \"Effectiveness\", \"Practicality\", \"Context Coverage\", \"Risk Mitigations\", \"Communication Required\", \"Satisfaction of Use\", \"Attentive Attributes\", \"Ouput of Information\", \"Input of Information\", \"Procedural Use\"], \"xaxis\": \"x\", \"y\": [4.574783883809127, 1.177315586901178, 5.328529048295121, 3.6620465610955013, 5.041416342922763, 4.4445912232419165, 4.363202788130065, 4.083903075228313, 1.5982293021983263, 5.131866288561806, 3.6889017280828047, 4.0349368611349, 4.71259810001245, 4.098493183231368, 4.48056384079417, 4.406813605099319, 3.2091679300079567, 4.6946541159300805, 3.238189309186326, 4.7486771841585815, 4.516877280448748, 3.831296486814491, 4.798679976206328, 4.572548553277252, 5.049418601442955, 1.2486004069303291], \"yaxis\": \"y\"}, {\"hovertemplate\": \"Instruments=Equipment Cooling<br>Quality=%{x}<br>value=%{y}<extra></extra>\", \"legendgroup\": \"Equipment Cooling\", \"marker\": {\"color\": \"#19d3f3\", \"symbol\": \"circle\"}, \"mode\": \"markers\", \"name\": \"Equipment Cooling\", \"showlegend\": true, \"type\": \"scatter\", \"x\": [\"Accuracy\", \"Configurability\", \"Understandability\", \"Feedback\", \"Distinguishability\", \"Limitations of user\", \"Situationally aware\", \"Reliable\", \"Redundany\", \"Error Management\", \"Trainability and Learnability\", \"User's attention\", \"Usage patterns\", \"User aware of limitations\", \"Validatable\", \"Efficiency\", \"Effectiveness\", \"Practicality\", \"Context Coverage\", \"Risk Mitigations\", \"Communication Required\", \"Satisfaction of Use\", \"Attentive Attributes\", \"Ouput of Information\", \"Input of Information\", \"Procedural Use\"], \"xaxis\": \"x\", \"y\": [2.7384839393162, 1.1286750357470667, 3.945122526515237, 3.0144704617831337, 4.145850475678546, 1.5911617886978144, 1.2433258604202695, 3.261866848366398, 0.8754353522963144, 3.9529977086185095, 5.288879022130373, 3.8225709563312957, 4.128588394661313, 2.6895641209473173, 4.710294673406701, 3.815001017082629, 2.829432533171001, 3.661805698468252, 1.809816085301252, 1.465278559695643, 2.971593024061243, 3.640917852236988, 3.5652131778242886, 1.398335603876913, 3.260246140110818, 0.6586699194243064], \"yaxis\": \"y\"}, {\"hovertemplate\": \"Instruments=Cabin Altitude Panel<br>Quality=%{x}<br>value=%{y}<extra></extra>\", \"legendgroup\": \"Cabin Altitude Panel\", \"marker\": {\"color\": \"#FF6692\", \"symbol\": \"circle\"}, \"mode\": \"markers\", \"name\": \"Cabin Altitude Panel\", \"showlegend\": true, \"type\": \"scatter\", \"x\": [\"Accuracy\", \"Configurability\", \"Understandability\", \"Feedback\", \"Distinguishability\", \"Limitations of user\", \"Situationally aware\", \"Reliable\", \"Redundany\", \"Error Management\", \"Trainability and Learnability\", \"User's attention\", \"Usage patterns\", \"User aware of limitations\", \"Validatable\", \"Efficiency\", \"Effectiveness\", \"Practicality\", \"Context Coverage\", \"Risk Mitigations\", \"Communication Required\", \"Satisfaction of Use\", \"Attentive Attributes\", \"Ouput of Information\", \"Input of Information\", \"Procedural Use\"], \"xaxis\": \"x\", \"y\": [4.326289977744638, 1.5384669041278143, 4.020566643946214, 4.032487142616513, 3.656158801875119, 4.036429657566582, 3.6884512128373435, 3.0131997147145277, 3.502695455127015, 3.4300776249136447, 4.572360618769967, 2.8319301130090446, 2.8048792477528526, 3.0157962264990754, 3.6345544853353173, 4.20784925997466, 2.5706988078823234, 3.5609969179641894, 3.0082738644214553, 3.561536197362829, 2.9800327792469203, 3.501900042471242, 2.0901368621024528, 3.723453539262676, 1.2081881925417268, 2.157763869150972], \"yaxis\": \"y\"}, {\"hovertemplate\": \"Instruments=Cabin Pressurization Panel<br>Quality=%{x}<br>value=%{y}<extra></extra>\", \"legendgroup\": \"Cabin Pressurization Panel\", \"marker\": {\"color\": \"#B6E880\", \"symbol\": \"circle\"}, \"mode\": \"markers\", \"name\": \"Cabin Pressurization Panel\", \"showlegend\": true, \"type\": \"scatter\", \"x\": [\"Accuracy\", \"Configurability\", \"Understandability\", \"Feedback\", \"Distinguishability\", \"Limitations of user\", \"Situationally aware\", \"Reliable\", \"Redundany\", \"Error Management\", \"Trainability and Learnability\", \"User's attention\", \"Usage patterns\", \"User aware of limitations\", \"Validatable\", \"Efficiency\", \"Effectiveness\", \"Practicality\", \"Context Coverage\", \"Risk Mitigations\", \"Communication Required\", \"Satisfaction of Use\", \"Attentive Attributes\", \"Ouput of Information\", \"Input of Information\", \"Procedural Use\"], \"xaxis\": \"x\", \"y\": [3.5863079742761457, 0.9783512958856967, 4.499445367807152, 4.757441643498277, 3.5242746674660057, 4.597238599695688, 3.896850949655919, 3.9023850914567992, 4.122222199135242, 3.1854191949932216, 4.837757864678298, 2.9129245904284775, 3.350036316631259, 4.112178495293075, 4.2793432455508205, 3.9332815635782583, 2.696334483370727, 3.899191935181083, 3.277442784403508, 2.853937189035583, 4.188814226792254, 3.7805401483733436, 4.557882987534437, 3.9087246977281755, 5.292370632047494, 1.3876199702328944], \"yaxis\": \"y\"}, {\"hovertemplate\": \"Instruments=Audio Control Panel<br>Quality=%{x}<br>value=%{y}<extra></extra>\", \"legendgroup\": \"Audio Control Panel\", \"marker\": {\"color\": \"#FF97FF\", \"symbol\": \"circle\"}, \"mode\": \"markers\", \"name\": \"Audio Control Panel\", \"showlegend\": true, \"type\": \"scatter\", \"x\": [\"Accuracy\", \"Configurability\", \"Understandability\", \"Feedback\", \"Distinguishability\", \"Limitations of user\", \"Situationally aware\", \"Reliable\", \"Redundany\", \"Error Management\", \"Trainability and Learnability\", \"User's attention\", \"Usage patterns\", \"User aware of limitations\", \"Validatable\", \"Efficiency\", \"Effectiveness\", \"Practicality\", \"Context Coverage\", \"Risk Mitigations\", \"Communication Required\", \"Satisfaction of Use\", \"Attentive Attributes\", \"Ouput of Information\", \"Input of Information\", \"Procedural Use\"], \"xaxis\": \"x\", \"y\": [3.520426054027956, 1.121702018208694, 2.6701915892538723, 3.2224370978033967, 5.962051371692766, 1.3663043290553452, 3.4938141306045454, 3.5189068531906584, 3.6198380272901667, 3.1997516276258278, 3.6973020737445728, 4.767336226671971, 2.4557916154347255, 1.023551848804505, 3.1022569950908063, 2.6694519340132254, 3.1914506352118264, 1.8765515937075519, 3.8434954217262645, 2.13722911279569, 2.62601330775217, 3.2973252923490253, 1.4369862602630508, 0.8861863666952932, 3.370459582185127, 2.759662700432309], \"yaxis\": \"y\"}, {\"hovertemplate\": \"Instruments=Navigational Radio<br>Quality=%{x}<br>value=%{y}<extra></extra>\", \"legendgroup\": \"Navigational Radio\", \"marker\": {\"color\": \"#FECB52\", \"symbol\": \"circle\"}, \"mode\": \"markers\", \"name\": \"Navigational Radio\", \"showlegend\": true, \"type\": \"scatter\", \"x\": [\"Accuracy\", \"Configurability\", \"Understandability\", \"Feedback\", \"Distinguishability\", \"Limitations of user\", \"Situationally aware\", \"Reliable\", \"Redundany\", \"Error Management\", \"Trainability and Learnability\", \"User's attention\", \"Usage patterns\", \"User aware of limitations\", \"Validatable\", \"Efficiency\", \"Effectiveness\", \"Practicality\", \"Context Coverage\", \"Risk Mitigations\", \"Communication Required\", \"Satisfaction of Use\", \"Attentive Attributes\", \"Ouput of Information\", \"Input of Information\", \"Procedural Use\"], \"xaxis\": \"x\", \"y\": [4.803251103774543, 1.6313046846609638, 4.067497913461629, 4.042320231279563, 4.996124676903365, 4.52921117557266, 4.135799832407047, 3.5876536193103172, 4.348490345577412, 5.226153601040493, 4.251120553859082, 2.8194834969776825, 3.7003787634105816, 3.050854387487993, 3.9688018223080785, 3.7832946765004567, 4.623239322725686, 4.054558029272755, 4.105630317043147, 4.785758466726046, 4.393384065099747, 3.5057983684041663, 3.3297138946731675, 4.693548271249822, 4.600048113024561, 3.957642138548856], \"yaxis\": \"y\"}, {\"hovertemplate\": \"Instruments=TCAS Transponder<br>Quality=%{x}<br>value=%{y}<extra></extra>\", \"legendgroup\": \"TCAS Transponder\", \"marker\": {\"color\": \"#636efa\", \"symbol\": \"circle\"}, \"mode\": \"markers\", \"name\": \"TCAS Transponder\", \"showlegend\": true, \"type\": \"scatter\", \"x\": [\"Accuracy\", \"Configurability\", \"Understandability\", \"Feedback\", \"Distinguishability\", \"Limitations of user\", \"Situationally aware\", \"Reliable\", \"Redundany\", \"Error Management\", \"Trainability and Learnability\", \"User's attention\", \"Usage patterns\", \"User aware of limitations\", \"Validatable\", \"Efficiency\", \"Effectiveness\", \"Practicality\", \"Context Coverage\", \"Risk Mitigations\", \"Communication Required\", \"Satisfaction of Use\", \"Attentive Attributes\", \"Ouput of Information\", \"Input of Information\", \"Procedural Use\"], \"xaxis\": \"x\", \"y\": [5.478876641264187, 0.6688681335172206, 4.307038444401878, 5.840777898431121, 3.9155248595702203, 3.42262812024493, 4.186673708628621, 3.8734255615246314, 3.6002727071622345, 3.8336093386781824, 4.144810365100949, 4.518874845594375, 3.6258626524392352, 2.286736041171145, 3.3819825710099205, 4.390381048159077, 4.348519402029089, 5.79774804274588, 3.700924632209239, 1.6299373632326861, 4.749038827729574, 4.839836893167499, 1.9713748432105203, 4.502042726221593, 3.3880600612918252, 6.12631851356937], \"yaxis\": \"y\"}, {\"hovertemplate\": \"Instruments=Flight Controls Panel<br>Quality=%{x}<br>value=%{y}<extra></extra>\", \"legendgroup\": \"Flight Controls Panel\", \"marker\": {\"color\": \"#EF553B\", \"symbol\": \"circle\"}, \"mode\": \"markers\", \"name\": \"Flight Controls Panel\", \"showlegend\": true, \"type\": \"scatter\", \"x\": [\"Accuracy\", \"Configurability\", \"Understandability\", \"Feedback\", \"Distinguishability\", \"Limitations of user\", \"Situationally aware\", \"Reliable\", \"Redundany\", \"Error Management\", \"Trainability and Learnability\", \"User's attention\", \"Usage patterns\", \"User aware of limitations\", \"Validatable\", \"Efficiency\", \"Effectiveness\", \"Practicality\", \"Context Coverage\", \"Risk Mitigations\", \"Communication Required\", \"Satisfaction of Use\", \"Attentive Attributes\", \"Ouput of Information\", \"Input of Information\", \"Procedural Use\"], \"xaxis\": \"x\", \"y\": [4.551508477312081, 1.0605561152374465, 3.9769071455410976, 4.394346967045605, 3.5754653808671613, 3.5480008144847845, 3.0292447334574817, 4.0246713759610255, 3.215057511316817, 2.224136310476168, 2.340768998830495, 3.147234535361888, 3.0279339586838656, 3.2733664230100614, 3.4871346137751997, 4.030242924790142, 3.7210295430512947, 5.273454241587408, 3.192518248195376, 3.3726337367932784, 4.512054449610534, 3.6253340582796656, 5.017460694130805, 4.451584018524104, 3.465825034809293, 2.21169059659542], \"yaxis\": \"y\"}, {\"hovertemplate\": \"Instruments=EFIS Control Panel<br>Quality=%{x}<br>value=%{y}<extra></extra>\", \"legendgroup\": \"EFIS Control Panel\", \"marker\": {\"color\": \"#00cc96\", \"symbol\": \"circle\"}, \"mode\": \"markers\", \"name\": \"EFIS Control Panel\", \"showlegend\": true, \"type\": \"scatter\", \"x\": [\"Accuracy\", \"Configurability\", \"Understandability\", \"Feedback\", \"Distinguishability\", \"Limitations of user\", \"Situationally aware\", \"Reliable\", \"Redundany\", \"Error Management\", \"Trainability and Learnability\", \"User's attention\", \"Usage patterns\", \"User aware of limitations\", \"Validatable\", \"Efficiency\", \"Effectiveness\", \"Practicality\", \"Context Coverage\", \"Risk Mitigations\", \"Communication Required\", \"Satisfaction of Use\", \"Attentive Attributes\", \"Ouput of Information\", \"Input of Information\", \"Procedural Use\"], \"xaxis\": \"x\", \"y\": [5.2206006043474025, 0.7122167135286532, 2.7924470586043304, 3.4296353418453998, 5.177156372516676, 4.108084864132472, 3.4426318119202395, 5.193755489935805, 4.957081375456469, 3.7144955142743776, 2.7411417423278337, 3.945965644824768, 4.156911422706048, 3.564767297787827, 3.426181664471885, 4.150871429097576, 4.574675039006645, 4.789040913090833, 4.609214107655219, 3.393206902905631, 3.526266156961697, 4.218822901469428, 3.9224741871379907, 1.1910876694036736, 3.8929044746080836, 2.060838570410912], \"yaxis\": \"y\"}, {\"hovertemplate\": \"Instruments=Fuel Panel<br>Quality=%{x}<br>value=%{y}<extra></extra>\", \"legendgroup\": \"Fuel Panel\", \"marker\": {\"color\": \"#ab63fa\", \"symbol\": \"circle\"}, \"mode\": \"markers\", \"name\": \"Fuel Panel\", \"showlegend\": true, \"type\": \"scatter\", \"x\": [\"Accuracy\", \"Configurability\", \"Understandability\", \"Feedback\", \"Distinguishability\", \"Limitations of user\", \"Situationally aware\", \"Reliable\", \"Redundany\", \"Error Management\", \"Trainability and Learnability\", \"User's attention\", \"Usage patterns\", \"User aware of limitations\", \"Validatable\", \"Efficiency\", \"Effectiveness\", \"Practicality\", \"Context Coverage\", \"Risk Mitigations\", \"Communication Required\", \"Satisfaction of Use\", \"Attentive Attributes\", \"Ouput of Information\", \"Input of Information\", \"Procedural Use\"], \"xaxis\": \"x\", \"y\": [4.0255865719260635, 1.1319613659230199, 5.441171321227926, 3.3403260866521336, 5.644984697641292, 3.4116943972073766, 4.3316270157542, 4.691083597279663, 4.39430885777459, 5.66258910498135, 3.7575634924136008, 3.941839255488676, 4.241850456775893, 2.724370974220721, 3.375041611464318, 4.039234332006841, 3.6363039337900216, 5.731562688233584, 4.000909029082499, 3.738240615160991, 4.4726748626045785, 4.027765025144875, 2.009759774334979, 4.393053728679633, 3.771103030165342, 4.222154589303279], \"yaxis\": \"y\"}, {\"hovertemplate\": \"Instruments=Engine Display<br>Quality=%{x}<br>value=%{y}<extra></extra>\", \"legendgroup\": \"Engine Display\", \"marker\": {\"color\": \"#FFA15A\", \"symbol\": \"circle\"}, \"mode\": \"markers\", \"name\": \"Engine Display\", \"showlegend\": true, \"type\": \"scatter\", \"x\": [\"Accuracy\", \"Configurability\", \"Understandability\", \"Feedback\", \"Distinguishability\", \"Limitations of user\", \"Situationally aware\", \"Reliable\", \"Redundany\", \"Error Management\", \"Trainability and Learnability\", \"User's attention\", \"Usage patterns\", \"User aware of limitations\", \"Validatable\", \"Efficiency\", \"Effectiveness\", \"Practicality\", \"Context Coverage\", \"Risk Mitigations\", \"Communication Required\", \"Satisfaction of Use\", \"Attentive Attributes\", \"Ouput of Information\", \"Input of Information\", \"Procedural Use\"], \"xaxis\": \"x\", \"y\": [2.8418081240205275, 1.6056283023720241, 4.656651998187997, 3.5476933970359066, 5.043826257968675, 4.308002861801548, 4.213235093532145, 4.165389250313125, 3.5831289189940483, 3.779294502415917, 3.7869438041958414, 4.708092873377979, 4.799386914830923, 3.9660145803930047, 4.907671049698115, 5.2074289006570185, 5.306879203848744, 4.999608637407962, 5.271571324035507, 3.9974513723281886, 5.401171511994754, 4.348289916092964, 5.669736646304079, 4.811899889935408, 0.7000897804170174, 4.799321701939324], \"yaxis\": \"y\"}],\n",
       "                        {\"legend\": {\"title\": {\"text\": \"Instruments\"}, \"tracegroupgap\": 0}, \"margin\": {\"t\": 60}, \"template\": {\"data\": {\"bar\": [{\"error_x\": {\"color\": \"#2a3f5f\"}, \"error_y\": {\"color\": \"#2a3f5f\"}, \"marker\": {\"line\": {\"color\": \"#E5ECF6\", \"width\": 0.5}}, \"type\": \"bar\"}], \"barpolar\": [{\"marker\": {\"line\": {\"color\": \"#E5ECF6\", \"width\": 0.5}}, \"type\": \"barpolar\"}], \"carpet\": [{\"aaxis\": {\"endlinecolor\": \"#2a3f5f\", \"gridcolor\": \"white\", \"linecolor\": \"white\", \"minorgridcolor\": \"white\", \"startlinecolor\": \"#2a3f5f\"}, \"baxis\": {\"endlinecolor\": \"#2a3f5f\", \"gridcolor\": \"white\", \"linecolor\": \"white\", \"minorgridcolor\": \"white\", \"startlinecolor\": \"#2a3f5f\"}, \"type\": \"carpet\"}], \"choropleth\": [{\"colorbar\": {\"outlinewidth\": 0, \"ticks\": \"\"}, \"type\": \"choropleth\"}], \"contour\": [{\"colorbar\": {\"outlinewidth\": 0, \"ticks\": \"\"}, \"colorscale\": [[0.0, \"#0d0887\"], [0.1111111111111111, \"#46039f\"], [0.2222222222222222, \"#7201a8\"], [0.3333333333333333, \"#9c179e\"], [0.4444444444444444, \"#bd3786\"], [0.5555555555555556, \"#d8576b\"], [0.6666666666666666, \"#ed7953\"], [0.7777777777777778, \"#fb9f3a\"], [0.8888888888888888, \"#fdca26\"], [1.0, \"#f0f921\"]], \"type\": \"contour\"}], \"contourcarpet\": [{\"colorbar\": {\"outlinewidth\": 0, \"ticks\": \"\"}, \"type\": \"contourcarpet\"}], \"heatmap\": [{\"colorbar\": {\"outlinewidth\": 0, \"ticks\": \"\"}, \"colorscale\": [[0.0, \"#0d0887\"], [0.1111111111111111, \"#46039f\"], [0.2222222222222222, \"#7201a8\"], [0.3333333333333333, \"#9c179e\"], [0.4444444444444444, \"#bd3786\"], [0.5555555555555556, \"#d8576b\"], [0.6666666666666666, \"#ed7953\"], [0.7777777777777778, \"#fb9f3a\"], [0.8888888888888888, \"#fdca26\"], [1.0, \"#f0f921\"]], \"type\": \"heatmap\"}], \"heatmapgl\": [{\"colorbar\": {\"outlinewidth\": 0, \"ticks\": \"\"}, \"colorscale\": [[0.0, \"#0d0887\"], [0.1111111111111111, \"#46039f\"], [0.2222222222222222, \"#7201a8\"], [0.3333333333333333, \"#9c179e\"], [0.4444444444444444, \"#bd3786\"], [0.5555555555555556, \"#d8576b\"], [0.6666666666666666, \"#ed7953\"], [0.7777777777777778, \"#fb9f3a\"], [0.8888888888888888, \"#fdca26\"], [1.0, \"#f0f921\"]], \"type\": \"heatmapgl\"}], \"histogram\": [{\"marker\": {\"colorbar\": {\"outlinewidth\": 0, \"ticks\": \"\"}}, \"type\": \"histogram\"}], \"histogram2d\": [{\"colorbar\": {\"outlinewidth\": 0, \"ticks\": \"\"}, \"colorscale\": [[0.0, \"#0d0887\"], [0.1111111111111111, \"#46039f\"], [0.2222222222222222, \"#7201a8\"], [0.3333333333333333, \"#9c179e\"], [0.4444444444444444, \"#bd3786\"], [0.5555555555555556, \"#d8576b\"], [0.6666666666666666, \"#ed7953\"], [0.7777777777777778, \"#fb9f3a\"], [0.8888888888888888, \"#fdca26\"], [1.0, \"#f0f921\"]], \"type\": \"histogram2d\"}], \"histogram2dcontour\": [{\"colorbar\": {\"outlinewidth\": 0, \"ticks\": \"\"}, \"colorscale\": [[0.0, \"#0d0887\"], [0.1111111111111111, \"#46039f\"], [0.2222222222222222, \"#7201a8\"], [0.3333333333333333, \"#9c179e\"], [0.4444444444444444, \"#bd3786\"], [0.5555555555555556, \"#d8576b\"], [0.6666666666666666, \"#ed7953\"], [0.7777777777777778, \"#fb9f3a\"], [0.8888888888888888, \"#fdca26\"], [1.0, \"#f0f921\"]], \"type\": \"histogram2dcontour\"}], \"mesh3d\": [{\"colorbar\": {\"outlinewidth\": 0, \"ticks\": \"\"}, \"type\": \"mesh3d\"}], \"parcoords\": [{\"line\": {\"colorbar\": {\"outlinewidth\": 0, \"ticks\": \"\"}}, \"type\": \"parcoords\"}], \"pie\": [{\"automargin\": true, \"type\": \"pie\"}], \"scatter\": [{\"marker\": {\"colorbar\": {\"outlinewidth\": 0, \"ticks\": \"\"}}, \"type\": \"scatter\"}], \"scatter3d\": [{\"line\": {\"colorbar\": {\"outlinewidth\": 0, \"ticks\": \"\"}}, \"marker\": {\"colorbar\": {\"outlinewidth\": 0, \"ticks\": \"\"}}, \"type\": \"scatter3d\"}], \"scattercarpet\": [{\"marker\": {\"colorbar\": {\"outlinewidth\": 0, \"ticks\": \"\"}}, \"type\": \"scattercarpet\"}], \"scattergeo\": [{\"marker\": {\"colorbar\": {\"outlinewidth\": 0, \"ticks\": \"\"}}, \"type\": \"scattergeo\"}], \"scattergl\": [{\"marker\": {\"colorbar\": {\"outlinewidth\": 0, \"ticks\": \"\"}}, \"type\": \"scattergl\"}], \"scattermapbox\": [{\"marker\": {\"colorbar\": {\"outlinewidth\": 0, \"ticks\": \"\"}}, \"type\": \"scattermapbox\"}], \"scatterpolar\": [{\"marker\": {\"colorbar\": {\"outlinewidth\": 0, \"ticks\": \"\"}}, \"type\": \"scatterpolar\"}], \"scatterpolargl\": [{\"marker\": {\"colorbar\": {\"outlinewidth\": 0, \"ticks\": \"\"}}, \"type\": \"scatterpolargl\"}], \"scatterternary\": [{\"marker\": {\"colorbar\": {\"outlinewidth\": 0, \"ticks\": \"\"}}, \"type\": \"scatterternary\"}], \"surface\": [{\"colorbar\": {\"outlinewidth\": 0, \"ticks\": \"\"}, \"colorscale\": [[0.0, \"#0d0887\"], [0.1111111111111111, \"#46039f\"], [0.2222222222222222, \"#7201a8\"], [0.3333333333333333, \"#9c179e\"], [0.4444444444444444, \"#bd3786\"], [0.5555555555555556, \"#d8576b\"], [0.6666666666666666, \"#ed7953\"], [0.7777777777777778, \"#fb9f3a\"], [0.8888888888888888, \"#fdca26\"], [1.0, \"#f0f921\"]], \"type\": \"surface\"}], \"table\": [{\"cells\": {\"fill\": {\"color\": \"#EBF0F8\"}, \"line\": {\"color\": \"white\"}}, \"header\": {\"fill\": {\"color\": \"#C8D4E3\"}, \"line\": {\"color\": \"white\"}}, \"type\": \"table\"}]}, \"layout\": {\"annotationdefaults\": {\"arrowcolor\": \"#2a3f5f\", \"arrowhead\": 0, \"arrowwidth\": 1}, \"coloraxis\": {\"colorbar\": {\"outlinewidth\": 0, \"ticks\": \"\"}}, \"colorscale\": {\"diverging\": [[0, \"#8e0152\"], [0.1, \"#c51b7d\"], [0.2, \"#de77ae\"], [0.3, \"#f1b6da\"], [0.4, \"#fde0ef\"], [0.5, \"#f7f7f7\"], [0.6, \"#e6f5d0\"], [0.7, \"#b8e186\"], [0.8, \"#7fbc41\"], [0.9, \"#4d9221\"], [1, \"#276419\"]], \"sequential\": [[0.0, \"#0d0887\"], [0.1111111111111111, \"#46039f\"], [0.2222222222222222, \"#7201a8\"], [0.3333333333333333, \"#9c179e\"], [0.4444444444444444, \"#bd3786\"], [0.5555555555555556, \"#d8576b\"], [0.6666666666666666, \"#ed7953\"], [0.7777777777777778, \"#fb9f3a\"], [0.8888888888888888, \"#fdca26\"], [1.0, \"#f0f921\"]], \"sequentialminus\": [[0.0, \"#0d0887\"], [0.1111111111111111, \"#46039f\"], [0.2222222222222222, \"#7201a8\"], [0.3333333333333333, \"#9c179e\"], [0.4444444444444444, \"#bd3786\"], [0.5555555555555556, \"#d8576b\"], [0.6666666666666666, \"#ed7953\"], [0.7777777777777778, \"#fb9f3a\"], [0.8888888888888888, \"#fdca26\"], [1.0, \"#f0f921\"]]}, \"colorway\": [\"#636efa\", \"#EF553B\", \"#00cc96\", \"#ab63fa\", \"#FFA15A\", \"#19d3f3\", \"#FF6692\", \"#B6E880\", \"#FF97FF\", \"#FECB52\"], \"font\": {\"color\": \"#2a3f5f\"}, \"geo\": {\"bgcolor\": \"white\", \"lakecolor\": \"white\", \"landcolor\": \"#E5ECF6\", \"showlakes\": true, \"showland\": true, \"subunitcolor\": \"white\"}, \"hoverlabel\": {\"align\": \"left\"}, \"hovermode\": \"closest\", \"mapbox\": {\"style\": \"light\"}, \"paper_bgcolor\": \"white\", \"plot_bgcolor\": \"#E5ECF6\", \"polar\": {\"angularaxis\": {\"gridcolor\": \"white\", \"linecolor\": \"white\", \"ticks\": \"\"}, \"bgcolor\": \"#E5ECF6\", \"radialaxis\": {\"gridcolor\": \"white\", \"linecolor\": \"white\", \"ticks\": \"\"}}, \"scene\": {\"xaxis\": {\"backgroundcolor\": \"#E5ECF6\", \"gridcolor\": \"white\", \"gridwidth\": 2, \"linecolor\": \"white\", \"showbackground\": true, \"ticks\": \"\", \"zerolinecolor\": \"white\"}, \"yaxis\": {\"backgroundcolor\": \"#E5ECF6\", \"gridcolor\": \"white\", \"gridwidth\": 2, \"linecolor\": \"white\", \"showbackground\": true, \"ticks\": \"\", \"zerolinecolor\": \"white\"}, \"zaxis\": {\"backgroundcolor\": \"#E5ECF6\", \"gridcolor\": \"white\", \"gridwidth\": 2, \"linecolor\": \"white\", \"showbackground\": true, \"ticks\": \"\", \"zerolinecolor\": \"white\"}}, \"shapedefaults\": {\"line\": {\"color\": \"#2a3f5f\"}}, \"ternary\": {\"aaxis\": {\"gridcolor\": \"white\", \"linecolor\": \"white\", \"ticks\": \"\"}, \"baxis\": {\"gridcolor\": \"white\", \"linecolor\": \"white\", \"ticks\": \"\"}, \"bgcolor\": \"#E5ECF6\", \"caxis\": {\"gridcolor\": \"white\", \"linecolor\": \"white\", \"ticks\": \"\"}}, \"title\": {\"x\": 0.05}, \"xaxis\": {\"automargin\": true, \"gridcolor\": \"white\", \"linecolor\": \"white\", \"ticks\": \"\", \"title\": {\"standoff\": 15}, \"zerolinecolor\": \"white\", \"zerolinewidth\": 2}, \"yaxis\": {\"automargin\": true, \"gridcolor\": \"white\", \"linecolor\": \"white\", \"ticks\": \"\", \"title\": {\"standoff\": 15}, \"zerolinecolor\": \"white\", \"zerolinewidth\": 2}}}, \"xaxis\": {\"anchor\": \"y\", \"domain\": [0.0, 1.0], \"title\": {\"text\": \"Quality\"}}, \"yaxis\": {\"anchor\": \"x\", \"domain\": [0.0, 1.0], \"title\": {\"text\": \"value\"}}},\n",
       "                        {\"responsive\": true}\n",
       "                    ).then(function(){\n",
       "                            \n",
       "var gd = document.getElementById('e0a63219-068f-41b8-b92a-3c83c2706e8f');\n",
       "var x = new MutationObserver(function (mutations, observer) {{\n",
       "        var display = window.getComputedStyle(gd).display;\n",
       "        if (!display || display === 'none') {{\n",
       "            console.log([gd, 'removed!']);\n",
       "            Plotly.purge(gd);\n",
       "            observer.disconnect();\n",
       "        }}\n",
       "}});\n",
       "\n",
       "// Listen for the removal of the full notebook cells\n",
       "var notebookContainer = gd.closest('#notebook-container');\n",
       "if (notebookContainer) {{\n",
       "    x.observe(notebookContainer, {childList: true});\n",
       "}}\n",
       "\n",
       "// Listen for the clearing of the current output cell\n",
       "var outputEl = gd.closest('.output');\n",
       "if (outputEl) {{\n",
       "    x.observe(outputEl, {childList: true});\n",
       "}}\n",
       "\n",
       "                        })\n",
       "                };\n",
       "                });\n",
       "            </script>\n",
       "        </div>"
      ]
     },
     "metadata": {},
     "output_type": "display_data"
    }
   ],
   "source": [
    "fig = px.scatter(jitteredMelt, x=\"Quality\", y=\"value\", color=\"Instruments\")\n",
    "fig.show()"
   ]
  },
  {
   "cell_type": "code",
   "execution_count": 168,
   "metadata": {},
   "outputs": [
    {
     "data": {
      "text/plain": [
       "<matplotlib.legend.Legend at 0x168c7a53ec8>"
      ]
     },
     "execution_count": 168,
     "metadata": {},
     "output_type": "execute_result"
    },
    {
     "data": {
      "image/png": "[encoded data removed]",
      "text/plain": [
       "<Figure size 1800x1800 with 1 Axes>"
      ]
     },
     "metadata": {},
     "output_type": "display_data"
    }
   ],
   "source": [
    "y = [1, 2, 3, 4, 5]\n",
    "yint = range(min(y), math.ceil(max(y))+1)\n",
    "sns.set(style=\"whitegrid\", color_codes=True)\n",
    "g = sns.swarmplot(x=\"Quality\", y=\"value\", hue='Instruments', data=meltedDf)\n",
    "g.set_xticklabels(g.get_xticklabels(), rotation=90)\n",
    "plt.rcParams['figure.figsize'] = [25, 25]\n",
    "plt.yticks(yint)\n",
    "plt.legend(bbox_to_anchor=(1.05, 1), loc=2, borderaxespad=0.)"
   ]
  },
  {
   "cell_type": "code",
   "execution_count": 169,
   "metadata": {},
   "outputs": [
    {
     "data": {
      "application/vnd.plotly.v1+json": {
       "config": {
        "plotlyServerURL": "https://plot.ly"
       },
       "data": [
        {
         "fill": "toself",
         "name": "Control Display Unit",
         "r": [
          4,
          1,
          4,
          4,
          5,
          4,
          4,
          5,
          3,
          4,
          3,
          4,
          4,
          2,
          3,
          4,
          4,
          5,
          4,
          3,
          5,
          4,
          2,
          4,
          4,
          4
         ],
         "subplot": "polar",
         "theta": [
          "Accuracy",
          "Configurability",
          "Understandability",
          "Feedback",
          "Distinguishability",
          "Limitations of user",
          "Situationally aware",
          "Reliable",
          "Redundany",
          "Error Management",
          "Trainability and Learnability",
          "User's attention",
          "Usage patterns",
          "User aware of limitations",
          "Validatable",
          "Efficiency",
          "Effectiveness",
          "Practicality",
          "Context Coverage",
          "Risk Mitigations",
          "Communication Required",
          "Satisfaction of Use",
          "Attentive Attributes",
          "Ouput of Information",
          "Input of Information",
          "Procedural Use"
         ],
         "type": "scatterpolar"
        },
        {
         "fill": "toself",
         "name": "Primary Flight Display",
         "r": [
          5,
          3,
          5,
          5,
          5,
          5,
          4,
          4,
          4,
          5,
          5,
          4,
          3,
          4,
          5,
          5,
          5,
          5,
          5,
          4,
          3,
          5,
          4,
          5,
          3,
          5
         ],
         "subplot": "polar2",
         "theta": [
          "Accuracy",
          "Configurability",
          "Understandability",
          "Feedback",
          "Distinguishability",
          "Limitations of user",
          "Situationally aware",
          "Reliable",
          "Redundany",
          "Error Management",
          "Trainability and Learnability",
          "User's attention",
          "Usage patterns",
          "User aware of limitations",
          "Validatable",
          "Efficiency",
          "Effectiveness",
          "Practicality",
          "Context Coverage",
          "Risk Mitigations",
          "Communication Required",
          "Satisfaction of Use",
          "Attentive Attributes",
          "Ouput of Information",
          "Input of Information",
          "Procedural Use"
         ],
         "type": "scatterpolar"
        },
        {
         "fill": "toself",
         "name": "Landing Light Panel",
         "r": [
          4,
          1,
          5,
          4,
          4,
          3,
          3,
          4,
          1,
          2,
          5,
          5,
          5,
          3,
          3,
          4,
          4,
          5,
          3,
          2,
          4,
          4,
          3,
          1,
          4,
          3
         ],
         "subplot": "polar3",
         "theta": [
          "Accuracy",
          "Configurability",
          "Understandability",
          "Feedback",
          "Distinguishability",
          "Limitations of user",
          "Situationally aware",
          "Reliable",
          "Redundany",
          "Error Management",
          "Trainability and Learnability",
          "User's attention",
          "Usage patterns",
          "User aware of limitations",
          "Validatable",
          "Efficiency",
          "Effectiveness",
          "Practicality",
          "Context Coverage",
          "Risk Mitigations",
          "Communication Required",
          "Satisfaction of Use",
          "Attentive Attributes",
          "Ouput of Information",
          "Input of Information",
          "Procedural Use"
         ],
         "type": "scatterpolar"
        },
        {
         "fill": "toself",
         "name": "Air Conditioning Panel",
         "r": [
          5,
          1,
          5,
          4,
          3,
          4,
          4,
          3,
          1,
          2,
          5,
          4,
          4,
          3,
          3,
          4,
          4,
          4,
          4,
          2,
          4,
          3,
          3,
          4,
          3,
          3
         ],
         "subplot": "polar4",
         "theta": [
          "Accuracy",
          "Configurability",
          "Understandability",
          "Feedback",
          "Distinguishability",
          "Limitations of user",
          "Situationally aware",
          "Reliable",
          "Redundany",
          "Error Management",
          "Trainability and Learnability",
          "User's attention",
          "Usage patterns",
          "User aware of limitations",
          "Validatable",
          "Efficiency",
          "Effectiveness",
          "Practicality",
          "Context Coverage",
          "Risk Mitigations",
          "Communication Required",
          "Satisfaction of Use",
          "Attentive Attributes",
          "Ouput of Information",
          "Input of Information",
          "Procedural Use"
         ],
         "type": "scatterpolar"
        }
       ],
       "layout": {
        "height": 1000,
        "polar": {
         "domain": {
          "x": [
           0,
           0.45
          ],
          "y": [
           0.575,
           1
          ]
         }
        },
        "polar2": {
         "domain": {
          "x": [
           0.55,
           1
          ],
          "y": [
           0.575,
           1
          ]
         }
        },
        "polar3": {
         "domain": {
          "x": [
           0,
           0.45
          ],
          "y": [
           0,
           0.425
          ]
         }
        },
        "polar4": {
         "domain": {
          "x": [
           0.55,
           1
          ],
          "y": [
           0,
           0.425
          ]
         }
        },
        "template": {
         "data": {
          "bar": [
           {
            "error_x": {
             "color": "#2a3f5f"
            },
            "error_y": {
             "color": "#2a3f5f"
            },
            "marker": {
             "line": {
              "color": "#E5ECF6",
              "width": 0.5
             }
            },
            "type": "bar"
           }
          ],
          "barpolar": [
           {
            "marker": {
             "line": {
              "color": "#E5ECF6",
              "width": 0.5
             }
            },
            "type": "barpolar"
           }
          ],
          "carpet": [
           {
            "aaxis": {
             "endlinecolor": "#2a3f5f",
             "gridcolor": "white",
             "linecolor": "white",
             "minorgridcolor": "white",
             "startlinecolor": "#2a3f5f"
            },
            "baxis": {
             "endlinecolor": "#2a3f5f",
             "gridcolor": "white",
             "linecolor": "white",
             "minorgridcolor": "white",
             "startlinecolor": "#2a3f5f"
            },
            "type": "carpet"
           }
          ],
          "choropleth": [
           {
            "colorbar": {
             "outlinewidth": 0,
             "ticks": ""
            },
            "type": "choropleth"
           }
          ],
          "contour": [
           {
            "colorbar": {
             "outlinewidth": 0,
             "ticks": ""
            },
            "colorscale": [
             [
              0,
              "#0d0887"
             ],
             [
              0.1111111111111111,
              "#46039f"
             ],
             [
              0.2222222222222222,
              "#7201a8"
             ],
             [
              0.3333333333333333,
              "#9c179e"
             ],
             [
              0.4444444444444444,
              "#bd3786"
             ],
             [
              0.5555555555555556,
              "#d8576b"
             ],
             [
              0.6666666666666666,
              "#ed7953"
             ],
             [
              0.7777777777777778,
              "#fb9f3a"
             ],
             [
              0.8888888888888888,
              "#fdca26"
             ],
             [
              1,
              "#f0f921"
             ]
            ],
            "type": "contour"
           }
          ],
          "contourcarpet": [
           {
            "colorbar": {
             "outlinewidth": 0,
             "ticks": ""
            },
            "type": "contourcarpet"
           }
          ],
          "heatmap": [
           {
            "colorbar": {
             "outlinewidth": 0,
             "ticks": ""
            },
            "colorscale": [
             [
              0,
              "#0d0887"
             ],
             [
              0.1111111111111111,
              "#46039f"
             ],
             [
              0.2222222222222222,
              "#7201a8"
             ],
             [
              0.3333333333333333,
              "#9c179e"
             ],
             [
              0.4444444444444444,
              "#bd3786"
             ],
             [
              0.5555555555555556,
              "#d8576b"
             ],
             [
              0.6666666666666666,
              "#ed7953"
             ],
             [
              0.7777777777777778,
              "#fb9f3a"
             ],
             [
              0.8888888888888888,
              "#fdca26"
             ],
             [
              1,
              "#f0f921"
             ]
            ],
            "type": "heatmap"
           }
          ],
          "heatmapgl": [
           {
            "colorbar": {
             "outlinewidth": 0,
             "ticks": ""
            },
            "colorscale": [
             [
              0,
              "#0d0887"
             ],
             [
              0.1111111111111111,
              "#46039f"
             ],
             [
              0.2222222222222222,
              "#7201a8"
             ],
             [
              0.3333333333333333,
              "#9c179e"
             ],
             [
              0.4444444444444444,
              "#bd3786"
             ],
             [
              0.5555555555555556,
              "#d8576b"
             ],
             [
              0.6666666666666666,
              "#ed7953"
             ],
             [
              0.7777777777777778,
              "#fb9f3a"
             ],
             [
              0.8888888888888888,
              "#fdca26"
             ],
             [
              1,
              "#f0f921"
             ]
            ],
            "type": "heatmapgl"
           }
          ],
          "histogram": [
           {
            "marker": {
             "colorbar": {
              "outlinewidth": 0,
              "ticks": ""
             }
            },
            "type": "histogram"
           }
          ],
          "histogram2d": [
           {
            "colorbar": {
             "outlinewidth": 0,
             "ticks": ""
            },
            "colorscale": [
             [
              0,
              "#0d0887"
             ],
             [
              0.1111111111111111,
              "#46039f"
             ],
             [
              0.2222222222222222,
              "#7201a8"
             ],
             [
              0.3333333333333333,
              "#9c179e"
             ],
             [
              0.4444444444444444,
              "#bd3786"
             ],
             [
              0.5555555555555556,
              "#d8576b"
             ],
             [
              0.6666666666666666,
              "#ed7953"
             ],
             [
              0.7777777777777778,
              "#fb9f3a"
             ],
             [
              0.8888888888888888,
              "#fdca26"
             ],
             [
              1,
              "#f0f921"
             ]
            ],
            "type": "histogram2d"
           }
          ],
          "histogram2dcontour": [
           {
            "colorbar": {
             "outlinewidth": 0,
             "ticks": ""
            },
            "colorscale": [
             [
              0,
              "#0d0887"
             ],
             [
              0.1111111111111111,
              "#46039f"
             ],
             [
              0.2222222222222222,
              "#7201a8"
             ],
             [
              0.3333333333333333,
              "#9c179e"
             ],
             [
              0.4444444444444444,
              "#bd3786"
             ],
             [
              0.5555555555555556,
              "#d8576b"
             ],
             [
              0.6666666666666666,
              "#ed7953"
             ],
             [
              0.7777777777777778,
              "#fb9f3a"
             ],
             [
              0.8888888888888888,
              "#fdca26"
             ],
             [
              1,
              "#f0f921"
             ]
            ],
            "type": "histogram2dcontour"
           }
          ],
          "mesh3d": [
           {
            "colorbar": {
             "outlinewidth": 0,
             "ticks": ""
            },
            "type": "mesh3d"
           }
          ],
          "parcoords": [
           {
            "line": {
             "colorbar": {
              "outlinewidth": 0,
              "ticks": ""
             }
            },
            "type": "parcoords"
           }
          ],
          "pie": [
           {
            "automargin": true,
            "type": "pie"
           }
          ],
          "scatter": [
           {
            "marker": {
             "colorbar": {
              "outlinewidth": 0,
              "ticks": ""
             }
            },
            "type": "scatter"
           }
          ],
          "scatter3d": [
           {
            "line": {
             "colorbar": {
              "outlinewidth": 0,
              "ticks": ""
             }
            },
            "marker": {
             "colorbar": {
              "outlinewidth": 0,
              "ticks": ""
             }
            },
            "type": "scatter3d"
           }
          ],
          "scattercarpet": [
           {
            "marker": {
             "colorbar": {
              "outlinewidth": 0,
              "ticks": ""
             }
            },
            "type": "scattercarpet"
           }
          ],
          "scattergeo": [
           {
            "marker": {
             "colorbar": {
              "outlinewidth": 0,
              "ticks": ""
             }
            },
            "type": "scattergeo"
           }
          ],
          "scattergl": [
           {
            "marker": {
             "colorbar": {
              "outlinewidth": 0,
              "ticks": ""
             }
            },
            "type": "scattergl"
           }
          ],
          "scattermapbox": [
           {
            "marker": {
             "colorbar": {
              "outlinewidth": 0,
              "ticks": ""
             }
            },
            "type": "scattermapbox"
           }
          ],
          "scatterpolar": [
           {
            "marker": {
             "colorbar": {
              "outlinewidth": 0,
              "ticks": ""
             }
            },
            "type": "scatterpolar"
           }
          ],
          "scatterpolargl": [
           {
            "marker": {
             "colorbar": {
              "outlinewidth": 0,
              "ticks": ""
             }
            },
            "type": "scatterpolargl"
           }
          ],
          "scatterternary": [
           {
            "marker": {
             "colorbar": {
              "outlinewidth": 0,
              "ticks": ""
             }
            },
            "type": "scatterternary"
           }
          ],
          "surface": [
           {
            "colorbar": {
             "outlinewidth": 0,
             "ticks": ""
            },
            "colorscale": [
             [
              0,
              "#0d0887"
             ],
             [
              0.1111111111111111,
              "#46039f"
             ],
             [
              0.2222222222222222,
              "#7201a8"
             ],
             [
              0.3333333333333333,
              "#9c179e"
             ],
             [
              0.4444444444444444,
              "#bd3786"
             ],
             [
              0.5555555555555556,
              "#d8576b"
             ],
             [
              0.6666666666666666,
              "#ed7953"
             ],
             [
              0.7777777777777778,
              "#fb9f3a"
             ],
             [
              0.8888888888888888,
              "#fdca26"
             ],
             [
              1,
              "#f0f921"
             ]
            ],
            "type": "surface"
           }
          ],
          "table": [
           {
            "cells": {
             "fill": {
              "color": "#EBF0F8"
             },
             "line": {
              "color": "white"
             }
            },
            "header": {
             "fill": {
              "color": "#C8D4E3"
             },
             "line": {
              "color": "white"
             }
            },
            "type": "table"
           }
          ]
         },
         "layout": {
          "annotationdefaults": {
           "arrowcolor": "#2a3f5f",
           "arrowhead": 0,
           "arrowwidth": 1
          },
          "coloraxis": {
           "colorbar": {
            "outlinewidth": 0,
            "ticks": ""
           }
          },
          "colorscale": {
           "diverging": [
            [
             0,
             "#8e0152"
            ],
            [
             0.1,
             "#c51b7d"
            ],
            [
             0.2,
             "#de77ae"
            ],
            [
             0.3,
             "#f1b6da"
            ],
            [
             0.4,
             "#fde0ef"
            ],
            [
             0.5,
             "#f7f7f7"
            ],
            [
             0.6,
             "#e6f5d0"
            ],
            [
             0.7,
             "#b8e186"
            ],
            [
             0.8,
             "#7fbc41"
            ],
            [
             0.9,
             "#4d9221"
            ],
            [
             1,
             "#276419"
            ]
           ],
           "sequential": [
            [
             0,
             "#0d0887"
            ],
            [
             0.1111111111111111,
             "#46039f"
            ],
            [
             0.2222222222222222,
             "#7201a8"
            ],
            [
             0.3333333333333333,
             "#9c179e"
            ],
            [
             0.4444444444444444,
             "#bd3786"
            ],
            [
             0.5555555555555556,
             "#d8576b"
            ],
            [
             0.6666666666666666,
             "#ed7953"
            ],
            [
             0.7777777777777778,
             "#fb9f3a"
            ],
            [
             0.8888888888888888,
             "#fdca26"
            ],
            [
             1,
             "#f0f921"
            ]
           ],
           "sequentialminus": [
            [
             0,
             "#0d0887"
            ],
            [
             0.1111111111111111,
             "#46039f"
            ],
            [
             0.2222222222222222,
             "#7201a8"
            ],
            [
             0.3333333333333333,
             "#9c179e"
            ],
            [
             0.4444444444444444,
             "#bd3786"
            ],
            [
             0.5555555555555556,
             "#d8576b"
            ],
            [
             0.6666666666666666,
             "#ed7953"
            ],
            [
             0.7777777777777778,
             "#fb9f3a"
            ],
            [
             0.8888888888888888,
             "#fdca26"
            ],
            [
             1,
             "#f0f921"
            ]
           ]
          },
          "colorway": [
           "#636efa",
           "#EF553B",
           "#00cc96",
           "#ab63fa",
           "#FFA15A",
           "#19d3f3",
           "#FF6692",
           "#B6E880",
           "#FF97FF",
           "#FECB52"
          ],
          "font": {
           "color": "#2a3f5f"
          },
          "geo": {
           "bgcolor": "white",
           "lakecolor": "white",
           "landcolor": "#E5ECF6",
           "showlakes": true,
           "showland": true,
           "subunitcolor": "white"
          },
          "hoverlabel": {
           "align": "left"
          },
          "hovermode": "closest",
          "mapbox": {
           "style": "light"
          },
          "paper_bgcolor": "white",
          "plot_bgcolor": "#E5ECF6",
          "polar": {
           "angularaxis": {
            "gridcolor": "white",
            "linecolor": "white",
            "ticks": ""
           },
           "bgcolor": "#E5ECF6",
           "radialaxis": {
            "gridcolor": "white",
            "linecolor": "white",
            "ticks": ""
           }
          },
          "scene": {
           "xaxis": {
            "backgroundcolor": "#E5ECF6",
            "gridcolor": "white",
            "gridwidth": 2,
            "linecolor": "white",
            "showbackground": true,
            "ticks": "",
            "zerolinecolor": "white"
           },
           "yaxis": {
            "backgroundcolor": "#E5ECF6",
            "gridcolor": "white",
            "gridwidth": 2,
            "linecolor": "white",
            "showbackground": true,
            "ticks": "",
            "zerolinecolor": "white"
           },
           "zaxis": {
            "backgroundcolor": "#E5ECF6",
            "gridcolor": "white",
            "gridwidth": 2,
            "linecolor": "white",
            "showbackground": true,
            "ticks": "",
            "zerolinecolor": "white"
           }
          },
          "shapedefaults": {
           "line": {
            "color": "#2a3f5f"
           }
          },
          "ternary": {
           "aaxis": {
            "gridcolor": "white",
            "linecolor": "white",
            "ticks": ""
           },
           "baxis": {
            "gridcolor": "white",
            "linecolor": "white",
            "ticks": ""
           },
           "bgcolor": "#E5ECF6",
           "caxis": {
            "gridcolor": "white",
            "linecolor": "white",
            "ticks": ""
           }
          },
          "title": {
           "x": 0.05
          },
          "xaxis": {
           "automargin": true,
           "gridcolor": "white",
           "linecolor": "white",
           "ticks": "",
           "title": {
            "standoff": 15
           },
           "zerolinecolor": "white",
           "zerolinewidth": 2
          },
          "yaxis": {
           "automargin": true,
           "gridcolor": "white",
           "linecolor": "white",
           "ticks": "",
           "title": {
            "standoff": 15
           },
           "zerolinecolor": "white",
           "zerolinewidth": 2
          }
         }
        },
        "width": 1500
       }
      },
      "text/html": [
       "<div>\n",
       "        \n",
       "        \n",
       "            <div id=\"1f66223f-dded-493a-9775-88835f1202d0\" class=\"plotly-graph-div\" style=\"height:1000px; width:1500px;\"></div>\n",
       "            <script type=\"text/javascript\">\n",
       "                require([\"plotly\"], function(Plotly) {\n",
       "                    window.PLOTLYENV=window.PLOTLYENV || {};\n",
       "                    \n",
       "                if (document.getElementById(\"1f66223f-dded-493a-9775-88835f1202d0\")) {\n",
       "                    Plotly.newPlot(\n",
       "                        '1f66223f-dded-493a-9775-88835f1202d0',\n",
       "                        [{\"fill\": \"toself\", \"name\": \"Control Display Unit\", \"r\": [4, 1, 4, 4, 5, 4, 4, 5, 3, 4, 3, 4, 4, 2, 3, 4, 4, 5, 4, 3, 5, 4, 2, 4, 4, 4], \"subplot\": \"polar\", \"theta\": [\"Accuracy\", \"Configurability\", \"Understandability\", \"Feedback\", \"Distinguishability\", \"Limitations of user\", \"Situationally aware\", \"Reliable\", \"Redundany\", \"Error Management\", \"Trainability and Learnability\", \"User's attention\", \"Usage patterns\", \"User aware of limitations\", \"Validatable\", \"Efficiency\", \"Effectiveness\", \"Practicality\", \"Context Coverage\", \"Risk Mitigations\", \"Communication Required\", \"Satisfaction of Use\", \"Attentive Attributes\", \"Ouput of Information\", \"Input of Information\", \"Procedural Use\"], \"type\": \"scatterpolar\"}, {\"fill\": \"toself\", \"name\": \"Primary Flight Display\", \"r\": [5, 3, 5, 5, 5, 5, 4, 4, 4, 5, 5, 4, 3, 4, 5, 5, 5, 5, 5, 4, 3, 5, 4, 5, 3, 5], \"subplot\": \"polar2\", \"theta\": [\"Accuracy\", \"Configurability\", \"Understandability\", \"Feedback\", \"Distinguishability\", \"Limitations of user\", \"Situationally aware\", \"Reliable\", \"Redundany\", \"Error Management\", \"Trainability and Learnability\", \"User's attention\", \"Usage patterns\", \"User aware of limitations\", \"Validatable\", \"Efficiency\", \"Effectiveness\", \"Practicality\", \"Context Coverage\", \"Risk Mitigations\", \"Communication Required\", \"Satisfaction of Use\", \"Attentive Attributes\", \"Ouput of Information\", \"Input of Information\", \"Procedural Use\"], \"type\": \"scatterpolar\"}, {\"fill\": \"toself\", \"name\": \"Landing Light Panel\", \"r\": [4, 1, 5, 4, 4, 3, 3, 4, 1, 2, 5, 5, 5, 3, 3, 4, 4, 5, 3, 2, 4, 4, 3, 1, 4, 3], \"subplot\": \"polar3\", \"theta\": [\"Accuracy\", \"Configurability\", \"Understandability\", \"Feedback\", \"Distinguishability\", \"Limitations of user\", \"Situationally aware\", \"Reliable\", \"Redundany\", \"Error Management\", \"Trainability and Learnability\", \"User's attention\", \"Usage patterns\", \"User aware of limitations\", \"Validatable\", \"Efficiency\", \"Effectiveness\", \"Practicality\", \"Context Coverage\", \"Risk Mitigations\", \"Communication Required\", \"Satisfaction of Use\", \"Attentive Attributes\", \"Ouput of Information\", \"Input of Information\", \"Procedural Use\"], \"type\": \"scatterpolar\"}, {\"fill\": \"toself\", \"name\": \"Air Conditioning Panel\", \"r\": [5, 1, 5, 4, 3, 4, 4, 3, 1, 2, 5, 4, 4, 3, 3, 4, 4, 4, 4, 2, 4, 3, 3, 4, 3, 3], \"subplot\": \"polar4\", \"theta\": [\"Accuracy\", \"Configurability\", \"Understandability\", \"Feedback\", \"Distinguishability\", \"Limitations of user\", \"Situationally aware\", \"Reliable\", \"Redundany\", \"Error Management\", \"Trainability and Learnability\", \"User's attention\", \"Usage patterns\", \"User aware of limitations\", \"Validatable\", \"Efficiency\", \"Effectiveness\", \"Practicality\", \"Context Coverage\", \"Risk Mitigations\", \"Communication Required\", \"Satisfaction of Use\", \"Attentive Attributes\", \"Ouput of Information\", \"Input of Information\", \"Procedural Use\"], \"type\": \"scatterpolar\"}],\n",
       "                        {\"height\": 1000, \"polar\": {\"domain\": {\"x\": [0.0, 0.45], \"y\": [0.575, 1.0]}}, \"polar2\": {\"domain\": {\"x\": [0.55, 1.0], \"y\": [0.575, 1.0]}}, \"polar3\": {\"domain\": {\"x\": [0.0, 0.45], \"y\": [0.0, 0.425]}}, \"polar4\": {\"domain\": {\"x\": [0.55, 1.0], \"y\": [0.0, 0.425]}}, \"template\": {\"data\": {\"bar\": [{\"error_x\": {\"color\": \"#2a3f5f\"}, \"error_y\": {\"color\": \"#2a3f5f\"}, \"marker\": {\"line\": {\"color\": \"#E5ECF6\", \"width\": 0.5}}, \"type\": \"bar\"}], \"barpolar\": [{\"marker\": {\"line\": {\"color\": \"#E5ECF6\", \"width\": 0.5}}, \"type\": \"barpolar\"}], \"carpet\": [{\"aaxis\": {\"endlinecolor\": \"#2a3f5f\", \"gridcolor\": \"white\", \"linecolor\": \"white\", \"minorgridcolor\": \"white\", \"startlinecolor\": \"#2a3f5f\"}, \"baxis\": {\"endlinecolor\": \"#2a3f5f\", \"gridcolor\": \"white\", \"linecolor\": \"white\", \"minorgridcolor\": \"white\", \"startlinecolor\": \"#2a3f5f\"}, \"type\": \"carpet\"}], \"choropleth\": [{\"colorbar\": {\"outlinewidth\": 0, \"ticks\": \"\"}, \"type\": \"choropleth\"}], \"contour\": [{\"colorbar\": {\"outlinewidth\": 0, \"ticks\": \"\"}, \"colorscale\": [[0.0, \"#0d0887\"], [0.1111111111111111, \"#46039f\"], [0.2222222222222222, \"#7201a8\"], [0.3333333333333333, \"#9c179e\"], [0.4444444444444444, \"#bd3786\"], [0.5555555555555556, \"#d8576b\"], [0.6666666666666666, \"#ed7953\"], [0.7777777777777778, \"#fb9f3a\"], [0.8888888888888888, \"#fdca26\"], [1.0, \"#f0f921\"]], \"type\": \"contour\"}], \"contourcarpet\": [{\"colorbar\": {\"outlinewidth\": 0, \"ticks\": \"\"}, \"type\": \"contourcarpet\"}], \"heatmap\": [{\"colorbar\": {\"outlinewidth\": 0, \"ticks\": \"\"}, \"colorscale\": [[0.0, \"#0d0887\"], [0.1111111111111111, \"#46039f\"], [0.2222222222222222, \"#7201a8\"], [0.3333333333333333, \"#9c179e\"], [0.4444444444444444, \"#bd3786\"], [0.5555555555555556, \"#d8576b\"], [0.6666666666666666, \"#ed7953\"], [0.7777777777777778, \"#fb9f3a\"], [0.8888888888888888, \"#fdca26\"], [1.0, \"#f0f921\"]], \"type\": \"heatmap\"}], \"heatmapgl\": [{\"colorbar\": {\"outlinewidth\": 0, \"ticks\": \"\"}, \"colorscale\": [[0.0, \"#0d0887\"], [0.1111111111111111, \"#46039f\"], [0.2222222222222222, \"#7201a8\"], [0.3333333333333333, \"#9c179e\"], [0.4444444444444444, \"#bd3786\"], [0.5555555555555556, \"#d8576b\"], [0.6666666666666666, \"#ed7953\"], [0.7777777777777778, \"#fb9f3a\"], [0.8888888888888888, \"#fdca26\"], [1.0, \"#f0f921\"]], \"type\": \"heatmapgl\"}], \"histogram\": [{\"marker\": {\"colorbar\": {\"outlinewidth\": 0, \"ticks\": \"\"}}, \"type\": \"histogram\"}], \"histogram2d\": [{\"colorbar\": {\"outlinewidth\": 0, \"ticks\": \"\"}, \"colorscale\": [[0.0, \"#0d0887\"], [0.1111111111111111, \"#46039f\"], [0.2222222222222222, \"#7201a8\"], [0.3333333333333333, \"#9c179e\"], [0.4444444444444444, \"#bd3786\"], [0.5555555555555556, \"#d8576b\"], [0.6666666666666666, \"#ed7953\"], [0.7777777777777778, \"#fb9f3a\"], [0.8888888888888888, \"#fdca26\"], [1.0, \"#f0f921\"]], \"type\": \"histogram2d\"}], \"histogram2dcontour\": [{\"colorbar\": {\"outlinewidth\": 0, \"ticks\": \"\"}, \"colorscale\": [[0.0, \"#0d0887\"], [0.1111111111111111, \"#46039f\"], [0.2222222222222222, \"#7201a8\"], [0.3333333333333333, \"#9c179e\"], [0.4444444444444444, \"#bd3786\"], [0.5555555555555556, \"#d8576b\"], [0.6666666666666666, \"#ed7953\"], [0.7777777777777778, \"#fb9f3a\"], [0.8888888888888888, \"#fdca26\"], [1.0, \"#f0f921\"]], \"type\": \"histogram2dcontour\"}], \"mesh3d\": [{\"colorbar\": {\"outlinewidth\": 0, \"ticks\": \"\"}, \"type\": \"mesh3d\"}], \"parcoords\": [{\"line\": {\"colorbar\": {\"outlinewidth\": 0, \"ticks\": \"\"}}, \"type\": \"parcoords\"}], \"pie\": [{\"automargin\": true, \"type\": \"pie\"}], \"scatter\": [{\"marker\": {\"colorbar\": {\"outlinewidth\": 0, \"ticks\": \"\"}}, \"type\": \"scatter\"}], \"scatter3d\": [{\"line\": {\"colorbar\": {\"outlinewidth\": 0, \"ticks\": \"\"}}, \"marker\": {\"colorbar\": {\"outlinewidth\": 0, \"ticks\": \"\"}}, \"type\": \"scatter3d\"}], \"scattercarpet\": [{\"marker\": {\"colorbar\": {\"outlinewidth\": 0, \"ticks\": \"\"}}, \"type\": \"scattercarpet\"}], \"scattergeo\": [{\"marker\": {\"colorbar\": {\"outlinewidth\": 0, \"ticks\": \"\"}}, \"type\": \"scattergeo\"}], \"scattergl\": [{\"marker\": {\"colorbar\": {\"outlinewidth\": 0, \"ticks\": \"\"}}, \"type\": \"scattergl\"}], \"scattermapbox\": [{\"marker\": {\"colorbar\": {\"outlinewidth\": 0, \"ticks\": \"\"}}, \"type\": \"scattermapbox\"}], \"scatterpolar\": [{\"marker\": {\"colorbar\": {\"outlinewidth\": 0, \"ticks\": \"\"}}, \"type\": \"scatterpolar\"}], \"scatterpolargl\": [{\"marker\": {\"colorbar\": {\"outlinewidth\": 0, \"ticks\": \"\"}}, \"type\": \"scatterpolargl\"}], \"scatterternary\": [{\"marker\": {\"colorbar\": {\"outlinewidth\": 0, \"ticks\": \"\"}}, \"type\": \"scatterternary\"}], \"surface\": [{\"colorbar\": {\"outlinewidth\": 0, \"ticks\": \"\"}, \"colorscale\": [[0.0, \"#0d0887\"], [0.1111111111111111, \"#46039f\"], [0.2222222222222222, \"#7201a8\"], [0.3333333333333333, \"#9c179e\"], [0.4444444444444444, \"#bd3786\"], [0.5555555555555556, \"#d8576b\"], [0.6666666666666666, \"#ed7953\"], [0.7777777777777778, \"#fb9f3a\"], [0.8888888888888888, \"#fdca26\"], [1.0, \"#f0f921\"]], \"type\": \"surface\"}], \"table\": [{\"cells\": {\"fill\": {\"color\": \"#EBF0F8\"}, \"line\": {\"color\": \"white\"}}, \"header\": {\"fill\": {\"color\": \"#C8D4E3\"}, \"line\": {\"color\": \"white\"}}, \"type\": \"table\"}]}, \"layout\": {\"annotationdefaults\": {\"arrowcolor\": \"#2a3f5f\", \"arrowhead\": 0, \"arrowwidth\": 1}, \"coloraxis\": {\"colorbar\": {\"outlinewidth\": 0, \"ticks\": \"\"}}, \"colorscale\": {\"diverging\": [[0, \"#8e0152\"], [0.1, \"#c51b7d\"], [0.2, \"#de77ae\"], [0.3, \"#f1b6da\"], [0.4, \"#fde0ef\"], [0.5, \"#f7f7f7\"], [0.6, \"#e6f5d0\"], [0.7, \"#b8e186\"], [0.8, \"#7fbc41\"], [0.9, \"#4d9221\"], [1, \"#276419\"]], \"sequential\": [[0.0, \"#0d0887\"], [0.1111111111111111, \"#46039f\"], [0.2222222222222222, \"#7201a8\"], [0.3333333333333333, \"#9c179e\"], [0.4444444444444444, \"#bd3786\"], [0.5555555555555556, \"#d8576b\"], [0.6666666666666666, \"#ed7953\"], [0.7777777777777778, \"#fb9f3a\"], [0.8888888888888888, \"#fdca26\"], [1.0, \"#f0f921\"]], \"sequentialminus\": [[0.0, \"#0d0887\"], [0.1111111111111111, \"#46039f\"], [0.2222222222222222, \"#7201a8\"], [0.3333333333333333, \"#9c179e\"], [0.4444444444444444, \"#bd3786\"], [0.5555555555555556, \"#d8576b\"], [0.6666666666666666, \"#ed7953\"], [0.7777777777777778, \"#fb9f3a\"], [0.8888888888888888, \"#fdca26\"], [1.0, \"#f0f921\"]]}, \"colorway\": [\"#636efa\", \"#EF553B\", \"#00cc96\", \"#ab63fa\", \"#FFA15A\", \"#19d3f3\", \"#FF6692\", \"#B6E880\", \"#FF97FF\", \"#FECB52\"], \"font\": {\"color\": \"#2a3f5f\"}, \"geo\": {\"bgcolor\": \"white\", \"lakecolor\": \"white\", \"landcolor\": \"#E5ECF6\", \"showlakes\": true, \"showland\": true, \"subunitcolor\": \"white\"}, \"hoverlabel\": {\"align\": \"left\"}, \"hovermode\": \"closest\", \"mapbox\": {\"style\": \"light\"}, \"paper_bgcolor\": \"white\", \"plot_bgcolor\": \"#E5ECF6\", \"polar\": {\"angularaxis\": {\"gridcolor\": \"white\", \"linecolor\": \"white\", \"ticks\": \"\"}, \"bgcolor\": \"#E5ECF6\", \"radialaxis\": {\"gridcolor\": \"white\", \"linecolor\": \"white\", \"ticks\": \"\"}}, \"scene\": {\"xaxis\": {\"backgroundcolor\": \"#E5ECF6\", \"gridcolor\": \"white\", \"gridwidth\": 2, \"linecolor\": \"white\", \"showbackground\": true, \"ticks\": \"\", \"zerolinecolor\": \"white\"}, \"yaxis\": {\"backgroundcolor\": \"#E5ECF6\", \"gridcolor\": \"white\", \"gridwidth\": 2, \"linecolor\": \"white\", \"showbackground\": true, \"ticks\": \"\", \"zerolinecolor\": \"white\"}, \"zaxis\": {\"backgroundcolor\": \"#E5ECF6\", \"gridcolor\": \"white\", \"gridwidth\": 2, \"linecolor\": \"white\", \"showbackground\": true, \"ticks\": \"\", \"zerolinecolor\": \"white\"}}, \"shapedefaults\": {\"line\": {\"color\": \"#2a3f5f\"}}, \"ternary\": {\"aaxis\": {\"gridcolor\": \"white\", \"linecolor\": \"white\", \"ticks\": \"\"}, \"baxis\": {\"gridcolor\": \"white\", \"linecolor\": \"white\", \"ticks\": \"\"}, \"bgcolor\": \"#E5ECF6\", \"caxis\": {\"gridcolor\": \"white\", \"linecolor\": \"white\", \"ticks\": \"\"}}, \"title\": {\"x\": 0.05}, \"xaxis\": {\"automargin\": true, \"gridcolor\": \"white\", \"linecolor\": \"white\", \"ticks\": \"\", \"title\": {\"standoff\": 15}, \"zerolinecolor\": \"white\", \"zerolinewidth\": 2}, \"yaxis\": {\"automargin\": true, \"gridcolor\": \"white\", \"linecolor\": \"white\", \"ticks\": \"\", \"title\": {\"standoff\": 15}, \"zerolinecolor\": \"white\", \"zerolinewidth\": 2}}}, \"width\": 1500},\n",
       "                        {\"responsive\": true}\n",
       "                    ).then(function(){\n",
       "                            \n",
       "var gd = document.getElementById('1f66223f-dded-493a-9775-88835f1202d0');\n",
       "var x = new MutationObserver(function (mutations, observer) {{\n",
       "        var display = window.getComputedStyle(gd).display;\n",
       "        if (!display || display === 'none') {{\n",
       "            console.log([gd, 'removed!']);\n",
       "            Plotly.purge(gd);\n",
       "            observer.disconnect();\n",
       "        }}\n",
       "}});\n",
       "\n",
       "// Listen for the removal of the full notebook cells\n",
       "var notebookContainer = gd.closest('#notebook-container');\n",
       "if (notebookContainer) {{\n",
       "    x.observe(notebookContainer, {childList: true});\n",
       "}}\n",
       "\n",
       "// Listen for the clearing of the current output cell\n",
       "var outputEl = gd.closest('.output');\n",
       "if (outputEl) {{\n",
       "    x.observe(outputEl, {childList: true});\n",
       "}}\n",
       "\n",
       "                        })\n",
       "                };\n",
       "                });\n",
       "            </script>\n",
       "        </div>"
      ]
     },
     "metadata": {},
     "output_type": "display_data"
    }
   ],
   "source": [
    "fig = make_subplots(rows=2, cols=2,\n",
    "                   specs=[[{\"type\": \"polar\"}, {\"type\": \"polar\"}],\n",
    "                         [{\"type\": \"polar\"}, {\"type\": \"polar\"}]])\n",
    "fig.add_trace(go.Scatterpolar(\n",
    "    name=\"Control Display Unit\",\n",
    "    r=df['Control Display Unit'],\n",
    "    theta=df['Quality'],\n",
    "    fill='toself'\n",
    "    ), 1, 1)\n",
    "fig.add_trace(go.Scatterpolar(\n",
    "    name=\"Primary Flight Display\",\n",
    "    r=df['Primary Flight Display'],\n",
    "    theta=df['Quality'],\n",
    "    fill='toself'\n",
    "    ), 1, 2)\n",
    "fig.add_trace(go.Scatterpolar(\n",
    "    name=\"Landing Light Panel\",\n",
    "    r=df['Landing Light Panel'],\n",
    "    theta=df['Quality'],\n",
    "    fill='toself'\n",
    "    ), 2, 1)\n",
    "fig.add_trace(go.Scatterpolar(\n",
    "    name=\"Air Conditioning Panel\",\n",
    "    r=df['Air Conditioning Panel'],\n",
    "    theta=df['Quality'],\n",
    "    fill='toself'\n",
    "    ), 2, 2)\n",
    "fig.update_layout(height=1000, width=1500)\n",
    "fig.show()"
   ]
  },
  {
   "cell_type": "code",
   "execution_count": 170,
   "metadata": {},
   "outputs": [
    {
     "data": {
      "application/vnd.plotly.v1+json": {
       "config": {
        "plotlyServerURL": "https://plot.ly"
       },
       "data": [
        {
         "fill": "toself",
         "name": "Pneumatics Panel",
         "r": [
          4,
          1,
          5,
          4,
          4,
          4,
          4,
          4,
          1,
          4,
          4,
          4,
          4,
          4,
          4,
          4,
          3,
          4,
          3,
          4,
          4,
          4,
          4,
          4,
          4,
          1
         ],
         "subplot": "polar",
         "theta": [
          "Accuracy",
          "Configurability",
          "Understandability",
          "Feedback",
          "Distinguishability",
          "Limitations of user",
          "Situationally aware",
          "Reliable",
          "Redundany",
          "Error Management",
          "Trainability and Learnability",
          "User's attention",
          "Usage patterns",
          "User aware of limitations",
          "Validatable",
          "Efficiency",
          "Effectiveness",
          "Practicality",
          "Context Coverage",
          "Risk Mitigations",
          "Communication Required",
          "Satisfaction of Use",
          "Attentive Attributes",
          "Ouput of Information",
          "Input of Information",
          "Procedural Use"
         ],
         "type": "scatterpolar"
        },
        {
         "fill": "toself",
         "name": "Equipment Cooling",
         "r": [
          3,
          1,
          4,
          3,
          4,
          2,
          1,
          3,
          1,
          3,
          5,
          4,
          4,
          3,
          4,
          4,
          3,
          4,
          2,
          2,
          3,
          4,
          3,
          2,
          2,
          1
         ],
         "subplot": "polar2",
         "theta": [
          "Accuracy",
          "Configurability",
          "Understandability",
          "Feedback",
          "Distinguishability",
          "Limitations of user",
          "Situationally aware",
          "Reliable",
          "Redundany",
          "Error Management",
          "Trainability and Learnability",
          "User's attention",
          "Usage patterns",
          "User aware of limitations",
          "Validatable",
          "Efficiency",
          "Effectiveness",
          "Practicality",
          "Context Coverage",
          "Risk Mitigations",
          "Communication Required",
          "Satisfaction of Use",
          "Attentive Attributes",
          "Ouput of Information",
          "Input of Information",
          "Procedural Use"
         ],
         "type": "scatterpolar"
        },
        {
         "fill": "toself",
         "name": "Cabin Altitude Panel",
         "r": [
          4,
          1,
          5,
          4,
          4,
          4,
          4,
          3,
          4,
          3,
          4,
          3,
          4,
          3,
          4,
          3,
          3,
          4,
          3,
          3,
          3,
          4,
          3,
          4,
          1,
          2
         ],
         "subplot": "polar3",
         "theta": [
          "Accuracy",
          "Configurability",
          "Understandability",
          "Feedback",
          "Distinguishability",
          "Limitations of user",
          "Situationally aware",
          "Reliable",
          "Redundany",
          "Error Management",
          "Trainability and Learnability",
          "User's attention",
          "Usage patterns",
          "User aware of limitations",
          "Validatable",
          "Efficiency",
          "Effectiveness",
          "Practicality",
          "Context Coverage",
          "Risk Mitigations",
          "Communication Required",
          "Satisfaction of Use",
          "Attentive Attributes",
          "Ouput of Information",
          "Input of Information",
          "Procedural Use"
         ],
         "type": "scatterpolar"
        },
        {
         "fill": "toself",
         "name": "Cabin Pressurization Panel",
         "r": [
          4,
          1,
          4,
          4,
          3,
          4,
          4,
          4,
          4,
          4,
          5,
          3,
          3,
          4,
          4,
          4,
          3,
          4,
          3,
          3,
          4,
          4,
          4,
          4,
          4,
          2
         ],
         "subplot": "polar4",
         "theta": [
          "Accuracy",
          "Configurability",
          "Understandability",
          "Feedback",
          "Distinguishability",
          "Limitations of user",
          "Situationally aware",
          "Reliable",
          "Redundany",
          "Error Management",
          "Trainability and Learnability",
          "User's attention",
          "Usage patterns",
          "User aware of limitations",
          "Validatable",
          "Efficiency",
          "Effectiveness",
          "Practicality",
          "Context Coverage",
          "Risk Mitigations",
          "Communication Required",
          "Satisfaction of Use",
          "Attentive Attributes",
          "Ouput of Information",
          "Input of Information",
          "Procedural Use"
         ],
         "type": "scatterpolar"
        }
       ],
       "layout": {
        "height": 1000,
        "polar": {
         "domain": {
          "x": [
           0,
           0.45
          ],
          "y": [
           0.575,
           1
          ]
         }
        },
        "polar2": {
         "domain": {
          "x": [
           0.55,
           1
          ],
          "y": [
           0.575,
           1
          ]
         }
        },
        "polar3": {
         "domain": {
          "x": [
           0,
           0.45
          ],
          "y": [
           0,
           0.425
          ]
         }
        },
        "polar4": {
         "domain": {
          "x": [
           0.55,
           1
          ],
          "y": [
           0,
           0.425
          ]
         }
        },
        "template": {
         "data": {
          "bar": [
           {
            "error_x": {
             "color": "#2a3f5f"
            },
            "error_y": {
             "color": "#2a3f5f"
            },
            "marker": {
             "line": {
              "color": "#E5ECF6",
              "width": 0.5
             }
            },
            "type": "bar"
           }
          ],
          "barpolar": [
           {
            "marker": {
             "line": {
              "color": "#E5ECF6",
              "width": 0.5
             }
            },
            "type": "barpolar"
           }
          ],
          "carpet": [
           {
            "aaxis": {
             "endlinecolor": "#2a3f5f",
             "gridcolor": "white",
             "linecolor": "white",
             "minorgridcolor": "white",
             "startlinecolor": "#2a3f5f"
            },
            "baxis": {
             "endlinecolor": "#2a3f5f",
             "gridcolor": "white",
             "linecolor": "white",
             "minorgridcolor": "white",
             "startlinecolor": "#2a3f5f"
            },
            "type": "carpet"
           }
          ],
          "choropleth": [
           {
            "colorbar": {
             "outlinewidth": 0,
             "ticks": ""
            },
            "type": "choropleth"
           }
          ],
          "contour": [
           {
            "colorbar": {
             "outlinewidth": 0,
             "ticks": ""
            },
            "colorscale": [
             [
              0,
              "#0d0887"
             ],
             [
              0.1111111111111111,
              "#46039f"
             ],
             [
              0.2222222222222222,
              "#7201a8"
             ],
             [
              0.3333333333333333,
              "#9c179e"
             ],
             [
              0.4444444444444444,
              "#bd3786"
             ],
             [
              0.5555555555555556,
              "#d8576b"
             ],
             [
              0.6666666666666666,
              "#ed7953"
             ],
             [
              0.7777777777777778,
              "#fb9f3a"
             ],
             [
              0.8888888888888888,
              "#fdca26"
             ],
             [
              1,
              "#f0f921"
             ]
            ],
            "type": "contour"
           }
          ],
          "contourcarpet": [
           {
            "colorbar": {
             "outlinewidth": 0,
             "ticks": ""
            },
            "type": "contourcarpet"
           }
          ],
          "heatmap": [
           {
            "colorbar": {
             "outlinewidth": 0,
             "ticks": ""
            },
            "colorscale": [
             [
              0,
              "#0d0887"
             ],
             [
              0.1111111111111111,
              "#46039f"
             ],
             [
              0.2222222222222222,
              "#7201a8"
             ],
             [
              0.3333333333333333,
              "#9c179e"
             ],
             [
              0.4444444444444444,
              "#bd3786"
             ],
             [
              0.5555555555555556,
              "#d8576b"
             ],
             [
              0.6666666666666666,
              "#ed7953"
             ],
             [
              0.7777777777777778,
              "#fb9f3a"
             ],
             [
              0.8888888888888888,
              "#fdca26"
             ],
             [
              1,
              "#f0f921"
             ]
            ],
            "type": "heatmap"
           }
          ],
          "heatmapgl": [
           {
            "colorbar": {
             "outlinewidth": 0,
             "ticks": ""
            },
            "colorscale": [
             [
              0,
              "#0d0887"
             ],
             [
              0.1111111111111111,
              "#46039f"
             ],
             [
              0.2222222222222222,
              "#7201a8"
             ],
             [
              0.3333333333333333,
              "#9c179e"
             ],
             [
              0.4444444444444444,
              "#bd3786"
             ],
             [
              0.5555555555555556,
              "#d8576b"
             ],
             [
              0.6666666666666666,
              "#ed7953"
             ],
             [
              0.7777777777777778,
              "#fb9f3a"
             ],
             [
              0.8888888888888888,
              "#fdca26"
             ],
             [
              1,
              "#f0f921"
             ]
            ],
            "type": "heatmapgl"
           }
          ],
          "histogram": [
           {
            "marker": {
             "colorbar": {
              "outlinewidth": 0,
              "ticks": ""
             }
            },
            "type": "histogram"
           }
          ],
          "histogram2d": [
           {
            "colorbar": {
             "outlinewidth": 0,
             "ticks": ""
            },
            "colorscale": [
             [
              0,
              "#0d0887"
             ],
             [
              0.1111111111111111,
              "#46039f"
             ],
             [
              0.2222222222222222,
              "#7201a8"
             ],
             [
              0.3333333333333333,
              "#9c179e"
             ],
             [
              0.4444444444444444,
              "#bd3786"
             ],
             [
              0.5555555555555556,
              "#d8576b"
             ],
             [
              0.6666666666666666,
              "#ed7953"
             ],
             [
              0.7777777777777778,
              "#fb9f3a"
             ],
             [
              0.8888888888888888,
              "#fdca26"
             ],
             [
              1,
              "#f0f921"
             ]
            ],
            "type": "histogram2d"
           }
          ],
          "histogram2dcontour": [
           {
            "colorbar": {
             "outlinewidth": 0,
             "ticks": ""
            },
            "colorscale": [
             [
              0,
              "#0d0887"
             ],
             [
              0.1111111111111111,
              "#46039f"
             ],
             [
              0.2222222222222222,
              "#7201a8"
             ],
             [
              0.3333333333333333,
              "#9c179e"
             ],
             [
              0.4444444444444444,
              "#bd3786"
             ],
             [
              0.5555555555555556,
              "#d8576b"
             ],
             [
              0.6666666666666666,
              "#ed7953"
             ],
             [
              0.7777777777777778,
              "#fb9f3a"
             ],
             [
              0.8888888888888888,
              "#fdca26"
             ],
             [
              1,
              "#f0f921"
             ]
            ],
            "type": "histogram2dcontour"
           }
          ],
          "mesh3d": [
           {
            "colorbar": {
             "outlinewidth": 0,
             "ticks": ""
            },
            "type": "mesh3d"
           }
          ],
          "parcoords": [
           {
            "line": {
             "colorbar": {
              "outlinewidth": 0,
              "ticks": ""
             }
            },
            "type": "parcoords"
           }
          ],
          "pie": [
           {
            "automargin": true,
            "type": "pie"
           }
          ],
          "scatter": [
           {
            "marker": {
             "colorbar": {
              "outlinewidth": 0,
              "ticks": ""
             }
            },
            "type": "scatter"
           }
          ],
          "scatter3d": [
           {
            "line": {
             "colorbar": {
              "outlinewidth": 0,
              "ticks": ""
             }
            },
            "marker": {
             "colorbar": {
              "outlinewidth": 0,
              "ticks": ""
             }
            },
            "type": "scatter3d"
           }
          ],
          "scattercarpet": [
           {
            "marker": {
             "colorbar": {
              "outlinewidth": 0,
              "ticks": ""
             }
            },
            "type": "scattercarpet"
           }
          ],
          "scattergeo": [
           {
            "marker": {
             "colorbar": {
              "outlinewidth": 0,
              "ticks": ""
             }
            },
            "type": "scattergeo"
           }
          ],
          "scattergl": [
           {
            "marker": {
             "colorbar": {
              "outlinewidth": 0,
              "ticks": ""
             }
            },
            "type": "scattergl"
           }
          ],
          "scattermapbox": [
           {
            "marker": {
             "colorbar": {
              "outlinewidth": 0,
              "ticks": ""
             }
            },
            "type": "scattermapbox"
           }
          ],
          "scatterpolar": [
           {
            "marker": {
             "colorbar": {
              "outlinewidth": 0,
              "ticks": ""
             }
            },
            "type": "scatterpolar"
           }
          ],
          "scatterpolargl": [
           {
            "marker": {
             "colorbar": {
              "outlinewidth": 0,
              "ticks": ""
             }
            },
            "type": "scatterpolargl"
           }
          ],
          "scatterternary": [
           {
            "marker": {
             "colorbar": {
              "outlinewidth": 0,
              "ticks": ""
             }
            },
            "type": "scatterternary"
           }
          ],
          "surface": [
           {
            "colorbar": {
             "outlinewidth": 0,
             "ticks": ""
            },
            "colorscale": [
             [
              0,
              "#0d0887"
             ],
             [
              0.1111111111111111,
              "#46039f"
             ],
             [
              0.2222222222222222,
              "#7201a8"
             ],
             [
              0.3333333333333333,
              "#9c179e"
             ],
             [
              0.4444444444444444,
              "#bd3786"
             ],
             [
              0.5555555555555556,
              "#d8576b"
             ],
             [
              0.6666666666666666,
              "#ed7953"
             ],
             [
              0.7777777777777778,
              "#fb9f3a"
             ],
             [
              0.8888888888888888,
              "#fdca26"
             ],
             [
              1,
              "#f0f921"
             ]
            ],
            "type": "surface"
           }
          ],
          "table": [
           {
            "cells": {
             "fill": {
              "color": "#EBF0F8"
             },
             "line": {
              "color": "white"
             }
            },
            "header": {
             "fill": {
              "color": "#C8D4E3"
             },
             "line": {
              "color": "white"
             }
            },
            "type": "table"
           }
          ]
         },
         "layout": {
          "annotationdefaults": {
           "arrowcolor": "#2a3f5f",
           "arrowhead": 0,
           "arrowwidth": 1
          },
          "coloraxis": {
           "colorbar": {
            "outlinewidth": 0,
            "ticks": ""
           }
          },
          "colorscale": {
           "diverging": [
            [
             0,
             "#8e0152"
            ],
            [
             0.1,
             "#c51b7d"
            ],
            [
             0.2,
             "#de77ae"
            ],
            [
             0.3,
             "#f1b6da"
            ],
            [
             0.4,
             "#fde0ef"
            ],
            [
             0.5,
             "#f7f7f7"
            ],
            [
             0.6,
             "#e6f5d0"
            ],
            [
             0.7,
             "#b8e186"
            ],
            [
             0.8,
             "#7fbc41"
            ],
            [
             0.9,
             "#4d9221"
            ],
            [
             1,
             "#276419"
            ]
           ],
           "sequential": [
            [
             0,
             "#0d0887"
            ],
            [
             0.1111111111111111,
             "#46039f"
            ],
            [
             0.2222222222222222,
             "#7201a8"
            ],
            [
             0.3333333333333333,
             "#9c179e"
            ],
            [
             0.4444444444444444,
             "#bd3786"
            ],
            [
             0.5555555555555556,
             "#d8576b"
            ],
            [
             0.6666666666666666,
             "#ed7953"
            ],
            [
             0.7777777777777778,
             "#fb9f3a"
            ],
            [
             0.8888888888888888,
             "#fdca26"
            ],
            [
             1,
             "#f0f921"
            ]
           ],
           "sequentialminus": [
            [
             0,
             "#0d0887"
            ],
            [
             0.1111111111111111,
             "#46039f"
            ],
            [
             0.2222222222222222,
             "#7201a8"
            ],
            [
             0.3333333333333333,
             "#9c179e"
            ],
            [
             0.4444444444444444,
             "#bd3786"
            ],
            [
             0.5555555555555556,
             "#d8576b"
            ],
            [
             0.6666666666666666,
             "#ed7953"
            ],
            [
             0.7777777777777778,
             "#fb9f3a"
            ],
            [
             0.8888888888888888,
             "#fdca26"
            ],
            [
             1,
             "#f0f921"
            ]
           ]
          },
          "colorway": [
           "#636efa",
           "#EF553B",
           "#00cc96",
           "#ab63fa",
           "#FFA15A",
           "#19d3f3",
           "#FF6692",
           "#B6E880",
           "#FF97FF",
           "#FECB52"
          ],
          "font": {
           "color": "#2a3f5f"
          },
          "geo": {
           "bgcolor": "white",
           "lakecolor": "white",
           "landcolor": "#E5ECF6",
           "showlakes": true,
           "showland": true,
           "subunitcolor": "white"
          },
          "hoverlabel": {
           "align": "left"
          },
          "hovermode": "closest",
          "mapbox": {
           "style": "light"
          },
          "paper_bgcolor": "white",
          "plot_bgcolor": "#E5ECF6",
          "polar": {
           "angularaxis": {
            "gridcolor": "white",
            "linecolor": "white",
            "ticks": ""
           },
           "bgcolor": "#E5ECF6",
           "radialaxis": {
            "gridcolor": "white",
            "linecolor": "white",
            "ticks": ""
           }
          },
          "scene": {
           "xaxis": {
            "backgroundcolor": "#E5ECF6",
            "gridcolor": "white",
            "gridwidth": 2,
            "linecolor": "white",
            "showbackground": true,
            "ticks": "",
            "zerolinecolor": "white"
           },
           "yaxis": {
            "backgroundcolor": "#E5ECF6",
            "gridcolor": "white",
            "gridwidth": 2,
            "linecolor": "white",
            "showbackground": true,
            "ticks": "",
            "zerolinecolor": "white"
           },
           "zaxis": {
            "backgroundcolor": "#E5ECF6",
            "gridcolor": "white",
            "gridwidth": 2,
            "linecolor": "white",
            "showbackground": true,
            "ticks": "",
            "zerolinecolor": "white"
           }
          },
          "shapedefaults": {
           "line": {
            "color": "#2a3f5f"
           }
          },
          "ternary": {
           "aaxis": {
            "gridcolor": "white",
            "linecolor": "white",
            "ticks": ""
           },
           "baxis": {
            "gridcolor": "white",
            "linecolor": "white",
            "ticks": ""
           },
           "bgcolor": "#E5ECF6",
           "caxis": {
            "gridcolor": "white",
            "linecolor": "white",
            "ticks": ""
           }
          },
          "title": {
           "x": 0.05
          },
          "xaxis": {
           "automargin": true,
           "gridcolor": "white",
           "linecolor": "white",
           "ticks": "",
           "title": {
            "standoff": 15
           },
           "zerolinecolor": "white",
           "zerolinewidth": 2
          },
          "yaxis": {
           "automargin": true,
           "gridcolor": "white",
           "linecolor": "white",
           "ticks": "",
           "title": {
            "standoff": 15
           },
           "zerolinecolor": "white",
           "zerolinewidth": 2
          }
         }
        },
        "width": 1500
       }
      },
      "text/html": [
       "<div>\n",
       "        \n",
       "        \n",
       "            <div id=\"759029c4-fd4c-4de2-9dcb-d998b3658a3b\" class=\"plotly-graph-div\" style=\"height:1000px; width:1500px;\"></div>\n",
       "            <script type=\"text/javascript\">\n",
       "                require([\"plotly\"], function(Plotly) {\n",
       "                    window.PLOTLYENV=window.PLOTLYENV || {};\n",
       "                    \n",
       "                if (document.getElementById(\"759029c4-fd4c-4de2-9dcb-d998b3658a3b\")) {\n",
       "                    Plotly.newPlot(\n",
       "                        '759029c4-fd4c-4de2-9dcb-d998b3658a3b',\n",
       "                        [{\"fill\": \"toself\", \"name\": \"Pneumatics Panel\", \"r\": [4, 1, 5, 4, 4, 4, 4, 4, 1, 4, 4, 4, 4, 4, 4, 4, 3, 4, 3, 4, 4, 4, 4, 4, 4, 1], \"subplot\": \"polar\", \"theta\": [\"Accuracy\", \"Configurability\", \"Understandability\", \"Feedback\", \"Distinguishability\", \"Limitations of user\", \"Situationally aware\", \"Reliable\", \"Redundany\", \"Error Management\", \"Trainability and Learnability\", \"User's attention\", \"Usage patterns\", \"User aware of limitations\", \"Validatable\", \"Efficiency\", \"Effectiveness\", \"Practicality\", \"Context Coverage\", \"Risk Mitigations\", \"Communication Required\", \"Satisfaction of Use\", \"Attentive Attributes\", \"Ouput of Information\", \"Input of Information\", \"Procedural Use\"], \"type\": \"scatterpolar\"}, {\"fill\": \"toself\", \"name\": \"Equipment Cooling\", \"r\": [3, 1, 4, 3, 4, 2, 1, 3, 1, 3, 5, 4, 4, 3, 4, 4, 3, 4, 2, 2, 3, 4, 3, 2, 2, 1], \"subplot\": \"polar2\", \"theta\": [\"Accuracy\", \"Configurability\", \"Understandability\", \"Feedback\", \"Distinguishability\", \"Limitations of user\", \"Situationally aware\", \"Reliable\", \"Redundany\", \"Error Management\", \"Trainability and Learnability\", \"User's attention\", \"Usage patterns\", \"User aware of limitations\", \"Validatable\", \"Efficiency\", \"Effectiveness\", \"Practicality\", \"Context Coverage\", \"Risk Mitigations\", \"Communication Required\", \"Satisfaction of Use\", \"Attentive Attributes\", \"Ouput of Information\", \"Input of Information\", \"Procedural Use\"], \"type\": \"scatterpolar\"}, {\"fill\": \"toself\", \"name\": \"Cabin Altitude Panel\", \"r\": [4, 1, 5, 4, 4, 4, 4, 3, 4, 3, 4, 3, 4, 3, 4, 3, 3, 4, 3, 3, 3, 4, 3, 4, 1, 2], \"subplot\": \"polar3\", \"theta\": [\"Accuracy\", \"Configurability\", \"Understandability\", \"Feedback\", \"Distinguishability\", \"Limitations of user\", \"Situationally aware\", \"Reliable\", \"Redundany\", \"Error Management\", \"Trainability and Learnability\", \"User's attention\", \"Usage patterns\", \"User aware of limitations\", \"Validatable\", \"Efficiency\", \"Effectiveness\", \"Practicality\", \"Context Coverage\", \"Risk Mitigations\", \"Communication Required\", \"Satisfaction of Use\", \"Attentive Attributes\", \"Ouput of Information\", \"Input of Information\", \"Procedural Use\"], \"type\": \"scatterpolar\"}, {\"fill\": \"toself\", \"name\": \"Cabin Pressurization Panel\", \"r\": [4, 1, 4, 4, 3, 4, 4, 4, 4, 4, 5, 3, 3, 4, 4, 4, 3, 4, 3, 3, 4, 4, 4, 4, 4, 2], \"subplot\": \"polar4\", \"theta\": [\"Accuracy\", \"Configurability\", \"Understandability\", \"Feedback\", \"Distinguishability\", \"Limitations of user\", \"Situationally aware\", \"Reliable\", \"Redundany\", \"Error Management\", \"Trainability and Learnability\", \"User's attention\", \"Usage patterns\", \"User aware of limitations\", \"Validatable\", \"Efficiency\", \"Effectiveness\", \"Practicality\", \"Context Coverage\", \"Risk Mitigations\", \"Communication Required\", \"Satisfaction of Use\", \"Attentive Attributes\", \"Ouput of Information\", \"Input of Information\", \"Procedural Use\"], \"type\": \"scatterpolar\"}],\n",
       "                        {\"height\": 1000, \"polar\": {\"domain\": {\"x\": [0.0, 0.45], \"y\": [0.575, 1.0]}}, \"polar2\": {\"domain\": {\"x\": [0.55, 1.0], \"y\": [0.575, 1.0]}}, \"polar3\": {\"domain\": {\"x\": [0.0, 0.45], \"y\": [0.0, 0.425]}}, \"polar4\": {\"domain\": {\"x\": [0.55, 1.0], \"y\": [0.0, 0.425]}}, \"template\": {\"data\": {\"bar\": [{\"error_x\": {\"color\": \"#2a3f5f\"}, \"error_y\": {\"color\": \"#2a3f5f\"}, \"marker\": {\"line\": {\"color\": \"#E5ECF6\", \"width\": 0.5}}, \"type\": \"bar\"}], \"barpolar\": [{\"marker\": {\"line\": {\"color\": \"#E5ECF6\", \"width\": 0.5}}, \"type\": \"barpolar\"}], \"carpet\": [{\"aaxis\": {\"endlinecolor\": \"#2a3f5f\", \"gridcolor\": \"white\", \"linecolor\": \"white\", \"minorgridcolor\": \"white\", \"startlinecolor\": \"#2a3f5f\"}, \"baxis\": {\"endlinecolor\": \"#2a3f5f\", \"gridcolor\": \"white\", \"linecolor\": \"white\", \"minorgridcolor\": \"white\", \"startlinecolor\": \"#2a3f5f\"}, \"type\": \"carpet\"}], \"choropleth\": [{\"colorbar\": {\"outlinewidth\": 0, \"ticks\": \"\"}, \"type\": \"choropleth\"}], \"contour\": [{\"colorbar\": {\"outlinewidth\": 0, \"ticks\": \"\"}, \"colorscale\": [[0.0, \"#0d0887\"], [0.1111111111111111, \"#46039f\"], [0.2222222222222222, \"#7201a8\"], [0.3333333333333333, \"#9c179e\"], [0.4444444444444444, \"#bd3786\"], [0.5555555555555556, \"#d8576b\"], [0.6666666666666666, \"#ed7953\"], [0.7777777777777778, \"#fb9f3a\"], [0.8888888888888888, \"#fdca26\"], [1.0, \"#f0f921\"]], \"type\": \"contour\"}], \"contourcarpet\": [{\"colorbar\": {\"outlinewidth\": 0, \"ticks\": \"\"}, \"type\": \"contourcarpet\"}], \"heatmap\": [{\"colorbar\": {\"outlinewidth\": 0, \"ticks\": \"\"}, \"colorscale\": [[0.0, \"#0d0887\"], [0.1111111111111111, \"#46039f\"], [0.2222222222222222, \"#7201a8\"], [0.3333333333333333, \"#9c179e\"], [0.4444444444444444, \"#bd3786\"], [0.5555555555555556, \"#d8576b\"], [0.6666666666666666, \"#ed7953\"], [0.7777777777777778, \"#fb9f3a\"], [0.8888888888888888, \"#fdca26\"], [1.0, \"#f0f921\"]], \"type\": \"heatmap\"}], \"heatmapgl\": [{\"colorbar\": {\"outlinewidth\": 0, \"ticks\": \"\"}, \"colorscale\": [[0.0, \"#0d0887\"], [0.1111111111111111, \"#46039f\"], [0.2222222222222222, \"#7201a8\"], [0.3333333333333333, \"#9c179e\"], [0.4444444444444444, \"#bd3786\"], [0.5555555555555556, \"#d8576b\"], [0.6666666666666666, \"#ed7953\"], [0.7777777777777778, \"#fb9f3a\"], [0.8888888888888888, \"#fdca26\"], [1.0, \"#f0f921\"]], \"type\": \"heatmapgl\"}], \"histogram\": [{\"marker\": {\"colorbar\": {\"outlinewidth\": 0, \"ticks\": \"\"}}, \"type\": \"histogram\"}], \"histogram2d\": [{\"colorbar\": {\"outlinewidth\": 0, \"ticks\": \"\"}, \"colorscale\": [[0.0, \"#0d0887\"], [0.1111111111111111, \"#46039f\"], [0.2222222222222222, \"#7201a8\"], [0.3333333333333333, \"#9c179e\"], [0.4444444444444444, \"#bd3786\"], [0.5555555555555556, \"#d8576b\"], [0.6666666666666666, \"#ed7953\"], [0.7777777777777778, \"#fb9f3a\"], [0.8888888888888888, \"#fdca26\"], [1.0, \"#f0f921\"]], \"type\": \"histogram2d\"}], \"histogram2dcontour\": [{\"colorbar\": {\"outlinewidth\": 0, \"ticks\": \"\"}, \"colorscale\": [[0.0, \"#0d0887\"], [0.1111111111111111, \"#46039f\"], [0.2222222222222222, \"#7201a8\"], [0.3333333333333333, \"#9c179e\"], [0.4444444444444444, \"#bd3786\"], [0.5555555555555556, \"#d8576b\"], [0.6666666666666666, \"#ed7953\"], [0.7777777777777778, \"#fb9f3a\"], [0.8888888888888888, \"#fdca26\"], [1.0, \"#f0f921\"]], \"type\": \"histogram2dcontour\"}], \"mesh3d\": [{\"colorbar\": {\"outlinewidth\": 0, \"ticks\": \"\"}, \"type\": \"mesh3d\"}], \"parcoords\": [{\"line\": {\"colorbar\": {\"outlinewidth\": 0, \"ticks\": \"\"}}, \"type\": \"parcoords\"}], \"pie\": [{\"automargin\": true, \"type\": \"pie\"}], \"scatter\": [{\"marker\": {\"colorbar\": {\"outlinewidth\": 0, \"ticks\": \"\"}}, \"type\": \"scatter\"}], \"scatter3d\": [{\"line\": {\"colorbar\": {\"outlinewidth\": 0, \"ticks\": \"\"}}, \"marker\": {\"colorbar\": {\"outlinewidth\": 0, \"ticks\": \"\"}}, \"type\": \"scatter3d\"}], \"scattercarpet\": [{\"marker\": {\"colorbar\": {\"outlinewidth\": 0, \"ticks\": \"\"}}, \"type\": \"scattercarpet\"}], \"scattergeo\": [{\"marker\": {\"colorbar\": {\"outlinewidth\": 0, \"ticks\": \"\"}}, \"type\": \"scattergeo\"}], \"scattergl\": [{\"marker\": {\"colorbar\": {\"outlinewidth\": 0, \"ticks\": \"\"}}, \"type\": \"scattergl\"}], \"scattermapbox\": [{\"marker\": {\"colorbar\": {\"outlinewidth\": 0, \"ticks\": \"\"}}, \"type\": \"scattermapbox\"}], \"scatterpolar\": [{\"marker\": {\"colorbar\": {\"outlinewidth\": 0, \"ticks\": \"\"}}, \"type\": \"scatterpolar\"}], \"scatterpolargl\": [{\"marker\": {\"colorbar\": {\"outlinewidth\": 0, \"ticks\": \"\"}}, \"type\": \"scatterpolargl\"}], \"scatterternary\": [{\"marker\": {\"colorbar\": {\"outlinewidth\": 0, \"ticks\": \"\"}}, \"type\": \"scatterternary\"}], \"surface\": [{\"colorbar\": {\"outlinewidth\": 0, \"ticks\": \"\"}, \"colorscale\": [[0.0, \"#0d0887\"], [0.1111111111111111, \"#46039f\"], [0.2222222222222222, \"#7201a8\"], [0.3333333333333333, \"#9c179e\"], [0.4444444444444444, \"#bd3786\"], [0.5555555555555556, \"#d8576b\"], [0.6666666666666666, \"#ed7953\"], [0.7777777777777778, \"#fb9f3a\"], [0.8888888888888888, \"#fdca26\"], [1.0, \"#f0f921\"]], \"type\": \"surface\"}], \"table\": [{\"cells\": {\"fill\": {\"color\": \"#EBF0F8\"}, \"line\": {\"color\": \"white\"}}, \"header\": {\"fill\": {\"color\": \"#C8D4E3\"}, \"line\": {\"color\": \"white\"}}, \"type\": \"table\"}]}, \"layout\": {\"annotationdefaults\": {\"arrowcolor\": \"#2a3f5f\", \"arrowhead\": 0, \"arrowwidth\": 1}, \"coloraxis\": {\"colorbar\": {\"outlinewidth\": 0, \"ticks\": \"\"}}, \"colorscale\": {\"diverging\": [[0, \"#8e0152\"], [0.1, \"#c51b7d\"], [0.2, \"#de77ae\"], [0.3, \"#f1b6da\"], [0.4, \"#fde0ef\"], [0.5, \"#f7f7f7\"], [0.6, \"#e6f5d0\"], [0.7, \"#b8e186\"], [0.8, \"#7fbc41\"], [0.9, \"#4d9221\"], [1, \"#276419\"]], \"sequential\": [[0.0, \"#0d0887\"], [0.1111111111111111, \"#46039f\"], [0.2222222222222222, \"#7201a8\"], [0.3333333333333333, \"#9c179e\"], [0.4444444444444444, \"#bd3786\"], [0.5555555555555556, \"#d8576b\"], [0.6666666666666666, \"#ed7953\"], [0.7777777777777778, \"#fb9f3a\"], [0.8888888888888888, \"#fdca26\"], [1.0, \"#f0f921\"]], \"sequentialminus\": [[0.0, \"#0d0887\"], [0.1111111111111111, \"#46039f\"], [0.2222222222222222, \"#7201a8\"], [0.3333333333333333, \"#9c179e\"], [0.4444444444444444, \"#bd3786\"], [0.5555555555555556, \"#d8576b\"], [0.6666666666666666, \"#ed7953\"], [0.7777777777777778, \"#fb9f3a\"], [0.8888888888888888, \"#fdca26\"], [1.0, \"#f0f921\"]]}, \"colorway\": [\"#636efa\", \"#EF553B\", \"#00cc96\", \"#ab63fa\", \"#FFA15A\", \"#19d3f3\", \"#FF6692\", \"#B6E880\", \"#FF97FF\", \"#FECB52\"], \"font\": {\"color\": \"#2a3f5f\"}, \"geo\": {\"bgcolor\": \"white\", \"lakecolor\": \"white\", \"landcolor\": \"#E5ECF6\", \"showlakes\": true, \"showland\": true, \"subunitcolor\": \"white\"}, \"hoverlabel\": {\"align\": \"left\"}, \"hovermode\": \"closest\", \"mapbox\": {\"style\": \"light\"}, \"paper_bgcolor\": \"white\", \"plot_bgcolor\": \"#E5ECF6\", \"polar\": {\"angularaxis\": {\"gridcolor\": \"white\", \"linecolor\": \"white\", \"ticks\": \"\"}, \"bgcolor\": \"#E5ECF6\", \"radialaxis\": {\"gridcolor\": \"white\", \"linecolor\": \"white\", \"ticks\": \"\"}}, \"scene\": {\"xaxis\": {\"backgroundcolor\": \"#E5ECF6\", \"gridcolor\": \"white\", \"gridwidth\": 2, \"linecolor\": \"white\", \"showbackground\": true, \"ticks\": \"\", \"zerolinecolor\": \"white\"}, \"yaxis\": {\"backgroundcolor\": \"#E5ECF6\", \"gridcolor\": \"white\", \"gridwidth\": 2, \"linecolor\": \"white\", \"showbackground\": true, \"ticks\": \"\", \"zerolinecolor\": \"white\"}, \"zaxis\": {\"backgroundcolor\": \"#E5ECF6\", \"gridcolor\": \"white\", \"gridwidth\": 2, \"linecolor\": \"white\", \"showbackground\": true, \"ticks\": \"\", \"zerolinecolor\": \"white\"}}, \"shapedefaults\": {\"line\": {\"color\": \"#2a3f5f\"}}, \"ternary\": {\"aaxis\": {\"gridcolor\": \"white\", \"linecolor\": \"white\", \"ticks\": \"\"}, \"baxis\": {\"gridcolor\": \"white\", \"linecolor\": \"white\", \"ticks\": \"\"}, \"bgcolor\": \"#E5ECF6\", \"caxis\": {\"gridcolor\": \"white\", \"linecolor\": \"white\", \"ticks\": \"\"}}, \"title\": {\"x\": 0.05}, \"xaxis\": {\"automargin\": true, \"gridcolor\": \"white\", \"linecolor\": \"white\", \"ticks\": \"\", \"title\": {\"standoff\": 15}, \"zerolinecolor\": \"white\", \"zerolinewidth\": 2}, \"yaxis\": {\"automargin\": true, \"gridcolor\": \"white\", \"linecolor\": \"white\", \"ticks\": \"\", \"title\": {\"standoff\": 15}, \"zerolinecolor\": \"white\", \"zerolinewidth\": 2}}}, \"width\": 1500},\n",
       "                        {\"responsive\": true}\n",
       "                    ).then(function(){\n",
       "                            \n",
       "var gd = document.getElementById('759029c4-fd4c-4de2-9dcb-d998b3658a3b');\n",
       "var x = new MutationObserver(function (mutations, observer) {{\n",
       "        var display = window.getComputedStyle(gd).display;\n",
       "        if (!display || display === 'none') {{\n",
       "            console.log([gd, 'removed!']);\n",
       "            Plotly.purge(gd);\n",
       "            observer.disconnect();\n",
       "        }}\n",
       "}});\n",
       "\n",
       "// Listen for the removal of the full notebook cells\n",
       "var notebookContainer = gd.closest('#notebook-container');\n",
       "if (notebookContainer) {{\n",
       "    x.observe(notebookContainer, {childList: true});\n",
       "}}\n",
       "\n",
       "// Listen for the clearing of the current output cell\n",
       "var outputEl = gd.closest('.output');\n",
       "if (outputEl) {{\n",
       "    x.observe(outputEl, {childList: true});\n",
       "}}\n",
       "\n",
       "                        })\n",
       "                };\n",
       "                });\n",
       "            </script>\n",
       "        </div>"
      ]
     },
     "metadata": {},
     "output_type": "display_data"
    }
   ],
   "source": [
    "fig = make_subplots(rows=2, cols=2,\n",
    "                   specs=[[{\"type\": \"polar\"}, {\"type\": \"polar\"}],\n",
    "                         [{\"type\": \"polar\"}, {\"type\": \"polar\"}]])\n",
    "fig.add_trace(go.Scatterpolar(\n",
    "    name=\"Pneumatics Panel\",\n",
    "    r=df['Pneumatics Panel'],\n",
    "    theta=df['Quality'],\n",
    "    fill='toself'\n",
    "    ), 1, 1)\n",
    "fig.add_trace(go.Scatterpolar(\n",
    "    name=\"Equipment Cooling\",\n",
    "    r=df['Equipment Cooling'],\n",
    "    theta=df['Quality'],\n",
    "    fill='toself'\n",
    "    ), 1, 2)\n",
    "fig.add_trace(go.Scatterpolar(\n",
    "    name=\"Cabin Altitude Panel\",\n",
    "    r=df['Cabin Altitude Panel'],\n",
    "    theta=df['Quality'],\n",
    "    fill='toself'\n",
    "    ), 2, 1)\n",
    "fig.add_trace(go.Scatterpolar(\n",
    "    name=\"Cabin Pressurization Panel\",\n",
    "    r=df['Cabin Pressurization Panel'],\n",
    "    theta=df['Quality'],\n",
    "    fill='toself'\n",
    "    ), 2, 2)\n",
    "fig.update_layout(height=1000, width=1500)\n",
    "fig.show()"
   ]
  },
  {
   "cell_type": "code",
   "execution_count": 171,
   "metadata": {},
   "outputs": [
    {
     "data": {
      "application/vnd.plotly.v1+json": {
       "config": {
        "plotlyServerURL": "https://plot.ly"
       },
       "data": [
        {
         "fill": "toself",
         "name": "Audio Control Panel",
         "r": [
          4,
          1,
          2,
          3,
          5,
          2,
          4,
          4,
          4,
          3,
          3,
          4,
          3,
          1,
          3,
          3,
          3,
          2,
          4,
          2,
          3,
          3,
          2,
          1,
          4,
          3
         ],
         "subplot": "polar",
         "theta": [
          "Accuracy",
          "Configurability",
          "Understandability",
          "Feedback",
          "Distinguishability",
          "Limitations of user",
          "Situationally aware",
          "Reliable",
          "Redundany",
          "Error Management",
          "Trainability and Learnability",
          "User's attention",
          "Usage patterns",
          "User aware of limitations",
          "Validatable",
          "Efficiency",
          "Effectiveness",
          "Practicality",
          "Context Coverage",
          "Risk Mitigations",
          "Communication Required",
          "Satisfaction of Use",
          "Attentive Attributes",
          "Ouput of Information",
          "Input of Information",
          "Procedural Use"
         ],
         "type": "scatterpolar"
        },
        {
         "fill": "toself",
         "name": "Navigational Radio",
         "r": [
          5,
          1,
          5,
          4,
          4,
          4,
          4,
          3,
          4,
          4,
          4,
          3,
          4,
          3,
          4,
          4,
          4,
          4,
          4,
          4,
          4,
          4,
          4,
          4,
          4,
          4
         ],
         "subplot": "polar2",
         "theta": [
          "Accuracy",
          "Configurability",
          "Understandability",
          "Feedback",
          "Distinguishability",
          "Limitations of user",
          "Situationally aware",
          "Reliable",
          "Redundany",
          "Error Management",
          "Trainability and Learnability",
          "User's attention",
          "Usage patterns",
          "User aware of limitations",
          "Validatable",
          "Efficiency",
          "Effectiveness",
          "Practicality",
          "Context Coverage",
          "Risk Mitigations",
          "Communication Required",
          "Satisfaction of Use",
          "Attentive Attributes",
          "Ouput of Information",
          "Input of Information",
          "Procedural Use"
         ],
         "type": "scatterpolar"
        },
        {
         "fill": "toself",
         "name": "TCAS Transponder",
         "r": [
          5,
          1,
          5,
          5,
          4,
          4,
          4,
          4,
          4,
          4,
          4,
          4,
          5,
          3,
          4,
          4,
          4,
          5,
          4,
          2,
          4,
          5,
          3,
          4,
          4,
          5
         ],
         "subplot": "polar3",
         "theta": [
          "Accuracy",
          "Configurability",
          "Understandability",
          "Feedback",
          "Distinguishability",
          "Limitations of user",
          "Situationally aware",
          "Reliable",
          "Redundany",
          "Error Management",
          "Trainability and Learnability",
          "User's attention",
          "Usage patterns",
          "User aware of limitations",
          "Validatable",
          "Efficiency",
          "Effectiveness",
          "Practicality",
          "Context Coverage",
          "Risk Mitigations",
          "Communication Required",
          "Satisfaction of Use",
          "Attentive Attributes",
          "Ouput of Information",
          "Input of Information",
          "Procedural Use"
         ],
         "type": "scatterpolar"
        },
        {
         "fill": "toself",
         "name": "Flight Controls Panel",
         "r": [
          5,
          1,
          4,
          4,
          4,
          4,
          4,
          4,
          4,
          2,
          3,
          3,
          4,
          3,
          4,
          4,
          4,
          5,
          4,
          3,
          4,
          4,
          5,
          5,
          4,
          2
         ],
         "subplot": "polar4",
         "theta": [
          "Accuracy",
          "Configurability",
          "Understandability",
          "Feedback",
          "Distinguishability",
          "Limitations of user",
          "Situationally aware",
          "Reliable",
          "Redundany",
          "Error Management",
          "Trainability and Learnability",
          "User's attention",
          "Usage patterns",
          "User aware of limitations",
          "Validatable",
          "Efficiency",
          "Effectiveness",
          "Practicality",
          "Context Coverage",
          "Risk Mitigations",
          "Communication Required",
          "Satisfaction of Use",
          "Attentive Attributes",
          "Ouput of Information",
          "Input of Information",
          "Procedural Use"
         ],
         "type": "scatterpolar"
        }
       ],
       "layout": {
        "height": 1000,
        "polar": {
         "domain": {
          "x": [
           0,
           0.45
          ],
          "y": [
           0.575,
           1
          ]
         }
        },
        "polar2": {
         "domain": {
          "x": [
           0.55,
           1
          ],
          "y": [
           0.575,
           1
          ]
         }
        },
        "polar3": {
         "domain": {
          "x": [
           0,
           0.45
          ],
          "y": [
           0,
           0.425
          ]
         }
        },
        "polar4": {
         "domain": {
          "x": [
           0.55,
           1
          ],
          "y": [
           0,
           0.425
          ]
         }
        },
        "template": {
         "data": {
          "bar": [
           {
            "error_x": {
             "color": "#2a3f5f"
            },
            "error_y": {
             "color": "#2a3f5f"
            },
            "marker": {
             "line": {
              "color": "#E5ECF6",
              "width": 0.5
             }
            },
            "type": "bar"
           }
          ],
          "barpolar": [
           {
            "marker": {
             "line": {
              "color": "#E5ECF6",
              "width": 0.5
             }
            },
            "type": "barpolar"
           }
          ],
          "carpet": [
           {
            "aaxis": {
             "endlinecolor": "#2a3f5f",
             "gridcolor": "white",
             "linecolor": "white",
             "minorgridcolor": "white",
             "startlinecolor": "#2a3f5f"
            },
            "baxis": {
             "endlinecolor": "#2a3f5f",
             "gridcolor": "white",
             "linecolor": "white",
             "minorgridcolor": "white",
             "startlinecolor": "#2a3f5f"
            },
            "type": "carpet"
           }
          ],
          "choropleth": [
           {
            "colorbar": {
             "outlinewidth": 0,
             "ticks": ""
            },
            "type": "choropleth"
           }
          ],
          "contour": [
           {
            "colorbar": {
             "outlinewidth": 0,
             "ticks": ""
            },
            "colorscale": [
             [
              0,
              "#0d0887"
             ],
             [
              0.1111111111111111,
              "#46039f"
             ],
             [
              0.2222222222222222,
              "#7201a8"
             ],
             [
              0.3333333333333333,
              "#9c179e"
             ],
             [
              0.4444444444444444,
              "#bd3786"
             ],
             [
              0.5555555555555556,
              "#d8576b"
             ],
             [
              0.6666666666666666,
              "#ed7953"
             ],
             [
              0.7777777777777778,
              "#fb9f3a"
             ],
             [
              0.8888888888888888,
              "#fdca26"
             ],
             [
              1,
              "#f0f921"
             ]
            ],
            "type": "contour"
           }
          ],
          "contourcarpet": [
           {
            "colorbar": {
             "outlinewidth": 0,
             "ticks": ""
            },
            "type": "contourcarpet"
           }
          ],
          "heatmap": [
           {
            "colorbar": {
             "outlinewidth": 0,
             "ticks": ""
            },
            "colorscale": [
             [
              0,
              "#0d0887"
             ],
             [
              0.1111111111111111,
              "#46039f"
             ],
             [
              0.2222222222222222,
              "#7201a8"
             ],
             [
              0.3333333333333333,
              "#9c179e"
             ],
             [
              0.4444444444444444,
              "#bd3786"
             ],
             [
              0.5555555555555556,
              "#d8576b"
             ],
             [
              0.6666666666666666,
              "#ed7953"
             ],
             [
              0.7777777777777778,
              "#fb9f3a"
             ],
             [
              0.8888888888888888,
              "#fdca26"
             ],
             [
              1,
              "#f0f921"
             ]
            ],
            "type": "heatmap"
           }
          ],
          "heatmapgl": [
           {
            "colorbar": {
             "outlinewidth": 0,
             "ticks": ""
            },
            "colorscale": [
             [
              0,
              "#0d0887"
             ],
             [
              0.1111111111111111,
              "#46039f"
             ],
             [
              0.2222222222222222,
              "#7201a8"
             ],
             [
              0.3333333333333333,
              "#9c179e"
             ],
             [
              0.4444444444444444,
              "#bd3786"
             ],
             [
              0.5555555555555556,
              "#d8576b"
             ],
             [
              0.6666666666666666,
              "#ed7953"
             ],
             [
              0.7777777777777778,
              "#fb9f3a"
             ],
             [
              0.8888888888888888,
              "#fdca26"
             ],
             [
              1,
              "#f0f921"
             ]
            ],
            "type": "heatmapgl"
           }
          ],
          "histogram": [
           {
            "marker": {
             "colorbar": {
              "outlinewidth": 0,
              "ticks": ""
             }
            },
            "type": "histogram"
           }
          ],
          "histogram2d": [
           {
            "colorbar": {
             "outlinewidth": 0,
             "ticks": ""
            },
            "colorscale": [
             [
              0,
              "#0d0887"
             ],
             [
              0.1111111111111111,
              "#46039f"
             ],
             [
              0.2222222222222222,
              "#7201a8"
             ],
             [
              0.3333333333333333,
              "#9c179e"
             ],
             [
              0.4444444444444444,
              "#bd3786"
             ],
             [
              0.5555555555555556,
              "#d8576b"
             ],
             [
              0.6666666666666666,
              "#ed7953"
             ],
             [
              0.7777777777777778,
              "#fb9f3a"
             ],
             [
              0.8888888888888888,
              "#fdca26"
             ],
             [
              1,
              "#f0f921"
             ]
            ],
            "type": "histogram2d"
           }
          ],
          "histogram2dcontour": [
           {
            "colorbar": {
             "outlinewidth": 0,
             "ticks": ""
            },
            "colorscale": [
             [
              0,
              "#0d0887"
             ],
             [
              0.1111111111111111,
              "#46039f"
             ],
             [
              0.2222222222222222,
              "#7201a8"
             ],
             [
              0.3333333333333333,
              "#9c179e"
             ],
             [
              0.4444444444444444,
              "#bd3786"
             ],
             [
              0.5555555555555556,
              "#d8576b"
             ],
             [
              0.6666666666666666,
              "#ed7953"
             ],
             [
              0.7777777777777778,
              "#fb9f3a"
             ],
             [
              0.8888888888888888,
              "#fdca26"
             ],
             [
              1,
              "#f0f921"
             ]
            ],
            "type": "histogram2dcontour"
           }
          ],
          "mesh3d": [
           {
            "colorbar": {
             "outlinewidth": 0,
             "ticks": ""
            },
            "type": "mesh3d"
           }
          ],
          "parcoords": [
           {
            "line": {
             "colorbar": {
              "outlinewidth": 0,
              "ticks": ""
             }
            },
            "type": "parcoords"
           }
          ],
          "pie": [
           {
            "automargin": true,
            "type": "pie"
           }
          ],
          "scatter": [
           {
            "marker": {
             "colorbar": {
              "outlinewidth": 0,
              "ticks": ""
             }
            },
            "type": "scatter"
           }
          ],
          "scatter3d": [
           {
            "line": {
             "colorbar": {
              "outlinewidth": 0,
              "ticks": ""
             }
            },
            "marker": {
             "colorbar": {
              "outlinewidth": 0,
              "ticks": ""
             }
            },
            "type": "scatter3d"
           }
          ],
          "scattercarpet": [
           {
            "marker": {
             "colorbar": {
              "outlinewidth": 0,
              "ticks": ""
             }
            },
            "type": "scattercarpet"
           }
          ],
          "scattergeo": [
           {
            "marker": {
             "colorbar": {
              "outlinewidth": 0,
              "ticks": ""
             }
            },
            "type": "scattergeo"
           }
          ],
          "scattergl": [
           {
            "marker": {
             "colorbar": {
              "outlinewidth": 0,
              "ticks": ""
             }
            },
            "type": "scattergl"
           }
          ],
          "scattermapbox": [
           {
            "marker": {
             "colorbar": {
              "outlinewidth": 0,
              "ticks": ""
             }
            },
            "type": "scattermapbox"
           }
          ],
          "scatterpolar": [
           {
            "marker": {
             "colorbar": {
              "outlinewidth": 0,
              "ticks": ""
             }
            },
            "type": "scatterpolar"
           }
          ],
          "scatterpolargl": [
           {
            "marker": {
             "colorbar": {
              "outlinewidth": 0,
              "ticks": ""
             }
            },
            "type": "scatterpolargl"
           }
          ],
          "scatterternary": [
           {
            "marker": {
             "colorbar": {
              "outlinewidth": 0,
              "ticks": ""
             }
            },
            "type": "scatterternary"
           }
          ],
          "surface": [
           {
            "colorbar": {
             "outlinewidth": 0,
             "ticks": ""
            },
            "colorscale": [
             [
              0,
              "#0d0887"
             ],
             [
              0.1111111111111111,
              "#46039f"
             ],
             [
              0.2222222222222222,
              "#7201a8"
             ],
             [
              0.3333333333333333,
              "#9c179e"
             ],
             [
              0.4444444444444444,
              "#bd3786"
             ],
             [
              0.5555555555555556,
              "#d8576b"
             ],
             [
              0.6666666666666666,
              "#ed7953"
             ],
             [
              0.7777777777777778,
              "#fb9f3a"
             ],
             [
              0.8888888888888888,
              "#fdca26"
             ],
             [
              1,
              "#f0f921"
             ]
            ],
            "type": "surface"
           }
          ],
          "table": [
           {
            "cells": {
             "fill": {
              "color": "#EBF0F8"
             },
             "line": {
              "color": "white"
             }
            },
            "header": {
             "fill": {
              "color": "#C8D4E3"
             },
             "line": {
              "color": "white"
             }
            },
            "type": "table"
           }
          ]
         },
         "layout": {
          "annotationdefaults": {
           "arrowcolor": "#2a3f5f",
           "arrowhead": 0,
           "arrowwidth": 1
          },
          "coloraxis": {
           "colorbar": {
            "outlinewidth": 0,
            "ticks": ""
           }
          },
          "colorscale": {
           "diverging": [
            [
             0,
             "#8e0152"
            ],
            [
             0.1,
             "#c51b7d"
            ],
            [
             0.2,
             "#de77ae"
            ],
            [
             0.3,
             "#f1b6da"
            ],
            [
             0.4,
             "#fde0ef"
            ],
            [
             0.5,
             "#f7f7f7"
            ],
            [
             0.6,
             "#e6f5d0"
            ],
            [
             0.7,
             "#b8e186"
            ],
            [
             0.8,
             "#7fbc41"
            ],
            [
             0.9,
             "#4d9221"
            ],
            [
             1,
             "#276419"
            ]
           ],
           "sequential": [
            [
             0,
             "#0d0887"
            ],
            [
             0.1111111111111111,
             "#46039f"
            ],
            [
             0.2222222222222222,
             "#7201a8"
            ],
            [
             0.3333333333333333,
             "#9c179e"
            ],
            [
             0.4444444444444444,
             "#bd3786"
            ],
            [
             0.5555555555555556,
             "#d8576b"
            ],
            [
             0.6666666666666666,
             "#ed7953"
            ],
            [
             0.7777777777777778,
             "#fb9f3a"
            ],
            [
             0.8888888888888888,
             "#fdca26"
            ],
            [
             1,
             "#f0f921"
            ]
           ],
           "sequentialminus": [
            [
             0,
             "#0d0887"
            ],
            [
             0.1111111111111111,
             "#46039f"
            ],
            [
             0.2222222222222222,
             "#7201a8"
            ],
            [
             0.3333333333333333,
             "#9c179e"
            ],
            [
             0.4444444444444444,
             "#bd3786"
            ],
            [
             0.5555555555555556,
             "#d8576b"
            ],
            [
             0.6666666666666666,
             "#ed7953"
            ],
            [
             0.7777777777777778,
             "#fb9f3a"
            ],
            [
             0.8888888888888888,
             "#fdca26"
            ],
            [
             1,
             "#f0f921"
            ]
           ]
          },
          "colorway": [
           "#636efa",
           "#EF553B",
           "#00cc96",
           "#ab63fa",
           "#FFA15A",
           "#19d3f3",
           "#FF6692",
           "#B6E880",
           "#FF97FF",
           "#FECB52"
          ],
          "font": {
           "color": "#2a3f5f"
          },
          "geo": {
           "bgcolor": "white",
           "lakecolor": "white",
           "landcolor": "#E5ECF6",
           "showlakes": true,
           "showland": true,
           "subunitcolor": "white"
          },
          "hoverlabel": {
           "align": "left"
          },
          "hovermode": "closest",
          "mapbox": {
           "style": "light"
          },
          "paper_bgcolor": "white",
          "plot_bgcolor": "#E5ECF6",
          "polar": {
           "angularaxis": {
            "gridcolor": "white",
            "linecolor": "white",
            "ticks": ""
           },
           "bgcolor": "#E5ECF6",
           "radialaxis": {
            "gridcolor": "white",
            "linecolor": "white",
            "ticks": ""
           }
          },
          "scene": {
           "xaxis": {
            "backgroundcolor": "#E5ECF6",
            "gridcolor": "white",
            "gridwidth": 2,
            "linecolor": "white",
            "showbackground": true,
            "ticks": "",
            "zerolinecolor": "white"
           },
           "yaxis": {
            "backgroundcolor": "#E5ECF6",
            "gridcolor": "white",
            "gridwidth": 2,
            "linecolor": "white",
            "showbackground": true,
            "ticks": "",
            "zerolinecolor": "white"
           },
           "zaxis": {
            "backgroundcolor": "#E5ECF6",
            "gridcolor": "white",
            "gridwidth": 2,
            "linecolor": "white",
            "showbackground": true,
            "ticks": "",
            "zerolinecolor": "white"
           }
          },
          "shapedefaults": {
           "line": {
            "color": "#2a3f5f"
           }
          },
          "ternary": {
           "aaxis": {
            "gridcolor": "white",
            "linecolor": "white",
            "ticks": ""
           },
           "baxis": {
            "gridcolor": "white",
            "linecolor": "white",
            "ticks": ""
           },
           "bgcolor": "#E5ECF6",
           "caxis": {
            "gridcolor": "white",
            "linecolor": "white",
            "ticks": ""
           }
          },
          "title": {
           "x": 0.05
          },
          "xaxis": {
           "automargin": true,
           "gridcolor": "white",
           "linecolor": "white",
           "ticks": "",
           "title": {
            "standoff": 15
           },
           "zerolinecolor": "white",
           "zerolinewidth": 2
          },
          "yaxis": {
           "automargin": true,
           "gridcolor": "white",
           "linecolor": "white",
           "ticks": "",
           "title": {
            "standoff": 15
           },
           "zerolinecolor": "white",
           "zerolinewidth": 2
          }
         }
        },
        "width": 1500
       }
      },
      "text/html": [
       "<div>\n",
       "        \n",
       "        \n",
       "            <div id=\"2b29c38c-29d3-4aa4-8854-44eb3d321585\" class=\"plotly-graph-div\" style=\"height:1000px; width:1500px;\"></div>\n",
       "            <script type=\"text/javascript\">\n",
       "                require([\"plotly\"], function(Plotly) {\n",
       "                    window.PLOTLYENV=window.PLOTLYENV || {};\n",
       "                    \n",
       "                if (document.getElementById(\"2b29c38c-29d3-4aa4-8854-44eb3d321585\")) {\n",
       "                    Plotly.newPlot(\n",
       "                        '2b29c38c-29d3-4aa4-8854-44eb3d321585',\n",
       "                        [{\"fill\": \"toself\", \"name\": \"Audio Control Panel\", \"r\": [4, 1, 2, 3, 5, 2, 4, 4, 4, 3, 3, 4, 3, 1, 3, 3, 3, 2, 4, 2, 3, 3, 2, 1, 4, 3], \"subplot\": \"polar\", \"theta\": [\"Accuracy\", \"Configurability\", \"Understandability\", \"Feedback\", \"Distinguishability\", \"Limitations of user\", \"Situationally aware\", \"Reliable\", \"Redundany\", \"Error Management\", \"Trainability and Learnability\", \"User's attention\", \"Usage patterns\", \"User aware of limitations\", \"Validatable\", \"Efficiency\", \"Effectiveness\", \"Practicality\", \"Context Coverage\", \"Risk Mitigations\", \"Communication Required\", \"Satisfaction of Use\", \"Attentive Attributes\", \"Ouput of Information\", \"Input of Information\", \"Procedural Use\"], \"type\": \"scatterpolar\"}, {\"fill\": \"toself\", \"name\": \"Navigational Radio\", \"r\": [5, 1, 5, 4, 4, 4, 4, 3, 4, 4, 4, 3, 4, 3, 4, 4, 4, 4, 4, 4, 4, 4, 4, 4, 4, 4], \"subplot\": \"polar2\", \"theta\": [\"Accuracy\", \"Configurability\", \"Understandability\", \"Feedback\", \"Distinguishability\", \"Limitations of user\", \"Situationally aware\", \"Reliable\", \"Redundany\", \"Error Management\", \"Trainability and Learnability\", \"User's attention\", \"Usage patterns\", \"User aware of limitations\", \"Validatable\", \"Efficiency\", \"Effectiveness\", \"Practicality\", \"Context Coverage\", \"Risk Mitigations\", \"Communication Required\", \"Satisfaction of Use\", \"Attentive Attributes\", \"Ouput of Information\", \"Input of Information\", \"Procedural Use\"], \"type\": \"scatterpolar\"}, {\"fill\": \"toself\", \"name\": \"TCAS Transponder\", \"r\": [5, 1, 5, 5, 4, 4, 4, 4, 4, 4, 4, 4, 5, 3, 4, 4, 4, 5, 4, 2, 4, 5, 3, 4, 4, 5], \"subplot\": \"polar3\", \"theta\": [\"Accuracy\", \"Configurability\", \"Understandability\", \"Feedback\", \"Distinguishability\", \"Limitations of user\", \"Situationally aware\", \"Reliable\", \"Redundany\", \"Error Management\", \"Trainability and Learnability\", \"User's attention\", \"Usage patterns\", \"User aware of limitations\", \"Validatable\", \"Efficiency\", \"Effectiveness\", \"Practicality\", \"Context Coverage\", \"Risk Mitigations\", \"Communication Required\", \"Satisfaction of Use\", \"Attentive Attributes\", \"Ouput of Information\", \"Input of Information\", \"Procedural Use\"], \"type\": \"scatterpolar\"}, {\"fill\": \"toself\", \"name\": \"Flight Controls Panel\", \"r\": [5, 1, 4, 4, 4, 4, 4, 4, 4, 2, 3, 3, 4, 3, 4, 4, 4, 5, 4, 3, 4, 4, 5, 5, 4, 2], \"subplot\": \"polar4\", \"theta\": [\"Accuracy\", \"Configurability\", \"Understandability\", \"Feedback\", \"Distinguishability\", \"Limitations of user\", \"Situationally aware\", \"Reliable\", \"Redundany\", \"Error Management\", \"Trainability and Learnability\", \"User's attention\", \"Usage patterns\", \"User aware of limitations\", \"Validatable\", \"Efficiency\", \"Effectiveness\", \"Practicality\", \"Context Coverage\", \"Risk Mitigations\", \"Communication Required\", \"Satisfaction of Use\", \"Attentive Attributes\", \"Ouput of Information\", \"Input of Information\", \"Procedural Use\"], \"type\": \"scatterpolar\"}],\n",
       "                        {\"height\": 1000, \"polar\": {\"domain\": {\"x\": [0.0, 0.45], \"y\": [0.575, 1.0]}}, \"polar2\": {\"domain\": {\"x\": [0.55, 1.0], \"y\": [0.575, 1.0]}}, \"polar3\": {\"domain\": {\"x\": [0.0, 0.45], \"y\": [0.0, 0.425]}}, \"polar4\": {\"domain\": {\"x\": [0.55, 1.0], \"y\": [0.0, 0.425]}}, \"template\": {\"data\": {\"bar\": [{\"error_x\": {\"color\": \"#2a3f5f\"}, \"error_y\": {\"color\": \"#2a3f5f\"}, \"marker\": {\"line\": {\"color\": \"#E5ECF6\", \"width\": 0.5}}, \"type\": \"bar\"}], \"barpolar\": [{\"marker\": {\"line\": {\"color\": \"#E5ECF6\", \"width\": 0.5}}, \"type\": \"barpolar\"}], \"carpet\": [{\"aaxis\": {\"endlinecolor\": \"#2a3f5f\", \"gridcolor\": \"white\", \"linecolor\": \"white\", \"minorgridcolor\": \"white\", \"startlinecolor\": \"#2a3f5f\"}, \"baxis\": {\"endlinecolor\": \"#2a3f5f\", \"gridcolor\": \"white\", \"linecolor\": \"white\", \"minorgridcolor\": \"white\", \"startlinecolor\": \"#2a3f5f\"}, \"type\": \"carpet\"}], \"choropleth\": [{\"colorbar\": {\"outlinewidth\": 0, \"ticks\": \"\"}, \"type\": \"choropleth\"}], \"contour\": [{\"colorbar\": {\"outlinewidth\": 0, \"ticks\": \"\"}, \"colorscale\": [[0.0, \"#0d0887\"], [0.1111111111111111, \"#46039f\"], [0.2222222222222222, \"#7201a8\"], [0.3333333333333333, \"#9c179e\"], [0.4444444444444444, \"#bd3786\"], [0.5555555555555556, \"#d8576b\"], [0.6666666666666666, \"#ed7953\"], [0.7777777777777778, \"#fb9f3a\"], [0.8888888888888888, \"#fdca26\"], [1.0, \"#f0f921\"]], \"type\": \"contour\"}], \"contourcarpet\": [{\"colorbar\": {\"outlinewidth\": 0, \"ticks\": \"\"}, \"type\": \"contourcarpet\"}], \"heatmap\": [{\"colorbar\": {\"outlinewidth\": 0, \"ticks\": \"\"}, \"colorscale\": [[0.0, \"#0d0887\"], [0.1111111111111111, \"#46039f\"], [0.2222222222222222, \"#7201a8\"], [0.3333333333333333, \"#9c179e\"], [0.4444444444444444, \"#bd3786\"], [0.5555555555555556, \"#d8576b\"], [0.6666666666666666, \"#ed7953\"], [0.7777777777777778, \"#fb9f3a\"], [0.8888888888888888, \"#fdca26\"], [1.0, \"#f0f921\"]], \"type\": \"heatmap\"}], \"heatmapgl\": [{\"colorbar\": {\"outlinewidth\": 0, \"ticks\": \"\"}, \"colorscale\": [[0.0, \"#0d0887\"], [0.1111111111111111, \"#46039f\"], [0.2222222222222222, \"#7201a8\"], [0.3333333333333333, \"#9c179e\"], [0.4444444444444444, \"#bd3786\"], [0.5555555555555556, \"#d8576b\"], [0.6666666666666666, \"#ed7953\"], [0.7777777777777778, \"#fb9f3a\"], [0.8888888888888888, \"#fdca26\"], [1.0, \"#f0f921\"]], \"type\": \"heatmapgl\"}], \"histogram\": [{\"marker\": {\"colorbar\": {\"outlinewidth\": 0, \"ticks\": \"\"}}, \"type\": \"histogram\"}], \"histogram2d\": [{\"colorbar\": {\"outlinewidth\": 0, \"ticks\": \"\"}, \"colorscale\": [[0.0, \"#0d0887\"], [0.1111111111111111, \"#46039f\"], [0.2222222222222222, \"#7201a8\"], [0.3333333333333333, \"#9c179e\"], [0.4444444444444444, \"#bd3786\"], [0.5555555555555556, \"#d8576b\"], [0.6666666666666666, \"#ed7953\"], [0.7777777777777778, \"#fb9f3a\"], [0.8888888888888888, \"#fdca26\"], [1.0, \"#f0f921\"]], \"type\": \"histogram2d\"}], \"histogram2dcontour\": [{\"colorbar\": {\"outlinewidth\": 0, \"ticks\": \"\"}, \"colorscale\": [[0.0, \"#0d0887\"], [0.1111111111111111, \"#46039f\"], [0.2222222222222222, \"#7201a8\"], [0.3333333333333333, \"#9c179e\"], [0.4444444444444444, \"#bd3786\"], [0.5555555555555556, \"#d8576b\"], [0.6666666666666666, \"#ed7953\"], [0.7777777777777778, \"#fb9f3a\"], [0.8888888888888888, \"#fdca26\"], [1.0, \"#f0f921\"]], \"type\": \"histogram2dcontour\"}], \"mesh3d\": [{\"colorbar\": {\"outlinewidth\": 0, \"ticks\": \"\"}, \"type\": \"mesh3d\"}], \"parcoords\": [{\"line\": {\"colorbar\": {\"outlinewidth\": 0, \"ticks\": \"\"}}, \"type\": \"parcoords\"}], \"pie\": [{\"automargin\": true, \"type\": \"pie\"}], \"scatter\": [{\"marker\": {\"colorbar\": {\"outlinewidth\": 0, \"ticks\": \"\"}}, \"type\": \"scatter\"}], \"scatter3d\": [{\"line\": {\"colorbar\": {\"outlinewidth\": 0, \"ticks\": \"\"}}, \"marker\": {\"colorbar\": {\"outlinewidth\": 0, \"ticks\": \"\"}}, \"type\": \"scatter3d\"}], \"scattercarpet\": [{\"marker\": {\"colorbar\": {\"outlinewidth\": 0, \"ticks\": \"\"}}, \"type\": \"scattercarpet\"}], \"scattergeo\": [{\"marker\": {\"colorbar\": {\"outlinewidth\": 0, \"ticks\": \"\"}}, \"type\": \"scattergeo\"}], \"scattergl\": [{\"marker\": {\"colorbar\": {\"outlinewidth\": 0, \"ticks\": \"\"}}, \"type\": \"scattergl\"}], \"scattermapbox\": [{\"marker\": {\"colorbar\": {\"outlinewidth\": 0, \"ticks\": \"\"}}, \"type\": \"scattermapbox\"}], \"scatterpolar\": [{\"marker\": {\"colorbar\": {\"outlinewidth\": 0, \"ticks\": \"\"}}, \"type\": \"scatterpolar\"}], \"scatterpolargl\": [{\"marker\": {\"colorbar\": {\"outlinewidth\": 0, \"ticks\": \"\"}}, \"type\": \"scatterpolargl\"}], \"scatterternary\": [{\"marker\": {\"colorbar\": {\"outlinewidth\": 0, \"ticks\": \"\"}}, \"type\": \"scatterternary\"}], \"surface\": [{\"colorbar\": {\"outlinewidth\": 0, \"ticks\": \"\"}, \"colorscale\": [[0.0, \"#0d0887\"], [0.1111111111111111, \"#46039f\"], [0.2222222222222222, \"#7201a8\"], [0.3333333333333333, \"#9c179e\"], [0.4444444444444444, \"#bd3786\"], [0.5555555555555556, \"#d8576b\"], [0.6666666666666666, \"#ed7953\"], [0.7777777777777778, \"#fb9f3a\"], [0.8888888888888888, \"#fdca26\"], [1.0, \"#f0f921\"]], \"type\": \"surface\"}], \"table\": [{\"cells\": {\"fill\": {\"color\": \"#EBF0F8\"}, \"line\": {\"color\": \"white\"}}, \"header\": {\"fill\": {\"color\": \"#C8D4E3\"}, \"line\": {\"color\": \"white\"}}, \"type\": \"table\"}]}, \"layout\": {\"annotationdefaults\": {\"arrowcolor\": \"#2a3f5f\", \"arrowhead\": 0, \"arrowwidth\": 1}, \"coloraxis\": {\"colorbar\": {\"outlinewidth\": 0, \"ticks\": \"\"}}, \"colorscale\": {\"diverging\": [[0, \"#8e0152\"], [0.1, \"#c51b7d\"], [0.2, \"#de77ae\"], [0.3, \"#f1b6da\"], [0.4, \"#fde0ef\"], [0.5, \"#f7f7f7\"], [0.6, \"#e6f5d0\"], [0.7, \"#b8e186\"], [0.8, \"#7fbc41\"], [0.9, \"#4d9221\"], [1, \"#276419\"]], \"sequential\": [[0.0, \"#0d0887\"], [0.1111111111111111, \"#46039f\"], [0.2222222222222222, \"#7201a8\"], [0.3333333333333333, \"#9c179e\"], [0.4444444444444444, \"#bd3786\"], [0.5555555555555556, \"#d8576b\"], [0.6666666666666666, \"#ed7953\"], [0.7777777777777778, \"#fb9f3a\"], [0.8888888888888888, \"#fdca26\"], [1.0, \"#f0f921\"]], \"sequentialminus\": [[0.0, \"#0d0887\"], [0.1111111111111111, \"#46039f\"], [0.2222222222222222, \"#7201a8\"], [0.3333333333333333, \"#9c179e\"], [0.4444444444444444, \"#bd3786\"], [0.5555555555555556, \"#d8576b\"], [0.6666666666666666, \"#ed7953\"], [0.7777777777777778, \"#fb9f3a\"], [0.8888888888888888, \"#fdca26\"], [1.0, \"#f0f921\"]]}, \"colorway\": [\"#636efa\", \"#EF553B\", \"#00cc96\", \"#ab63fa\", \"#FFA15A\", \"#19d3f3\", \"#FF6692\", \"#B6E880\", \"#FF97FF\", \"#FECB52\"], \"font\": {\"color\": \"#2a3f5f\"}, \"geo\": {\"bgcolor\": \"white\", \"lakecolor\": \"white\", \"landcolor\": \"#E5ECF6\", \"showlakes\": true, \"showland\": true, \"subunitcolor\": \"white\"}, \"hoverlabel\": {\"align\": \"left\"}, \"hovermode\": \"closest\", \"mapbox\": {\"style\": \"light\"}, \"paper_bgcolor\": \"white\", \"plot_bgcolor\": \"#E5ECF6\", \"polar\": {\"angularaxis\": {\"gridcolor\": \"white\", \"linecolor\": \"white\", \"ticks\": \"\"}, \"bgcolor\": \"#E5ECF6\", \"radialaxis\": {\"gridcolor\": \"white\", \"linecolor\": \"white\", \"ticks\": \"\"}}, \"scene\": {\"xaxis\": {\"backgroundcolor\": \"#E5ECF6\", \"gridcolor\": \"white\", \"gridwidth\": 2, \"linecolor\": \"white\", \"showbackground\": true, \"ticks\": \"\", \"zerolinecolor\": \"white\"}, \"yaxis\": {\"backgroundcolor\": \"#E5ECF6\", \"gridcolor\": \"white\", \"gridwidth\": 2, \"linecolor\": \"white\", \"showbackground\": true, \"ticks\": \"\", \"zerolinecolor\": \"white\"}, \"zaxis\": {\"backgroundcolor\": \"#E5ECF6\", \"gridcolor\": \"white\", \"gridwidth\": 2, \"linecolor\": \"white\", \"showbackground\": true, \"ticks\": \"\", \"zerolinecolor\": \"white\"}}, \"shapedefaults\": {\"line\": {\"color\": \"#2a3f5f\"}}, \"ternary\": {\"aaxis\": {\"gridcolor\": \"white\", \"linecolor\": \"white\", \"ticks\": \"\"}, \"baxis\": {\"gridcolor\": \"white\", \"linecolor\": \"white\", \"ticks\": \"\"}, \"bgcolor\": \"#E5ECF6\", \"caxis\": {\"gridcolor\": \"white\", \"linecolor\": \"white\", \"ticks\": \"\"}}, \"title\": {\"x\": 0.05}, \"xaxis\": {\"automargin\": true, \"gridcolor\": \"white\", \"linecolor\": \"white\", \"ticks\": \"\", \"title\": {\"standoff\": 15}, \"zerolinecolor\": \"white\", \"zerolinewidth\": 2}, \"yaxis\": {\"automargin\": true, \"gridcolor\": \"white\", \"linecolor\": \"white\", \"ticks\": \"\", \"title\": {\"standoff\": 15}, \"zerolinecolor\": \"white\", \"zerolinewidth\": 2}}}, \"width\": 1500},\n",
       "                        {\"responsive\": true}\n",
       "                    ).then(function(){\n",
       "                            \n",
       "var gd = document.getElementById('2b29c38c-29d3-4aa4-8854-44eb3d321585');\n",
       "var x = new MutationObserver(function (mutations, observer) {{\n",
       "        var display = window.getComputedStyle(gd).display;\n",
       "        if (!display || display === 'none') {{\n",
       "            console.log([gd, 'removed!']);\n",
       "            Plotly.purge(gd);\n",
       "            observer.disconnect();\n",
       "        }}\n",
       "}});\n",
       "\n",
       "// Listen for the removal of the full notebook cells\n",
       "var notebookContainer = gd.closest('#notebook-container');\n",
       "if (notebookContainer) {{\n",
       "    x.observe(notebookContainer, {childList: true});\n",
       "}}\n",
       "\n",
       "// Listen for the clearing of the current output cell\n",
       "var outputEl = gd.closest('.output');\n",
       "if (outputEl) {{\n",
       "    x.observe(outputEl, {childList: true});\n",
       "}}\n",
       "\n",
       "                        })\n",
       "                };\n",
       "                });\n",
       "            </script>\n",
       "        </div>"
      ]
     },
     "metadata": {},
     "output_type": "display_data"
    }
   ],
   "source": [
    "fig = make_subplots(rows=2, cols=2,\n",
    "                   specs=[[{\"type\": \"polar\"}, {\"type\": \"polar\"}],\n",
    "                         [{\"type\": \"polar\"}, {\"type\": \"polar\"}]])\n",
    "fig.add_trace(go.Scatterpolar(\n",
    "    name=\"Audio Control Panel\",\n",
    "    r=df['Audio Control Panel'],\n",
    "    theta=df['Quality'],\n",
    "    fill='toself'\n",
    "    ), 1, 1)\n",
    "fig.add_trace(go.Scatterpolar(\n",
    "    name=\"Navigational Radio\",\n",
    "    r=df['Navigational Radio'],\n",
    "    theta=df['Quality'],\n",
    "    fill='toself'\n",
    "    ), 1, 2)\n",
    "fig.add_trace(go.Scatterpolar(\n",
    "    name=\"TCAS Transponder\",\n",
    "    r=df['TCAS Transponder'],\n",
    "    theta=df['Quality'],\n",
    "    fill='toself'\n",
    "    ), 2, 1)\n",
    "fig.add_trace(go.Scatterpolar(\n",
    "    name=\"Flight Controls Panel\",\n",
    "    r=df['Flight Controls Panel'],\n",
    "    theta=df['Quality'],\n",
    "    fill='toself'\n",
    "    ), 2, 2)\n",
    "fig.update_layout(height=1000, width=1500)\n",
    "fig.show()"
   ]
  },
  {
   "cell_type": "code",
   "execution_count": 173,
   "metadata": {},
   "outputs": [
    {
     "data": {
      "application/vnd.plotly.v1+json": {
       "config": {
        "plotlyServerURL": "https://plot.ly"
       },
       "data": [
        {
         "fill": "toself",
         "name": "EFIS Control Panel",
         "r": [
          5,
          1,
          3,
          4,
          5,
          4,
          3,
          4,
          5,
          3,
          2,
          4,
          4,
          4,
          3,
          4,
          4,
          4,
          4,
          3,
          4,
          4,
          4,
          1,
          4,
          2
         ],
         "subplot": "polar",
         "theta": [
          "Accuracy",
          "Configurability",
          "Understandability",
          "Feedback",
          "Distinguishability",
          "Limitations of user",
          "Situationally aware",
          "Reliable",
          "Redundany",
          "Error Management",
          "Trainability and Learnability",
          "User's attention",
          "Usage patterns",
          "User aware of limitations",
          "Validatable",
          "Efficiency",
          "Effectiveness",
          "Practicality",
          "Context Coverage",
          "Risk Mitigations",
          "Communication Required",
          "Satisfaction of Use",
          "Attentive Attributes",
          "Ouput of Information",
          "Input of Information",
          "Procedural Use"
         ],
         "type": "scatterpolar"
        },
        {
         "fill": "toself",
         "name": "Fuel Panel",
         "r": [
          4,
          1,
          5,
          4,
          5,
          4,
          4,
          4,
          4,
          5,
          3,
          4,
          4,
          3,
          4,
          4,
          4,
          5,
          4,
          4,
          4,
          4,
          3,
          4,
          4,
          5
         ],
         "subplot": "polar2",
         "theta": [
          "Accuracy",
          "Configurability",
          "Understandability",
          "Feedback",
          "Distinguishability",
          "Limitations of user",
          "Situationally aware",
          "Reliable",
          "Redundany",
          "Error Management",
          "Trainability and Learnability",
          "User's attention",
          "Usage patterns",
          "User aware of limitations",
          "Validatable",
          "Efficiency",
          "Effectiveness",
          "Practicality",
          "Context Coverage",
          "Risk Mitigations",
          "Communication Required",
          "Satisfaction of Use",
          "Attentive Attributes",
          "Ouput of Information",
          "Input of Information",
          "Procedural Use"
         ],
         "type": "scatterpolar"
        },
        {
         "fill": "toself",
         "name": "Engine Display",
         "r": [
          4,
          1,
          4,
          4,
          5,
          4,
          4,
          4,
          3,
          4,
          4,
          4,
          5,
          4,
          5,
          5,
          5,
          5,
          5,
          4,
          5,
          4,
          5,
          5,
          1,
          5
         ],
         "subplot": "polar3",
         "theta": [
          "Accuracy",
          "Configurability",
          "Understandability",
          "Feedback",
          "Distinguishability",
          "Limitations of user",
          "Situationally aware",
          "Reliable",
          "Redundany",
          "Error Management",
          "Trainability and Learnability",
          "User's attention",
          "Usage patterns",
          "User aware of limitations",
          "Validatable",
          "Efficiency",
          "Effectiveness",
          "Practicality",
          "Context Coverage",
          "Risk Mitigations",
          "Communication Required",
          "Satisfaction of Use",
          "Attentive Attributes",
          "Ouput of Information",
          "Input of Information",
          "Procedural Use"
         ],
         "type": "scatterpolar"
        }
       ],
       "layout": {
        "height": 1000,
        "polar": {
         "domain": {
          "x": [
           0,
           0.45
          ],
          "y": [
           0.575,
           1
          ]
         }
        },
        "polar2": {
         "domain": {
          "x": [
           0.55,
           1
          ],
          "y": [
           0.575,
           1
          ]
         }
        },
        "polar3": {
         "domain": {
          "x": [
           0,
           0.45
          ],
          "y": [
           0,
           0.425
          ]
         }
        },
        "polar4": {
         "domain": {
          "x": [
           0.55,
           1
          ],
          "y": [
           0,
           0.425
          ]
         }
        },
        "template": {
         "data": {
          "bar": [
           {
            "error_x": {
             "color": "#2a3f5f"
            },
            "error_y": {
             "color": "#2a3f5f"
            },
            "marker": {
             "line": {
              "color": "#E5ECF6",
              "width": 0.5
             }
            },
            "type": "bar"
           }
          ],
          "barpolar": [
           {
            "marker": {
             "line": {
              "color": "#E5ECF6",
              "width": 0.5
             }
            },
            "type": "barpolar"
           }
          ],
          "carpet": [
           {
            "aaxis": {
             "endlinecolor": "#2a3f5f",
             "gridcolor": "white",
             "linecolor": "white",
             "minorgridcolor": "white",
             "startlinecolor": "#2a3f5f"
            },
            "baxis": {
             "endlinecolor": "#2a3f5f",
             "gridcolor": "white",
             "linecolor": "white",
             "minorgridcolor": "white",
             "startlinecolor": "#2a3f5f"
            },
            "type": "carpet"
           }
          ],
          "choropleth": [
           {
            "colorbar": {
             "outlinewidth": 0,
             "ticks": ""
            },
            "type": "choropleth"
           }
          ],
          "contour": [
           {
            "colorbar": {
             "outlinewidth": 0,
             "ticks": ""
            },
            "colorscale": [
             [
              0,
              "#0d0887"
             ],
             [
              0.1111111111111111,
              "#46039f"
             ],
             [
              0.2222222222222222,
              "#7201a8"
             ],
             [
              0.3333333333333333,
              "#9c179e"
             ],
             [
              0.4444444444444444,
              "#bd3786"
             ],
             [
              0.5555555555555556,
              "#d8576b"
             ],
             [
              0.6666666666666666,
              "#ed7953"
             ],
             [
              0.7777777777777778,
              "#fb9f3a"
             ],
             [
              0.8888888888888888,
              "#fdca26"
             ],
             [
              1,
              "#f0f921"
             ]
            ],
            "type": "contour"
           }
          ],
          "contourcarpet": [
           {
            "colorbar": {
             "outlinewidth": 0,
             "ticks": ""
            },
            "type": "contourcarpet"
           }
          ],
          "heatmap": [
           {
            "colorbar": {
             "outlinewidth": 0,
             "ticks": ""
            },
            "colorscale": [
             [
              0,
              "#0d0887"
             ],
             [
              0.1111111111111111,
              "#46039f"
             ],
             [
              0.2222222222222222,
              "#7201a8"
             ],
             [
              0.3333333333333333,
              "#9c179e"
             ],
             [
              0.4444444444444444,
              "#bd3786"
             ],
             [
              0.5555555555555556,
              "#d8576b"
             ],
             [
              0.6666666666666666,
              "#ed7953"
             ],
             [
              0.7777777777777778,
              "#fb9f3a"
             ],
             [
              0.8888888888888888,
              "#fdca26"
             ],
             [
              1,
              "#f0f921"
             ]
            ],
            "type": "heatmap"
           }
          ],
          "heatmapgl": [
           {
            "colorbar": {
             "outlinewidth": 0,
             "ticks": ""
            },
            "colorscale": [
             [
              0,
              "#0d0887"
             ],
             [
              0.1111111111111111,
              "#46039f"
             ],
             [
              0.2222222222222222,
              "#7201a8"
             ],
             [
              0.3333333333333333,
              "#9c179e"
             ],
             [
              0.4444444444444444,
              "#bd3786"
             ],
             [
              0.5555555555555556,
              "#d8576b"
             ],
             [
              0.6666666666666666,
              "#ed7953"
             ],
             [
              0.7777777777777778,
              "#fb9f3a"
             ],
             [
              0.8888888888888888,
              "#fdca26"
             ],
             [
              1,
              "#f0f921"
             ]
            ],
            "type": "heatmapgl"
           }
          ],
          "histogram": [
           {
            "marker": {
             "colorbar": {
              "outlinewidth": 0,
              "ticks": ""
             }
            },
            "type": "histogram"
           }
          ],
          "histogram2d": [
           {
            "colorbar": {
             "outlinewidth": 0,
             "ticks": ""
            },
            "colorscale": [
             [
              0,
              "#0d0887"
             ],
             [
              0.1111111111111111,
              "#46039f"
             ],
             [
              0.2222222222222222,
              "#7201a8"
             ],
             [
              0.3333333333333333,
              "#9c179e"
             ],
             [
              0.4444444444444444,
              "#bd3786"
             ],
             [
              0.5555555555555556,
              "#d8576b"
             ],
             [
              0.6666666666666666,
              "#ed7953"
             ],
             [
              0.7777777777777778,
              "#fb9f3a"
             ],
             [
              0.8888888888888888,
              "#fdca26"
             ],
             [
              1,
              "#f0f921"
             ]
            ],
            "type": "histogram2d"
           }
          ],
          "histogram2dcontour": [
           {
            "colorbar": {
             "outlinewidth": 0,
             "ticks": ""
            },
            "colorscale": [
             [
              0,
              "#0d0887"
             ],
             [
              0.1111111111111111,
              "#46039f"
             ],
             [
              0.2222222222222222,
              "#7201a8"
             ],
             [
              0.3333333333333333,
              "#9c179e"
             ],
             [
              0.4444444444444444,
              "#bd3786"
             ],
             [
              0.5555555555555556,
              "#d8576b"
             ],
             [
              0.6666666666666666,
              "#ed7953"
             ],
             [
              0.7777777777777778,
              "#fb9f3a"
             ],
             [
              0.8888888888888888,
              "#fdca26"
             ],
             [
              1,
              "#f0f921"
             ]
            ],
            "type": "histogram2dcontour"
           }
          ],
          "mesh3d": [
           {
            "colorbar": {
             "outlinewidth": 0,
             "ticks": ""
            },
            "type": "mesh3d"
           }
          ],
          "parcoords": [
           {
            "line": {
             "colorbar": {
              "outlinewidth": 0,
              "ticks": ""
             }
            },
            "type": "parcoords"
           }
          ],
          "pie": [
           {
            "automargin": true,
            "type": "pie"
           }
          ],
          "scatter": [
           {
            "marker": {
             "colorbar": {
              "outlinewidth": 0,
              "ticks": ""
             }
            },
            "type": "scatter"
           }
          ],
          "scatter3d": [
           {
            "line": {
             "colorbar": {
              "outlinewidth": 0,
              "ticks": ""
             }
            },
            "marker": {
             "colorbar": {
              "outlinewidth": 0,
              "ticks": ""
             }
            },
            "type": "scatter3d"
           }
          ],
          "scattercarpet": [
           {
            "marker": {
             "colorbar": {
              "outlinewidth": 0,
              "ticks": ""
             }
            },
            "type": "scattercarpet"
           }
          ],
          "scattergeo": [
           {
            "marker": {
             "colorbar": {
              "outlinewidth": 0,
              "ticks": ""
             }
            },
            "type": "scattergeo"
           }
          ],
          "scattergl": [
           {
            "marker": {
             "colorbar": {
              "outlinewidth": 0,
              "ticks": ""
             }
            },
            "type": "scattergl"
           }
          ],
          "scattermapbox": [
           {
            "marker": {
             "colorbar": {
              "outlinewidth": 0,
              "ticks": ""
             }
            },
            "type": "scattermapbox"
           }
          ],
          "scatterpolar": [
           {
            "marker": {
             "colorbar": {
              "outlinewidth": 0,
              "ticks": ""
             }
            },
            "type": "scatterpolar"
           }
          ],
          "scatterpolargl": [
           {
            "marker": {
             "colorbar": {
              "outlinewidth": 0,
              "ticks": ""
             }
            },
            "type": "scatterpolargl"
           }
          ],
          "scatterternary": [
           {
            "marker": {
             "colorbar": {
              "outlinewidth": 0,
              "ticks": ""
             }
            },
            "type": "scatterternary"
           }
          ],
          "surface": [
           {
            "colorbar": {
             "outlinewidth": 0,
             "ticks": ""
            },
            "colorscale": [
             [
              0,
              "#0d0887"
             ],
             [
              0.1111111111111111,
              "#46039f"
             ],
             [
              0.2222222222222222,
              "#7201a8"
             ],
             [
              0.3333333333333333,
              "#9c179e"
             ],
             [
              0.4444444444444444,
              "#bd3786"
             ],
             [
              0.5555555555555556,
              "#d8576b"
             ],
             [
              0.6666666666666666,
              "#ed7953"
             ],
             [
              0.7777777777777778,
              "#fb9f3a"
             ],
             [
              0.8888888888888888,
              "#fdca26"
             ],
             [
              1,
              "#f0f921"
             ]
            ],
            "type": "surface"
           }
          ],
          "table": [
           {
            "cells": {
             "fill": {
              "color": "#EBF0F8"
             },
             "line": {
              "color": "white"
             }
            },
            "header": {
             "fill": {
              "color": "#C8D4E3"
             },
             "line": {
              "color": "white"
             }
            },
            "type": "table"
           }
          ]
         },
         "layout": {
          "annotationdefaults": {
           "arrowcolor": "#2a3f5f",
           "arrowhead": 0,
           "arrowwidth": 1
          },
          "coloraxis": {
           "colorbar": {
            "outlinewidth": 0,
            "ticks": ""
           }
          },
          "colorscale": {
           "diverging": [
            [
             0,
             "#8e0152"
            ],
            [
             0.1,
             "#c51b7d"
            ],
            [
             0.2,
             "#de77ae"
            ],
            [
             0.3,
             "#f1b6da"
            ],
            [
             0.4,
             "#fde0ef"
            ],
            [
             0.5,
             "#f7f7f7"
            ],
            [
             0.6,
             "#e6f5d0"
            ],
            [
             0.7,
             "#b8e186"
            ],
            [
             0.8,
             "#7fbc41"
            ],
            [
             0.9,
             "#4d9221"
            ],
            [
             1,
             "#276419"
            ]
           ],
           "sequential": [
            [
             0,
             "#0d0887"
            ],
            [
             0.1111111111111111,
             "#46039f"
            ],
            [
             0.2222222222222222,
             "#7201a8"
            ],
            [
             0.3333333333333333,
             "#9c179e"
            ],
            [
             0.4444444444444444,
             "#bd3786"
            ],
            [
             0.5555555555555556,
             "#d8576b"
            ],
            [
             0.6666666666666666,
             "#ed7953"
            ],
            [
             0.7777777777777778,
             "#fb9f3a"
            ],
            [
             0.8888888888888888,
             "#fdca26"
            ],
            [
             1,
             "#f0f921"
            ]
           ],
           "sequentialminus": [
            [
             0,
             "#0d0887"
            ],
            [
             0.1111111111111111,
             "#46039f"
            ],
            [
             0.2222222222222222,
             "#7201a8"
            ],
            [
             0.3333333333333333,
             "#9c179e"
            ],
            [
             0.4444444444444444,
             "#bd3786"
            ],
            [
             0.5555555555555556,
             "#d8576b"
            ],
            [
             0.6666666666666666,
             "#ed7953"
            ],
            [
             0.7777777777777778,
             "#fb9f3a"
            ],
            [
             0.8888888888888888,
             "#fdca26"
            ],
            [
             1,
             "#f0f921"
            ]
           ]
          },
          "colorway": [
           "#636efa",
           "#EF553B",
           "#00cc96",
           "#ab63fa",
           "#FFA15A",
           "#19d3f3",
           "#FF6692",
           "#B6E880",
           "#FF97FF",
           "#FECB52"
          ],
          "font": {
           "color": "#2a3f5f"
          },
          "geo": {
           "bgcolor": "white",
           "lakecolor": "white",
           "landcolor": "#E5ECF6",
           "showlakes": true,
           "showland": true,
           "subunitcolor": "white"
          },
          "hoverlabel": {
           "align": "left"
          },
          "hovermode": "closest",
          "mapbox": {
           "style": "light"
          },
          "paper_bgcolor": "white",
          "plot_bgcolor": "#E5ECF6",
          "polar": {
           "angularaxis": {
            "gridcolor": "white",
            "linecolor": "white",
            "ticks": ""
           },
           "bgcolor": "#E5ECF6",
           "radialaxis": {
            "gridcolor": "white",
            "linecolor": "white",
            "ticks": ""
           }
          },
          "scene": {
           "xaxis": {
            "backgroundcolor": "#E5ECF6",
            "gridcolor": "white",
            "gridwidth": 2,
            "linecolor": "white",
            "showbackground": true,
            "ticks": "",
            "zerolinecolor": "white"
           },
           "yaxis": {
            "backgroundcolor": "#E5ECF6",
            "gridcolor": "white",
            "gridwidth": 2,
            "linecolor": "white",
            "showbackground": true,
            "ticks": "",
            "zerolinecolor": "white"
           },
           "zaxis": {
            "backgroundcolor": "#E5ECF6",
            "gridcolor": "white",
            "gridwidth": 2,
            "linecolor": "white",
            "showbackground": true,
            "ticks": "",
            "zerolinecolor": "white"
           }
          },
          "shapedefaults": {
           "line": {
            "color": "#2a3f5f"
           }
          },
          "ternary": {
           "aaxis": {
            "gridcolor": "white",
            "linecolor": "white",
            "ticks": ""
           },
           "baxis": {
            "gridcolor": "white",
            "linecolor": "white",
            "ticks": ""
           },
           "bgcolor": "#E5ECF6",
           "caxis": {
            "gridcolor": "white",
            "linecolor": "white",
            "ticks": ""
           }
          },
          "title": {
           "x": 0.05
          },
          "xaxis": {
           "automargin": true,
           "gridcolor": "white",
           "linecolor": "white",
           "ticks": "",
           "title": {
            "standoff": 15
           },
           "zerolinecolor": "white",
           "zerolinewidth": 2
          },
          "yaxis": {
           "automargin": true,
           "gridcolor": "white",
           "linecolor": "white",
           "ticks": "",
           "title": {
            "standoff": 15
           },
           "zerolinecolor": "white",
           "zerolinewidth": 2
          }
         }
        },
        "width": 1500
       }
      },
      "text/html": [
       "<div>\n",
       "        \n",
       "        \n",
       "            <div id=\"d6defdc9-7752-4d08-9636-1047236a6e4e\" class=\"plotly-graph-div\" style=\"height:1000px; width:1500px;\"></div>\n",
       "            <script type=\"text/javascript\">\n",
       "                require([\"plotly\"], function(Plotly) {\n",
       "                    window.PLOTLYENV=window.PLOTLYENV || {};\n",
       "                    \n",
       "                if (document.getElementById(\"d6defdc9-7752-4d08-9636-1047236a6e4e\")) {\n",
       "                    Plotly.newPlot(\n",
       "                        'd6defdc9-7752-4d08-9636-1047236a6e4e',\n",
       "                        [{\"fill\": \"toself\", \"name\": \"EFIS Control Panel\", \"r\": [5, 1, 3, 4, 5, 4, 3, 4, 5, 3, 2, 4, 4, 4, 3, 4, 4, 4, 4, 3, 4, 4, 4, 1, 4, 2], \"subplot\": \"polar\", \"theta\": [\"Accuracy\", \"Configurability\", \"Understandability\", \"Feedback\", \"Distinguishability\", \"Limitations of user\", \"Situationally aware\", \"Reliable\", \"Redundany\", \"Error Management\", \"Trainability and Learnability\", \"User's attention\", \"Usage patterns\", \"User aware of limitations\", \"Validatable\", \"Efficiency\", \"Effectiveness\", \"Practicality\", \"Context Coverage\", \"Risk Mitigations\", \"Communication Required\", \"Satisfaction of Use\", \"Attentive Attributes\", \"Ouput of Information\", \"Input of Information\", \"Procedural Use\"], \"type\": \"scatterpolar\"}, {\"fill\": \"toself\", \"name\": \"Fuel Panel\", \"r\": [4, 1, 5, 4, 5, 4, 4, 4, 4, 5, 3, 4, 4, 3, 4, 4, 4, 5, 4, 4, 4, 4, 3, 4, 4, 5], \"subplot\": \"polar2\", \"theta\": [\"Accuracy\", \"Configurability\", \"Understandability\", \"Feedback\", \"Distinguishability\", \"Limitations of user\", \"Situationally aware\", \"Reliable\", \"Redundany\", \"Error Management\", \"Trainability and Learnability\", \"User's attention\", \"Usage patterns\", \"User aware of limitations\", \"Validatable\", \"Efficiency\", \"Effectiveness\", \"Practicality\", \"Context Coverage\", \"Risk Mitigations\", \"Communication Required\", \"Satisfaction of Use\", \"Attentive Attributes\", \"Ouput of Information\", \"Input of Information\", \"Procedural Use\"], \"type\": \"scatterpolar\"}, {\"fill\": \"toself\", \"name\": \"Engine Display\", \"r\": [4, 1, 4, 4, 5, 4, 4, 4, 3, 4, 4, 4, 5, 4, 5, 5, 5, 5, 5, 4, 5, 4, 5, 5, 1, 5], \"subplot\": \"polar3\", \"theta\": [\"Accuracy\", \"Configurability\", \"Understandability\", \"Feedback\", \"Distinguishability\", \"Limitations of user\", \"Situationally aware\", \"Reliable\", \"Redundany\", \"Error Management\", \"Trainability and Learnability\", \"User's attention\", \"Usage patterns\", \"User aware of limitations\", \"Validatable\", \"Efficiency\", \"Effectiveness\", \"Practicality\", \"Context Coverage\", \"Risk Mitigations\", \"Communication Required\", \"Satisfaction of Use\", \"Attentive Attributes\", \"Ouput of Information\", \"Input of Information\", \"Procedural Use\"], \"type\": \"scatterpolar\"}],\n",
       "                        {\"height\": 1000, \"polar\": {\"domain\": {\"x\": [0.0, 0.45], \"y\": [0.575, 1.0]}}, \"polar2\": {\"domain\": {\"x\": [0.55, 1.0], \"y\": [0.575, 1.0]}}, \"polar3\": {\"domain\": {\"x\": [0.0, 0.45], \"y\": [0.0, 0.425]}}, \"polar4\": {\"domain\": {\"x\": [0.55, 1.0], \"y\": [0.0, 0.425]}}, \"template\": {\"data\": {\"bar\": [{\"error_x\": {\"color\": \"#2a3f5f\"}, \"error_y\": {\"color\": \"#2a3f5f\"}, \"marker\": {\"line\": {\"color\": \"#E5ECF6\", \"width\": 0.5}}, \"type\": \"bar\"}], \"barpolar\": [{\"marker\": {\"line\": {\"color\": \"#E5ECF6\", \"width\": 0.5}}, \"type\": \"barpolar\"}], \"carpet\": [{\"aaxis\": {\"endlinecolor\": \"#2a3f5f\", \"gridcolor\": \"white\", \"linecolor\": \"white\", \"minorgridcolor\": \"white\", \"startlinecolor\": \"#2a3f5f\"}, \"baxis\": {\"endlinecolor\": \"#2a3f5f\", \"gridcolor\": \"white\", \"linecolor\": \"white\", \"minorgridcolor\": \"white\", \"startlinecolor\": \"#2a3f5f\"}, \"type\": \"carpet\"}], \"choropleth\": [{\"colorbar\": {\"outlinewidth\": 0, \"ticks\": \"\"}, \"type\": \"choropleth\"}], \"contour\": [{\"colorbar\": {\"outlinewidth\": 0, \"ticks\": \"\"}, \"colorscale\": [[0.0, \"#0d0887\"], [0.1111111111111111, \"#46039f\"], [0.2222222222222222, \"#7201a8\"], [0.3333333333333333, \"#9c179e\"], [0.4444444444444444, \"#bd3786\"], [0.5555555555555556, \"#d8576b\"], [0.6666666666666666, \"#ed7953\"], [0.7777777777777778, \"#fb9f3a\"], [0.8888888888888888, \"#fdca26\"], [1.0, \"#f0f921\"]], \"type\": \"contour\"}], \"contourcarpet\": [{\"colorbar\": {\"outlinewidth\": 0, \"ticks\": \"\"}, \"type\": \"contourcarpet\"}], \"heatmap\": [{\"colorbar\": {\"outlinewidth\": 0, \"ticks\": \"\"}, \"colorscale\": [[0.0, \"#0d0887\"], [0.1111111111111111, \"#46039f\"], [0.2222222222222222, \"#7201a8\"], [0.3333333333333333, \"#9c179e\"], [0.4444444444444444, \"#bd3786\"], [0.5555555555555556, \"#d8576b\"], [0.6666666666666666, \"#ed7953\"], [0.7777777777777778, \"#fb9f3a\"], [0.8888888888888888, \"#fdca26\"], [1.0, \"#f0f921\"]], \"type\": \"heatmap\"}], \"heatmapgl\": [{\"colorbar\": {\"outlinewidth\": 0, \"ticks\": \"\"}, \"colorscale\": [[0.0, \"#0d0887\"], [0.1111111111111111, \"#46039f\"], [0.2222222222222222, \"#7201a8\"], [0.3333333333333333, \"#9c179e\"], [0.4444444444444444, \"#bd3786\"], [0.5555555555555556, \"#d8576b\"], [0.6666666666666666, \"#ed7953\"], [0.7777777777777778, \"#fb9f3a\"], [0.8888888888888888, \"#fdca26\"], [1.0, \"#f0f921\"]], \"type\": \"heatmapgl\"}], \"histogram\": [{\"marker\": {\"colorbar\": {\"outlinewidth\": 0, \"ticks\": \"\"}}, \"type\": \"histogram\"}], \"histogram2d\": [{\"colorbar\": {\"outlinewidth\": 0, \"ticks\": \"\"}, \"colorscale\": [[0.0, \"#0d0887\"], [0.1111111111111111, \"#46039f\"], [0.2222222222222222, \"#7201a8\"], [0.3333333333333333, \"#9c179e\"], [0.4444444444444444, \"#bd3786\"], [0.5555555555555556, \"#d8576b\"], [0.6666666666666666, \"#ed7953\"], [0.7777777777777778, \"#fb9f3a\"], [0.8888888888888888, \"#fdca26\"], [1.0, \"#f0f921\"]], \"type\": \"histogram2d\"}], \"histogram2dcontour\": [{\"colorbar\": {\"outlinewidth\": 0, \"ticks\": \"\"}, \"colorscale\": [[0.0, \"#0d0887\"], [0.1111111111111111, \"#46039f\"], [0.2222222222222222, \"#7201a8\"], [0.3333333333333333, \"#9c179e\"], [0.4444444444444444, \"#bd3786\"], [0.5555555555555556, \"#d8576b\"], [0.6666666666666666, \"#ed7953\"], [0.7777777777777778, \"#fb9f3a\"], [0.8888888888888888, \"#fdca26\"], [1.0, \"#f0f921\"]], \"type\": \"histogram2dcontour\"}], \"mesh3d\": [{\"colorbar\": {\"outlinewidth\": 0, \"ticks\": \"\"}, \"type\": \"mesh3d\"}], \"parcoords\": [{\"line\": {\"colorbar\": {\"outlinewidth\": 0, \"ticks\": \"\"}}, \"type\": \"parcoords\"}], \"pie\": [{\"automargin\": true, \"type\": \"pie\"}], \"scatter\": [{\"marker\": {\"colorbar\": {\"outlinewidth\": 0, \"ticks\": \"\"}}, \"type\": \"scatter\"}], \"scatter3d\": [{\"line\": {\"colorbar\": {\"outlinewidth\": 0, \"ticks\": \"\"}}, \"marker\": {\"colorbar\": {\"outlinewidth\": 0, \"ticks\": \"\"}}, \"type\": \"scatter3d\"}], \"scattercarpet\": [{\"marker\": {\"colorbar\": {\"outlinewidth\": 0, \"ticks\": \"\"}}, \"type\": \"scattercarpet\"}], \"scattergeo\": [{\"marker\": {\"colorbar\": {\"outlinewidth\": 0, \"ticks\": \"\"}}, \"type\": \"scattergeo\"}], \"scattergl\": [{\"marker\": {\"colorbar\": {\"outlinewidth\": 0, \"ticks\": \"\"}}, \"type\": \"scattergl\"}], \"scattermapbox\": [{\"marker\": {\"colorbar\": {\"outlinewidth\": 0, \"ticks\": \"\"}}, \"type\": \"scattermapbox\"}], \"scatterpolar\": [{\"marker\": {\"colorbar\": {\"outlinewidth\": 0, \"ticks\": \"\"}}, \"type\": \"scatterpolar\"}], \"scatterpolargl\": [{\"marker\": {\"colorbar\": {\"outlinewidth\": 0, \"ticks\": \"\"}}, \"type\": \"scatterpolargl\"}], \"scatterternary\": [{\"marker\": {\"colorbar\": {\"outlinewidth\": 0, \"ticks\": \"\"}}, \"type\": \"scatterternary\"}], \"surface\": [{\"colorbar\": {\"outlinewidth\": 0, \"ticks\": \"\"}, \"colorscale\": [[0.0, \"#0d0887\"], [0.1111111111111111, \"#46039f\"], [0.2222222222222222, \"#7201a8\"], [0.3333333333333333, \"#9c179e\"], [0.4444444444444444, \"#bd3786\"], [0.5555555555555556, \"#d8576b\"], [0.6666666666666666, \"#ed7953\"], [0.7777777777777778, \"#fb9f3a\"], [0.8888888888888888, \"#fdca26\"], [1.0, \"#f0f921\"]], \"type\": \"surface\"}], \"table\": [{\"cells\": {\"fill\": {\"color\": \"#EBF0F8\"}, \"line\": {\"color\": \"white\"}}, \"header\": {\"fill\": {\"color\": \"#C8D4E3\"}, \"line\": {\"color\": \"white\"}}, \"type\": \"table\"}]}, \"layout\": {\"annotationdefaults\": {\"arrowcolor\": \"#2a3f5f\", \"arrowhead\": 0, \"arrowwidth\": 1}, \"coloraxis\": {\"colorbar\": {\"outlinewidth\": 0, \"ticks\": \"\"}}, \"colorscale\": {\"diverging\": [[0, \"#8e0152\"], [0.1, \"#c51b7d\"], [0.2, \"#de77ae\"], [0.3, \"#f1b6da\"], [0.4, \"#fde0ef\"], [0.5, \"#f7f7f7\"], [0.6, \"#e6f5d0\"], [0.7, \"#b8e186\"], [0.8, \"#7fbc41\"], [0.9, \"#4d9221\"], [1, \"#276419\"]], \"sequential\": [[0.0, \"#0d0887\"], [0.1111111111111111, \"#46039f\"], [0.2222222222222222, \"#7201a8\"], [0.3333333333333333, \"#9c179e\"], [0.4444444444444444, \"#bd3786\"], [0.5555555555555556, \"#d8576b\"], [0.6666666666666666, \"#ed7953\"], [0.7777777777777778, \"#fb9f3a\"], [0.8888888888888888, \"#fdca26\"], [1.0, \"#f0f921\"]], \"sequentialminus\": [[0.0, \"#0d0887\"], [0.1111111111111111, \"#46039f\"], [0.2222222222222222, \"#7201a8\"], [0.3333333333333333, \"#9c179e\"], [0.4444444444444444, \"#bd3786\"], [0.5555555555555556, \"#d8576b\"], [0.6666666666666666, \"#ed7953\"], [0.7777777777777778, \"#fb9f3a\"], [0.8888888888888888, \"#fdca26\"], [1.0, \"#f0f921\"]]}, \"colorway\": [\"#636efa\", \"#EF553B\", \"#00cc96\", \"#ab63fa\", \"#FFA15A\", \"#19d3f3\", \"#FF6692\", \"#B6E880\", \"#FF97FF\", \"#FECB52\"], \"font\": {\"color\": \"#2a3f5f\"}, \"geo\": {\"bgcolor\": \"white\", \"lakecolor\": \"white\", \"landcolor\": \"#E5ECF6\", \"showlakes\": true, \"showland\": true, \"subunitcolor\": \"white\"}, \"hoverlabel\": {\"align\": \"left\"}, \"hovermode\": \"closest\", \"mapbox\": {\"style\": \"light\"}, \"paper_bgcolor\": \"white\", \"plot_bgcolor\": \"#E5ECF6\", \"polar\": {\"angularaxis\": {\"gridcolor\": \"white\", \"linecolor\": \"white\", \"ticks\": \"\"}, \"bgcolor\": \"#E5ECF6\", \"radialaxis\": {\"gridcolor\": \"white\", \"linecolor\": \"white\", \"ticks\": \"\"}}, \"scene\": {\"xaxis\": {\"backgroundcolor\": \"#E5ECF6\", \"gridcolor\": \"white\", \"gridwidth\": 2, \"linecolor\": \"white\", \"showbackground\": true, \"ticks\": \"\", \"zerolinecolor\": \"white\"}, \"yaxis\": {\"backgroundcolor\": \"#E5ECF6\", \"gridcolor\": \"white\", \"gridwidth\": 2, \"linecolor\": \"white\", \"showbackground\": true, \"ticks\": \"\", \"zerolinecolor\": \"white\"}, \"zaxis\": {\"backgroundcolor\": \"#E5ECF6\", \"gridcolor\": \"white\", \"gridwidth\": 2, \"linecolor\": \"white\", \"showbackground\": true, \"ticks\": \"\", \"zerolinecolor\": \"white\"}}, \"shapedefaults\": {\"line\": {\"color\": \"#2a3f5f\"}}, \"ternary\": {\"aaxis\": {\"gridcolor\": \"white\", \"linecolor\": \"white\", \"ticks\": \"\"}, \"baxis\": {\"gridcolor\": \"white\", \"linecolor\": \"white\", \"ticks\": \"\"}, \"bgcolor\": \"#E5ECF6\", \"caxis\": {\"gridcolor\": \"white\", \"linecolor\": \"white\", \"ticks\": \"\"}}, \"title\": {\"x\": 0.05}, \"xaxis\": {\"automargin\": true, \"gridcolor\": \"white\", \"linecolor\": \"white\", \"ticks\": \"\", \"title\": {\"standoff\": 15}, \"zerolinecolor\": \"white\", \"zerolinewidth\": 2}, \"yaxis\": {\"automargin\": true, \"gridcolor\": \"white\", \"linecolor\": \"white\", \"ticks\": \"\", \"title\": {\"standoff\": 15}, \"zerolinecolor\": \"white\", \"zerolinewidth\": 2}}}, \"width\": 1500},\n",
       "                        {\"responsive\": true}\n",
       "                    ).then(function(){\n",
       "                            \n",
       "var gd = document.getElementById('d6defdc9-7752-4d08-9636-1047236a6e4e');\n",
       "var x = new MutationObserver(function (mutations, observer) {{\n",
       "        var display = window.getComputedStyle(gd).display;\n",
       "        if (!display || display === 'none') {{\n",
       "            console.log([gd, 'removed!']);\n",
       "            Plotly.purge(gd);\n",
       "            observer.disconnect();\n",
       "        }}\n",
       "}});\n",
       "\n",
       "// Listen for the removal of the full notebook cells\n",
       "var notebookContainer = gd.closest('#notebook-container');\n",
       "if (notebookContainer) {{\n",
       "    x.observe(notebookContainer, {childList: true});\n",
       "}}\n",
       "\n",
       "// Listen for the clearing of the current output cell\n",
       "var outputEl = gd.closest('.output');\n",
       "if (outputEl) {{\n",
       "    x.observe(outputEl, {childList: true});\n",
       "}}\n",
       "\n",
       "                        })\n",
       "                };\n",
       "                });\n",
       "            </script>\n",
       "        </div>"
      ]
     },
     "metadata": {},
     "output_type": "display_data"
    }
   ],
   "source": [
    "fig = make_subplots(rows=2, cols=2,\n",
    "                   specs=[[{\"type\": \"polar\"}, {\"type\": \"polar\"}],\n",
    "                         [{\"type\": \"polar\"}, {\"type\": \"polar\"}]])\n",
    "fig.add_trace(go.Scatterpolar(\n",
    "    name=\"EFIS Control Panel\",\n",
    "    r=df['EFIS Control Panel'],\n",
    "    theta=df['Quality'],\n",
    "    fill='toself'\n",
    "    ), 1, 1)\n",
    "fig.add_trace(go.Scatterpolar(\n",
    "    name=\"Fuel Panel\",\n",
    "    r=df['Fuel Panel'],\n",
    "    theta=df['Quality'],\n",
    "    fill='toself'\n",
    "    ), 1, 2)\n",
    "fig.add_trace(go.Scatterpolar(\n",
    "    name=\"Engine Display\",\n",
    "    r=df['Engine Display'],\n",
    "    theta=df['Quality'],\n",
    "    fill='toself'\n",
    "    ), 2, 1)\n",
    "fig.update_layout(height=1000, width=1500)\n",
    "fig.show()"
   ]
  },
  {
   "cell_type": "code",
   "execution_count": null,
   "metadata": {},
   "outputs": [],
   "source": [
    "## Control Display Unit\n",
    "fig = px.line_polar(df, r='Control Display Unit', theta='Quality', line_close=True)\n",
    "fig.update_traces(fill='toself')\n",
    "fig.update_layout(title=\"Control Display Unit\")\n",
    "fig.show()"
   ]
  },
  {
   "cell_type": "code",
   "execution_count": null,
   "metadata": {},
   "outputs": [],
   "source": [
    "## Primary Flight Display\n",
    "fig = px.line_polar(df, r='Primary Flight Display', theta='Quality', line_close=True)\n",
    "fig.update_traces(fill='toself')\n",
    "fig.update_layout(title=\"Primary Flight Display\")\n",
    "fig.show()"
   ]
  },
  {
   "cell_type": "code",
   "execution_count": null,
   "metadata": {},
   "outputs": [],
   "source": [
    "## Landing Light Panel\n",
    "fig = px.line_polar(df, r='Landing Light Panel', theta='Quality', line_close=True)\n",
    "fig.update_traces(fill='toself')\n",
    "fig.update_layout(title=\"Landing Light Panel\")\n",
    "fig.show()"
   ]
  },
  {
   "cell_type": "code",
   "execution_count": null,
   "metadata": {},
   "outputs": [],
   "source": [
    "## Air Conditioning Panel\n",
    "fig = px.line_polar(df, r='Air Conditioning Panel', theta='Quality', line_close=True)\n",
    "fig.update_traces(fill='toself')\n",
    "fig.update_layout(title=\"Air Conditioning Panel\")\n",
    "fig.show()"
   ]
  },
  {
   "cell_type": "code",
   "execution_count": null,
   "metadata": {},
   "outputs": [],
   "source": [
    "## Pneumatics Panel\n",
    "fig = px.line_polar(df, r='Pneumatics Panel', theta='Quality', line_close=True)\n",
    "fig.update_traces(fill='toself')\n",
    "fig.update_layout(title=\"Pneumatics Panel\")\n",
    "fig.show()"
   ]
  },
  {
   "cell_type": "code",
   "execution_count": null,
   "metadata": {},
   "outputs": [],
   "source": [
    "## Equipment Cooling\n",
    "fig = px.line_polar(df, r='Equipment Cooling', theta='Quality', line_close=True)\n",
    "fig.update_traces(fill='toself')\n",
    "fig.update_layout(title=\"Equipment Cooling\")\n",
    "fig.show()"
   ]
  },
  {
   "cell_type": "code",
   "execution_count": null,
   "metadata": {},
   "outputs": [],
   "source": [
    "## Cabin Altitude Panel\n",
    "fig = px.line_polar(df, r='Cabin Altitude Panel', theta='Quality', line_close=True)\n",
    "fig.update_traces(fill='toself')\n",
    "fig.update_layout(title=\"Cabin Altitude Panel\")\n",
    "fig.show()"
   ]
  },
  {
   "cell_type": "code",
   "execution_count": null,
   "metadata": {},
   "outputs": [],
   "source": [
    "## Audio Control Panel\n",
    "fig = px.line_polar(df, r='Audio Control Panel', theta='Quality', line_close=True)\n",
    "fig.update_traces(fill='toself')\n",
    "fig.update_layout(title=\"Audio Control Panel\")\n",
    "fig.show()"
   ]
  },
  {
   "cell_type": "code",
   "execution_count": null,
   "metadata": {},
   "outputs": [],
   "source": [
    "## Navigational Radio\n",
    "fig = px.line_polar(df, r='Navigational Radio', theta='Quality', line_close=True)\n",
    "fig.update_traces(fill='toself')\n",
    "fig.update_layout(title=\"Navigational Radio\")\n",
    "fig.show()"
   ]
  },
  {
   "cell_type": "code",
   "execution_count": null,
   "metadata": {},
   "outputs": [],
   "source": [
    "## TCAS Transponder\n",
    "fig = px.line_polar(df, r='TCAS Transponder', theta='Quality', line_close=True)\n",
    "fig.update_traces(fill='toself')\n",
    "fig.update_layout(title=\"TCAS Transponder\")\n",
    "fig.show()"
   ]
  },
  {
   "cell_type": "code",
   "execution_count": null,
   "metadata": {},
   "outputs": [],
   "source": [
    "## Flight Controls Panel\n",
    "fig = px.line_polar(df, r='Flight Controls Panel', theta='Quality', line_close=True)\n",
    "fig.update_traces(fill='toself')\n",
    "fig.update_layout(title=\"Flight Controls Panel\")\n",
    "fig.show()"
   ]
  },
  {
   "cell_type": "code",
   "execution_count": null,
   "metadata": {},
   "outputs": [],
   "source": [
    "## EFIS Control Panel\n",
    "fig = px.line_polar(df, r='EFIS Control Panel', theta='Quality', line_close=True)\n",
    "fig.update_traces(fill='toself')\n",
    "fig.update_layout(title=\"EFIS Control Panel\")\n",
    "fig.show()"
   ]
  },
  {
   "cell_type": "code",
   "execution_count": null,
   "metadata": {},
   "outputs": [],
   "source": [
    "## Fuel Panel\n",
    "fig = px.line_polar(df, r='Fuel Panel', theta='Quality', line_close=True)\n",
    "fig.update_traces(fill='toself')\n",
    "fig.update_layout(title=\"Fuel Panel\")\n",
    "fig.show()"
   ]
  },
  {
   "cell_type": "code",
   "execution_count": null,
   "metadata": {},
   "outputs": [],
   "source": [
    "## Engine Display\n",
    "fig = px.line_polar(df, r='Engine Display', theta='Quality', line_close=True)\n",
    "fig.update_traces(fill='toself')\n",
    "fig.update_layout(title=\"Engine Display\")\n",
    "fig.show()"
   ]
  },
  {
   "cell_type": "code",
   "execution_count": null,
   "metadata": {},
   "outputs": [],
   "source": [
    "X = jitteredDf.iloc[:,1:].values"
   ]
  },
  {
   "cell_type": "code",
   "execution_count": null,
   "metadata": {},
   "outputs": [],
   "source": [
    "## Elbow method\n",
    "Error =[]\n",
    "for i in range(1, 11):\n",
    "    kmeans = KMeans(n_clusters = i).fit(X)\n",
    "    kmeans.fit(X)\n",
    "    Error.append(kmeans.inertia_)\n",
    "plt.plot(range(1, 11), Error)\n",
    "plt.title('Elbow method')\n",
    "plt.xlabel('No of clusters')\n",
    "plt.ylabel('Error')\n",
    "plt.show()"
   ]
  },
  {
   "cell_type": "code",
   "execution_count": null,
   "metadata": {},
   "outputs": [],
   "source": [
    "kPro = KPrototypes(n_clusters=3, max_iter=600, n_init=50, init='Cao')"
   ]
  },
  {
   "cell_type": "code",
   "execution_count": null,
   "metadata": {},
   "outputs": [],
   "source": [
    "kResult = kPro.fit_predict(jitteredDf, categorical=[0])"
   ]
  },
  {
   "cell_type": "code",
   "execution_count": null,
   "metadata": {},
   "outputs": [],
   "source": [
    "jitteredDf['Clusters'] = kResult"
   ]
  },
  {
   "cell_type": "code",
   "execution_count": null,
   "metadata": {},
   "outputs": [],
   "source": [
    "jitteredMelt2 = pd.melt(jitteredDf, id_vars=['Quality', 'Clusters'], var_name='Instruments')"
   ]
  },
  {
   "cell_type": "code",
   "execution_count": null,
   "metadata": {},
   "outputs": [],
   "source": [
    "fig = px.scatter(jitteredMelt2, x=\"Quality\", y=\"value\", color=\"Clusters\")\n",
    "fig.show()"
   ]
  }
 ],
 "metadata": {
  "kernelspec": {
   "display_name": "Python 3",
   "language": "python",
   "name": "python3"
  },
  "language_info": {
   "codemirror_mode": {
    "name": "ipython",
    "version": 3
   },
   "file_extension": ".py",
   "mimetype": "text/x-python",
   "name": "python",
   "nbconvert_exporter": "python",
   "pygments_lexer": "ipython3",
   "version": "3.7.6"
  }
 },
 "nbformat": 4,
 "nbformat_minor": 4
}
